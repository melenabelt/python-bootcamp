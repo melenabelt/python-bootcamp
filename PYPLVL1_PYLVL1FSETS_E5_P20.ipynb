{
  "cells": [
    {
      "cell_type": "markdown",
      "metadata": {
        "id": "view-in-github",
        "colab_type": "text"
      },
      "source": [
        "<a href=\"https://colab.research.google.com/github/melenabelt/python-bootcamp/blob/master/PYPLVL1_PYLVL1FSETS_E5_P20.ipynb\" target=\"_parent\"><img src=\"https://colab.research.google.com/assets/colab-badge.svg\" alt=\"Open In Colab\"/></a>"
      ]
    },
    {
      "cell_type": "markdown",
      "metadata": {
        "id": "f95p817qByaC"
      },
      "source": [
        "<p><img src=\"https://upload.wikimedia.org/wikipedia/commons/thumb/1/13/SoftServe_logo_2017.svg/179px-SoftServe_logo_2017.svg.png?20220507181101\" alt=\"\" width=\"363\" height=\"63\" /></p>\n",
        "\n",
        "----\n",
        "\n",
        "### **INFORMACIÓN TECNICA**\n",
        "* **ID:** PYPLVL1_PYLVL1FSETS_E5_P20\n",
        "* **Python Versión:** 3.x\n",
        "* **Versión:** 0.0.1\n",
        "---\n",
        "### **INTRODUCCIÓN**\n",
        "\n",
        "El objetivo de este taller es realizar la introducción a los sets asi como realizar ejercicios que ayuden a la comprensión y asimilación de los conceptos.\n",
        "\n",
        "### **QUE SE APRENDERA**\n",
        "\n",
        "- ¿Qué son los sets?.\n",
        "- Adición.\n",
        "- Actualización.\n",
        "- Descartación.\n",
        "- Exclusión de elementos.\n",
        "- Eliminar elementos.\n",
        "\n",
        "### **SETS**\n",
        "Un conjunto (set) es una colección desordenada de elementos sin entradas duplicadas. Cuando se imprime, itera o convierte en una secuencia, sus elementos aparecen arbitrariamente. Básicamente, los sets se utilizan para almacenar varios elementos en una sola variable. Set es uno de los 4 tipos de datos incorporados en Python que se utilizan para almacenar colecciones de datos, los otros 3 son lista, tupla y diccionarios, todos con diferentes calidades y usos.\n",
        "\n",
        "Un conjunto es una colección desordenada, inalterable y no indexada, es decir, los elementos establecidos no se pueden modificar, pero puede eliminar elementos y agregar elementos nuevos.\n",
        "\n",
        "**Nota**\n",
        "Los valores **True** y 1 se consideran el mismo valor en los sets y se tratan como duplicados.\n",
        "\n",
        "### **SINTAXIS**\n",
        "Definimos un set de la siguiente forma:\n",
        "```python\n",
        "ejemploSet = {\"apple\", \"banana\", \"cherry\", \"apple\"}\n",
        "```\n",
        "\n",
        "Como ya hemos dicho los sets no admiten valores duplicados, asi que, si imprimimos el conjunto, obtendremos la siguiente salida:\n",
        "```python\n",
        "{'cherry', 'apple', 'banana'}\n",
        "```\n",
        "\n",
        "### **AGREGAR ELEMENTOS A UN SET**\n",
        "Una vez que se crea un set, no se puede cambiar sus elementos, pero se pueden agregar nuevos elementos. Para agregar un elemento a un set, se usa el método add().\n",
        "\n",
        "**EJEMPLO**\n",
        "```python\n",
        "nuevoSet = {\"apple\", \"banana\", \"cherry\"}\n",
        "nuevoSet.add(\"orange\")\n",
        "\n",
        "{'orange', 'banana', 'cherry', 'apple'}\n",
        "```\n",
        "\n",
        "### **AGREGAR O SUMAR DOS SETS**\n",
        "Para agregar elementos de un conjunto a otro conjunto, se usa el método update().\n",
        "\n",
        "**EJEMPLO**\n",
        "```python\n",
        "primerSet = {\"apple\", \"banana\", \"cherry\"}\n",
        "segundoSet = {\"pineapple\", \"mango\", \"papaya\"}\n",
        "\n",
        "primerSet.update(segundoSet)\n",
        "\n",
        "{'banana', 'apple', 'cherry', 'pineapple', 'papaya', 'mango'}\n",
        "```\n",
        "\n",
        "El objeto en el método update() no tiene que ser un conjunto, puede ser cualquier objeto iterable (tuplas, listas, diccionarios, etc.).\n",
        "\n",
        "**EJEMPLO**\n",
        "```python\n",
        "primerSet = {\"apple\", \"banana\", \"cherry\"}\n",
        "miLista = [\"kiwi\", \"orange\"]\n",
        "\n",
        "primerSet.update(miLista)\n",
        "\n",
        "{'cherry', 'banana', 'kiwi', 'apple', 'orange'}\n",
        "```\n",
        "\n",
        "### **DESCARTACIÓN**\n",
        "El método discard() elimina un elemento especifico del conjunto. Este método es diferente del método remove(), porque el método remove() generará un error si el elemento especificado no existe, y el método discard() no lo hará.\n",
        "\n",
        "**EJEMPLO**\n",
        "```python\n",
        "unSet = {\"apple\", \"banana\", \"cherry\"}\n",
        "\n",
        "unSet.discard(\"banana\")\n",
        "\n",
        "{'cherry', 'apple'}\n",
        "```\n",
        "\n",
        "### **EXCLUIR UN ELEMENTO DE UN SET**\n",
        "El método pop() elimina un elemento aleatorio del conjunto. Este método devuelve el elemento eliminado.\n",
        "\n",
        "**EJEMPLO**\n",
        "```python\n",
        "unSet = {\"apple\", \"banana\", \"cherry\"}\n",
        "\n",
        "unSet.pop()\n",
        "\n",
        "{'banana', 'cherry'}\n",
        "{'apple', 'cherry'}\n",
        "{'cherry', 'apple'}\n",
        "```\n",
        "\n",
        "### **REMOVER O ELIMINAR ELEMENTOS DE UN SET**\n",
        "Para eliminar un elemento de un set, se utiliza el método remove().\n",
        "\n",
        "**EJEMPLO**\n",
        "```python\n",
        "unSet = {\"apple\", \"banana\", \"cherry\"}\n",
        "\n",
        "unSet.remove(\"banana\")\n",
        "\n",
        "{'apple', 'cherry'}\n",
        "```\n",
        "\n",
        "### **MÉTODOS DE LOS SET**\n",
        "Python tiene un conjunto de métodos integrados que puede usar en los sets.\n",
        "```python\n",
        "Método\tDescripción\n",
        "add() ---> Añade un elemento al set.\n",
        "clear() ---> Elimina todos los elementos del set.\n",
        "difference() ---> Devuelve un set que contiene la diferencia entre dos o  más sets.\n",
        "difference_update() ---> Elimina los elementos de un set que también están incluidos en otro set especificado.\n",
        "discard()\t---> Eliminar el elemento especificado.\n",
        "intersection() ---> Devuelve un set, que es la intersección de dos o más sets.\n",
        "intersection_update() ---> Elimina los elementos de este set que no están presentes en otros sets especificados.\n",
        "isdisjoint() ---> Devuelve si dos sets tienen una intersección o no\n",
        "issubset() ---> Devuelve si un set contiene otro set o no\n",
        "issuperset() ---> Devuelve si un set contiene otro set o no\n",
        "pop() ---> Elimina un elemento de un set.\n",
        "remove() ---> Elimina el elemento especificado\n",
        "symmetric_difference() ---> Devuelve un set con las diferencias simétricas de dos sets.\n",
        "symmetric_difference_update() ---> Inserta las diferencias simétricas de un set y otro\n",
        "union() ---> Devuelve un set que contiene la unión de sets\n",
        "update() ---> Actualiza el set con otro set, o cualquier otro iterable (lista, set, diccionario o tupla)\n",
        "```\n",
        "\n",
        "### **RESULTADOS ESPERADOS**\n",
        "```python\n",
        "  PYLVL1FSETS-1: tipo --> set, valor: {'apple'}\n",
        "  PYLVL1FSETS-2: tipo --> set, valor: 1. forma con operador :  {8, 6, 7}\n",
        "                                  2. forma con funcion  :  {8, 6, 7}\n",
        "  PYLVL1FSETS-3: tipo --> set, valor: {3, 4, 5}\n",
        "  PYLVL1FSETS-4: tipo --> set, valor: 0.01\n",
        "```\n",
        "\n",
        "**Reglas:**\n",
        "1. Este ejercicio es netamente educativo para que entienda mejor el concepto expuesto.\n",
        "2. No modifique la declaración de la función. El concepto detras de las funciones se verá mas adelante.\n",
        "3. Si no sigue alguna de estas reglas, el ejercicio será marcado como erroneo.\n",
        "\n",
        "\n",
        "# **EJERCICIOS**"
      ]
    },
    {
      "cell_type": "markdown",
      "metadata": {
        "id": "I1kgAOsTKqlx"
      },
      "source": [
        "<p>\n",
        "    <img src=\"https://cdn.icon-icons.com/icons2/1130/PNG/512/numberzeroinacircle_80181.png\" alt=\"01\" width=\"65\" height=\"65\" />\n",
        "    <img src=\"https://cdn.icon-icons.com/icons2/1130/PNG/512/numberoneinacircle_80030.png\" alt=\"01\" width=\"65\" height=\"65\" />\n",
        "</p>\n",
        "\n",
        "* **ID:** PYLVL1FSETS-01\n",
        "* **DESCRIPCIÓN:**\n",
        "\n",
        "  Dado el set **x = {\"apple\", \"banana\", \"cherry\"}** y la lista **y = [\"google\", \"microsoft\", \"apple\"]**. Escribir dentro de la función ``function`` la lógica para utilizar los metodos de los sets hasta ahora aprendidos para obtener un set con todos los elementos comunes entre la lista y el set.\n",
        "\n",
        "\\\n",
        "**Reglas:**\n",
        "1. No modifique la declaración de la función. El concepto detras de las funciones se verá mas adelante.\n",
        "2. Si no sigue alguna de estas reglas, el ejercicio será marcado como erroneo.\n",
        "3. mostrar y retornar los elementos comunes.\n",
        "\n",
        "\\\n",
        "**Respuesta Esperada:**\n",
        "\n",
        "```python\n",
        "# Mostrar y retornar los elementos comunes.\n",
        "print(elementos_comunes)\n",
        "return elementos_comunes\n",
        "\n",
        "```\n"
      ]
    },
    {
      "cell_type": "code",
      "execution_count": 4,
      "metadata": {
        "id": "U5sG3Z_2Meo3",
        "colab": {
          "base_uri": "https://localhost:8080/"
        },
        "outputId": "6481639c-2e33-42fb-8e04-426884ec554f"
      },
      "outputs": [
        {
          "output_type": "stream",
          "name": "stdout",
          "text": [
            "{'apple'}\n"
          ]
        },
        {
          "output_type": "execute_result",
          "data": {
            "text/plain": [
              "{'apple'}"
            ]
          },
          "metadata": {},
          "execution_count": 4
        }
      ],
      "source": [
        "from typing import Iterable\n",
        "\n",
        "def function(x: set, y: Iterable):\n",
        "    # print(x)\n",
        "    # print(y)\n",
        "    elementos_comunes = x & set(y)\n",
        "\n",
        "    print(elementos_comunes)\n",
        "\n",
        "    return elementos_comunes\n",
        "\n",
        "\n",
        "function({\"apple\", \"banana\", \"cherry\"}, [\"google\", \"microsoft\", \"apple\"])"
      ]
    },
    {
      "cell_type": "markdown",
      "metadata": {
        "id": "kiToUnqMNmJc"
      },
      "source": [
        "<p>\n",
        "    <img src=\"https://cdn.icon-icons.com/icons2/1130/PNG/512/numberzeroinacircle_80181.png\" alt=\"02\" width=\"65\" height=\"65\" />\n",
        "    <img src=\"https://cdn.icon-icons.com/icons2/1130/PNG/512/numbertwoinacircle_80299.png\" alt=\"02\" width=\"65\" height=\"65\" />\n",
        "</p>\n",
        "\n",
        "* **ID:** PYLVL1FSETS-02\n",
        "* **DESCRIPCIÓN:**\n",
        "\n",
        "  Dado los siguientes sets **set1= {1, 2, 3, 4, 5}** y **set2= {4, 5, 6, 7, 8}** Escribir dentro de la función ``function`` la lógica para aplicar dos formas diferentes para obtener e imprimir la diferencia entre ambos sets.\n",
        "\n",
        "\\\n",
        "**Reglas:**\n",
        "1. No modifique la declaración de la función. El concepto detras de las funciones se verá mas adelante.\n",
        "2. Si no sigue alguna de estas reglas, el ejercicio será marcado como erroneo.\n",
        "3. mostrar y retornar los elementos diferentes.\n",
        "\n",
        "\\\n",
        "**Respuesta Esperada:**\n",
        "\n",
        "```python\n",
        "# Mostrar y retornar los elementos comunes.\n",
        "print(elementos_diferentes_operacion_1, elementos_diferentes_operacion_2)\n",
        "return elementos_diferentes_operacion_1, elementos_diferentes_operacion_2\n",
        "\n",
        "```\n"
      ]
    },
    {
      "cell_type": "code",
      "execution_count": 5,
      "metadata": {
        "id": "PP9Ioa9TQ8dy",
        "colab": {
          "base_uri": "https://localhost:8080/"
        },
        "outputId": "93edc014-3369-4687-cb3e-075f274b42f8"
      },
      "outputs": [
        {
          "output_type": "stream",
          "name": "stdout",
          "text": [
            "{1, 2, 3} {1, 2, 3}\n"
          ]
        },
        {
          "output_type": "execute_result",
          "data": {
            "text/plain": [
              "({1, 2, 3}, {1, 2, 3})"
            ]
          },
          "metadata": {},
          "execution_count": 5
        }
      ],
      "source": [
        "def function(x: set, y: set):\n",
        "    # print(x)\n",
        "    # print(y)\n",
        "\n",
        "    elementos_diferentes_operacion_1 = x - y\n",
        "    elementos_diferentes_operacion_2 = x.difference(y)\n",
        "\n",
        "    print(elementos_diferentes_operacion_1, elementos_diferentes_operacion_2)\n",
        "\n",
        "    return elementos_diferentes_operacion_1, elementos_diferentes_operacion_2\n",
        "\n",
        "\n",
        "function({1, 2, 3, 4, 5}, {4, 5, 6, 7, 8})\n",
        "# function({1, 2, 9, 4, 0}, {0, 5, 6, 7, 1})"
      ]
    },
    {
      "cell_type": "markdown",
      "metadata": {
        "id": "N5EqgFikQH46"
      },
      "source": [
        "<p>\n",
        "    <img src=\"https://cdn.icon-icons.com/icons2/1130/PNG/512/numberzeroinacircle_80181.png\" alt=\"03\" width=\"65\" height=\"65\" />\n",
        "    <img src=\"https://cdn.icon-icons.com/icons2/1130/PNG/512/numberthreeinacircle_80289.png\" alt=\"03\" width=\"65\" height=\"65\" />\n",
        "</p>\n",
        "\n",
        "\n",
        "* **ID:** PYLVL1FSETS-03\n",
        "* **DESCRIPCIÓN:**\n",
        "\n",
        "  Teniendo en cuenta el set S y el set T, Escribir dentro de la función ``function`` la lógica para agregar los elemntos de T a S.\n",
        "\n",
        "  Ejemplo:\n",
        "  ```python\n",
        "  S = {1, 2, 3, 4}\n",
        "  T = {3, 4, 5, 6}\n",
        "  resultado = {1, 2, 3, 4, 5, 6}\n",
        "  ```\n",
        "\n",
        "\\\n",
        "**Reglas:**\n",
        "1. No modifique la declaración de la función. El concepto detras de las funciones se verá mas adelante.\n",
        "2. Si no sigue alguna de estas reglas, el ejercicio será marcado como erroneo.\n",
        "3. mostrar y retornar el conjunto resultante.\n",
        "\n",
        "\\\n",
        "**Respuesta Esperada:**\n",
        "\n",
        "```python\n",
        "# Mostrar y retornar el conjunto resultante.\n",
        "print(conjunto_ST)\n",
        "return conjunto_ST\n",
        "\n",
        "```\n"
      ]
    },
    {
      "cell_type": "code",
      "execution_count": 6,
      "metadata": {
        "id": "wenUGkHINCyq",
        "colab": {
          "base_uri": "https://localhost:8080/"
        },
        "outputId": "5f6cafec-b06b-4637-e1de-b50b089d21ab"
      },
      "outputs": [
        {
          "output_type": "stream",
          "name": "stdout",
          "text": [
            "{0, 1, 2, 3, 4, 5, 6, 8}\n"
          ]
        },
        {
          "output_type": "execute_result",
          "data": {
            "text/plain": [
              "{0, 1, 2, 3, 4, 5, 6, 8}"
            ]
          },
          "metadata": {},
          "execution_count": 6
        }
      ],
      "source": [
        "def function(S: set, T: set):\n",
        "    # print(S)\n",
        "    # print(T)\n",
        "    conjunto_ST = S.union(T)\n",
        "    print(conjunto_ST)\n",
        "\n",
        "    return conjunto_ST\n",
        "\n",
        "\n",
        "function({1, 2, 3, 4, 8, 0, 5}, {3, 4, 5, 6})"
      ]
    },
    {
      "cell_type": "markdown",
      "metadata": {
        "id": "FUESHrYcl5Om"
      },
      "source": [
        "<p>\n",
        "    <img src=\"https://cdn.icon-icons.com/icons2/1130/PNG/512/numberzeroinacircle_80181.png\" alt=\"04\" width=\"65\" height=\"65\" />\n",
        "    <img src=\"https://cdn.icon-icons.com/icons2/1130/PNG/512/numberfourincircularbutton_80047.png\" alt=\"04\" width=\"65\" height=\"65\" />\n",
        "</p>\n",
        "\n",
        "\n",
        "* **ID:** PYLVL1FSETS-04\n",
        "* **DESCRIPCIÓN:**\n",
        "\n",
        "  Dentro de la función ``function`` cree dos sets distintos, donde el segundo set sea un subset del primero y demuestre que el segundo set es un subset del primero.\n",
        "\n",
        "\\\n",
        "**Reglas:**\n",
        "1. No modifique la declaración de la función. El concepto detras de las funciones se verá mas adelante.\n",
        "2. Si no sigue alguna de estas reglas, el ejercicio será marcado como erroneo.\n",
        "3. mostrar y retornar si el `set 2` es subset del `set 1`.\n",
        "\n",
        "\\\n",
        "**Respuesta Esperada:**\n",
        "\n",
        "```python\n",
        "# Mostrar y retornar si el `set 2` es subset del `set 1`.\n",
        "print(es_subset_o_no)\n",
        "return es_subset_o_no\n",
        "\n",
        "```\n",
        "\n",
        "\n"
      ]
    },
    {
      "cell_type": "code",
      "execution_count": 7,
      "metadata": {
        "id": "4kZX3b9om0ah",
        "colab": {
          "base_uri": "https://localhost:8080/"
        },
        "outputId": "ae69414e-eb5f-4811-b3ef-e85143cb83bb"
      },
      "outputs": [
        {
          "output_type": "stream",
          "name": "stdout",
          "text": [
            "True\n"
          ]
        },
        {
          "output_type": "execute_result",
          "data": {
            "text/plain": [
              "True"
            ]
          },
          "metadata": {},
          "execution_count": 7
        }
      ],
      "source": [
        "inputs = [(None,)]\n",
        "\n",
        "def function(__unused):\n",
        "    set1 = {\"amarillo\", \"azul\", \"rojo\", \"verde\"}\n",
        "    set2 = {\"azul\", \"verde\"}\n",
        "    # print(set1)\n",
        "    # print(set2)\n",
        "\n",
        "    es_subset_o_no = set2.issubset(set1)\n",
        "    print(es_subset_o_no)\n",
        "\n",
        "    return es_subset_o_no\n",
        "\n",
        "\n",
        "function(None)"
      ]
    },
    {
      "cell_type": "markdown",
      "metadata": {
        "id": "gPYhoT54oIWg"
      },
      "source": [
        "<p>\n",
        "    <img src=\"https://cdn.icon-icons.com/icons2/1130/PNG/512/numberzeroinacircle_80181.png\" alt=\"05\" width=\"65\" height=\"65\" />\n",
        "    <img src=\"https://cdn.icon-icons.com/icons2/1130/PNG/512/numberfiveincircularbutton_80245.png\" alt=\"05\" width=\"65\" height=\"65\" />\n",
        "</p>\n",
        "\n",
        "\n",
        "* **ID:** PYLVL1FSETS-05\n",
        "* **DESCRIPCIÓN:**\n",
        "\n",
        "  Escribir dentro de la función ``function`` la lógica para encontrar los valores máximo y mínimos de un set otorgado como parametro c on nombre `conjunto`.\n",
        "\n",
        "\n",
        "\\\n",
        "**Reglas:**\n",
        "1. No modifique la declaración de la función. El concepto detras de las funciones se verá mas adelante.\n",
        "2. Si no sigue alguna de estas reglas, el ejercicio será marcado como erroneo.\n",
        "3. Mostrar y retornar maximos y minimos.\n",
        "\n",
        "\n",
        "\\\n",
        "**Respuesta Esperada:**\n",
        "\n",
        "```python\n",
        "# Mostrar y retornar maximos y minimos.\n",
        "print(maximo, minimo)\n",
        "return maximo, minimo\n",
        "\n",
        "```\n"
      ]
    },
    {
      "cell_type": "code",
      "execution_count": 8,
      "metadata": {
        "id": "ph22teESoNhq",
        "colab": {
          "base_uri": "https://localhost:8080/"
        },
        "outputId": "69a31e7e-5b7d-4607-9f79-08f63b70958e"
      },
      "outputs": [
        {
          "output_type": "stream",
          "name": "stdout",
          "text": [
            "20 2\n"
          ]
        },
        {
          "output_type": "execute_result",
          "data": {
            "text/plain": [
              "(20, 2)"
            ]
          },
          "metadata": {},
          "execution_count": 8
        }
      ],
      "source": [
        "def function(conjunto):\n",
        "    # print(conjunto)\n",
        "    maximo = max(conjunto)\n",
        "    minimo = min(conjunto)\n",
        "\n",
        "    print(maximo, minimo)\n",
        "\n",
        "    return maximo, minimo\n",
        "\n",
        "\n",
        "function({5, 10, 3, 15, 2, 20})"
      ]
    }
  ],
  "metadata": {
    "colab": {
      "provenance": [],
      "include_colab_link": true
    },
    "kernelspec": {
      "display_name": "Python 3",
      "name": "python3"
    },
    "language_info": {
      "codemirror_mode": {
        "name": "ipython",
        "version": 3
      },
      "file_extension": ".py",
      "mimetype": "text/x-python",
      "name": "python",
      "nbconvert_exporter": "python",
      "pygments_lexer": "ipython3",
      "version": "3.9.12"
    }
  },
  "nbformat": 4,
  "nbformat_minor": 0
}