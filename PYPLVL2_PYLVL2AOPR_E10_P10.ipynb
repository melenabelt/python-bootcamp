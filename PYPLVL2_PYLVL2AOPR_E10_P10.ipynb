{
  "cells": [
    {
      "cell_type": "markdown",
      "metadata": {
        "id": "view-in-github",
        "colab_type": "text"
      },
      "source": [
        "<a href=\"https://colab.research.google.com/github/melenabelt/python-bootcamp/blob/master/PYPLVL2_PYLVL2AOPR_E10_P10.ipynb\" target=\"_parent\"><img src=\"https://colab.research.google.com/assets/colab-badge.svg\" alt=\"Open In Colab\"/></a>"
      ]
    },
    {
      "cell_type": "markdown",
      "metadata": {
        "id": "f95p817qByaC"
      },
      "source": [
        "<p><img src=\"https://upload.wikimedia.org/wikipedia/commons/thumb/1/13/SoftServe_logo_2017.svg/179px-SoftServe_logo_2017.svg.png?20220507181101\" alt=\"\" width=\"363\" height=\"63\" /></p>\n",
        "\n",
        "----\n",
        "\n",
        "### **INFORMACIÓN TÉCNICA**\n",
        "* **ID:** PYPLVL2_PYLVL2AOPR_E10_P10\n",
        "* **Python Versión:** 3.x\n",
        "* **Versión:** 0.0.1\n",
        "---\n",
        "### **INTRODUCCIÓN**\n",
        "\n",
        "En este módulo se ejercitará todo lo concerniente a los operadores lógicos, tanto de asignación, igualación, diferente, mayor y menor.\n",
        "\n",
        "#### Operadores de comparación\n",
        "En Python, los operadores de comparación se utilizan para comparar valores y devuelven resultados booleanos (`True` o `False`) basados en la comparación. Estos operadores te permiten realizar varios tipos de comparaciones entre variables, literales o expresiones. El resultado de una operación de comparación siempre es un valor booleano.\n",
        "\n",
        "Los operadores de comparación se utilizan ampliamente en sentencias condicionales (`if`, `elif`, `else`) y bucles para tomar decisiones basadas en diferentes condiciones. Son esenciales para crear lógica y controlar el flujo del programa en función de los resultados de las comparaciones.\n",
        "\n",
        "#### Operadores de identidad\n",
        "En Python, los operadores de identidad se utilizan para comparar las direcciones de memoria de dos objetos y determinar si hacen referencia al mismo objeto o no. Estos operadores son `is` y `is not`. Se utilizan para comprobar si dos variables u objetos apuntan a la misma ubicación de memoria, lo que indica que son el mismo objeto en memoria.\n",
        "\n",
        "Los operadores de identidad son útiles cuando deseas comparar si dos variables hacen referencia al mismo objeto o a objetos diferentes en memoria. Son distintos de los operadores de comparación (`==` y `!=`), que comparan los valores de los objetos y no sus direcciones de memoria.\n",
        "\n",
        "#### Operadores de pertenencia\n",
        "En Python, los operadores de pertenencia se utilizan para comprobar si un valor existe dentro de una secuencia (como una lista, tupla, cadena o conjunto). Permiten verificar si un elemento específico está presente en la secuencia y devolver un valor booleano (Verdadero o Falso) en función del resultado de la prueba.\n",
        "\n",
        "Hay dos operadores de pertenencia en Python: `in` y `not in`\n",
        "\n",
        "### **QUÉ SE APRENDERÁ**\n",
        "\n",
        "#### Operadores de comparación\n",
        "- Igual a `==`: <br/>\n",
        "  El operador de igualdad `==` compara dos operandos y devuelve `True` si son iguales, y `False` si no lo son.<br/>\n",
        "  Ejemplo:\n",
        "  ```python\n",
        "  x = 5\n",
        "  y = 10\n",
        "  resultado = x == y  # Resultado: False\n",
        "\n",
        "  ```\n",
        "\n",
        "- Distinto de `!=`: <br/>\n",
        "  El operador de distinto de `!=` compara dos operandos y devuelve `True` si no son iguales, y `False` si son iguales.<br/>\n",
        "  Ejemplo:\n",
        "  ```python\n",
        "  a = 7\n",
        "  b = 7\n",
        "  resultado = a != b  # Resultado: False\n",
        "\n",
        "  ```\n",
        "\n",
        "- Mayor que `>` y Menor que `<`:<br/>\n",
        "  El operador mayor que `>` compara dos operandos y devuelve `True` si el operando izquierdo es mayor que el operando derecho. El operador menor que `<` devuelve `True` si el operando izquierdo es menor que el operando derecho.<br/>\n",
        "  Ejemplo:\n",
        "  ```python\n",
        "  m = 15\n",
        "  n = 20\n",
        "  resultado1 = m > n  # Resultado: False\n",
        "  resultado2 = m < n  # Resultado: True\n",
        "\n",
        "  ```\n",
        "\n",
        "- Mayor o igual que `>=` y Menor o igual que `<=`:<br/>\n",
        "  El operador mayor o igual que `>=` compara dos operandos y devuelve `True` si el operando izquierdo es mayor o igual que el operando derecho. El operador menor o igual que `<=` devuelve `True` si el operando izquierdo es menor o igual que el operando derecho.<br/>\n",
        "  Ejemplo:\n",
        "  ```python\n",
        "  p = 25\n",
        "  q = 25\n",
        "  resultado1 = p >= q  # Resultado: True\n",
        "  resultado2 = p <= q  # Resultado: True\n",
        "\n",
        "  ```\n",
        "\n",
        "#### Operadores de identidad\n",
        "- Operador `is`:<br/>\n",
        "  El operador `is` devuelve `True` si la dirección de memoria de dos objetos es la misma, lo que indica que ambas variables u objetos hacen referencia al mismo objeto en memoria. Si las direcciones de memoria son diferentes, devuelve `False`.<br/>\n",
        "  Ejemplo:\n",
        "  ```python\n",
        "  x = [1, 2, 3]\n",
        "  y = x\n",
        "  resultado = x is y  # Resultado: True\n",
        "\n",
        "  ```\n",
        "  En este ejemplo, x e y son dos variables que hacen referencia al mismo objeto de lista en memoria, por lo que el operador is devuelve `True`.\n",
        "\n",
        "- Operador `is not`:<br/>\n",
        "  El operador `is not` devuelve `True` si la dirección de memoria de dos objetos es diferente, lo que indica que no son el mismo objeto en memoria. Si las direcciones de memoria son iguales, devuelve `False`.<br/>\n",
        "  Ejemplo:\n",
        "  ```python\n",
        "  a = [1, 2, 3]\n",
        "  b = [1, 2, 3]\n",
        "  resultado = a is not b  # Resultado: True\n",
        "\n",
        "  ```\n",
        "\n",
        "- La función `isinstance()`:\n",
        "  En Python, se utiliza para comprobar si un objeto pertenece a una determinada clase o tipo de datos. Esta función devuelve `True` si el objeto es una instancia de la clase especificada o de cualquier subclase de dicha clase. Si el objeto no es una instancia de la clase indicada, devuelve `False`.\n",
        "\n",
        "  La sintaxis de la función `isinstance()` es la siguiente:\n",
        "  ```python\n",
        "  isinstance(objeto, tipo_de_dato)\n",
        "\n",
        "  ```\n",
        "  * **objeto**: Es el objeto que se desea comprobar.\n",
        "  * **tipo_de_dato**: Es la clase o tipo de datos con el cual se quiere verificar la instancia.\n",
        "\n",
        "  Por ejemplo, si queremos verificar si una variable x es un número entero, podemos usar ``isinstance()`` de la siguiente manera:\n",
        "  ```python\n",
        "  x = 5\n",
        "  if isinstance(x, int):\n",
        "      print(\"La variable x es un número entero.\")\n",
        "  else:\n",
        "      print(\"La variable x no es un número entero.\")\n",
        "\n",
        "  ```\n",
        "  En este caso, como ``x`` es igual a 5 y 5 es un número entero, la función `isinstance(x, int)` devuelve `True`, y el mensaje \"La variable x es un número entero.\" se imprimirá en la pantalla.\n",
        "\n",
        "  `isinstance()` es útil cuando se quiere asegurar que un objeto tiene un determinado tipo de datos antes de realizar ciertas operaciones o cuando se necesita manejar diferentes tipos de objetos de manera específica dentro del código.\n",
        "\n",
        "#### Operadores de pertenencia\n",
        "- Operador `in`:<br/>\n",
        "  Este operador devuelve Verdadero si el valor se encuentra en la secuencia; de lo contrario, devuelve Falso.\n",
        "\n",
        "- Operador `not in`:<br/>\n",
        "  Este operador devuelve Verdadero si el valor no se encuentra en la secuencia; de lo contrario, devuelve Falso.\n",
        "\n",
        "  Aquí tienes un ejemplo de cómo funcionan estos operadores:\n",
        "\n",
        "  ```python\n",
        "  # Definir una lista de números\n",
        "  numeros = [1, 2, 3, 4, 5]\n",
        "\n",
        "  # Probar la pertenencia usando el operador 'in'\n",
        "  print(3 in numeros)    # Salida: Verdadero\n",
        "  print(6 in numeros)    # Salida: Falso\n",
        "\n",
        "  # Probar la pertenencia usando el operador 'not in'\n",
        "  print(3 not in numeros)    # Salida: Falso\n",
        "  print(6 not in numeros)    # Salida: Verdadero\n",
        "  ```\n",
        "\n",
        "\n",
        "\n",
        "\n",
        "# **EJERCICIOS**"
      ]
    },
    {
      "cell_type": "markdown",
      "metadata": {
        "id": "I1kgAOsTKqlx"
      },
      "source": [
        "<p>\n",
        "    <img src=\"https://cdn.icon-icons.com/icons2/1130/PNG/512/numberzeroinacircle_80181.png\" alt=\"01\" width=\"65\" height=\"65\" />\n",
        "    <img src=\"https://cdn.icon-icons.com/icons2/1130/PNG/512/numberoneinacircle_80030.png\" alt=\"01\" width=\"65\" height=\"65\" />\n",
        "</p>\n",
        "\n",
        "* **ID:** PYLVL2AOPR-01\n",
        "* **DESCRIPCIÓN:** Operadores lógicos\n",
        "\n",
        "    Escribir dentro de la función ``function`` la lógica para:\n",
        "\n",
        "    Dados dos parametros `A = número` y `B = número`.\n",
        "\n",
        "    Valide si A es mayor que B.\n",
        "\n",
        "\\\n",
        "**Reglas:**\n",
        "1. No modifique la declaración de la función. El concepto detrás de las funciones se verá mas adelante.\n",
        "2. Si no sigue alguna de estas reglas, el ejercicio será marcado como erróneo.\n",
        "\n",
        "\\\n",
        "**Respuesta Esperada:**\n",
        "\n",
        "```python\n",
        "return resultado_comparacion\n",
        "```"
      ]
    },
    {
      "cell_type": "code",
      "execution_count": null,
      "metadata": {
        "id": "5auZD8_L3L4V",
        "colab": {
          "base_uri": "https://localhost:8080/"
        },
        "outputId": "6c0da5e8-ea8f-4825-e444-fcda9a20da30"
      },
      "outputs": [
        {
          "output_type": "execute_result",
          "data": {
            "text/plain": [
              "False"
            ]
          },
          "metadata": {},
          "execution_count": 56
        }
      ],
      "source": [
        "def function(a, b):\n",
        "  return a > b\n",
        "\n",
        "function(5, 10)"
      ]
    },
    {
      "cell_type": "markdown",
      "metadata": {
        "id": "kiToUnqMNmJc"
      },
      "source": [
        "<p>\n",
        "    <img src=\"https://cdn.icon-icons.com/icons2/1130/PNG/512/numberzeroinacircle_80181.png\" alt=\"02\" width=\"65\" height=\"65\" />\n",
        "    <img src=\"https://cdn.icon-icons.com/icons2/1130/PNG/512/numbertwoinacircle_80299.png\" alt=\"02\" width=\"65\" height=\"65\" />\n",
        "</p>\n",
        "\n",
        "* **ID:** PYLVL2AOPR-02\n",
        "* **DESCRIPCIÓN:** Operadores lógicos\n",
        "\n",
        "    Escribir dentro de la función ``function`` la lógica para:\n",
        "\n",
        "    Dados dos parametros `A = número` y `B = número`.\n",
        "\n",
        "    Valide si A es menor que B.\n",
        "\n",
        "\\\n",
        "**Reglas:**\n",
        "1. No modifique la declaración de la función. El concepto detrás de las funciones se verá mas adelante.\n",
        "2. Si no sigue alguna de estas reglas, el ejercicio será marcado como erróneo.\n",
        "\n",
        "\\\n",
        "**Respuesta Esperada:**\n",
        "\n",
        "```python\n",
        "return resultado_comparacion\n",
        "```\n"
      ]
    },
    {
      "cell_type": "code",
      "execution_count": null,
      "metadata": {
        "colab": {
          "base_uri": "https://localhost:8080/"
        },
        "id": "PP9Ioa9TQ8dy",
        "outputId": "0c98d3c7-8f02-40bf-85d8-7fb8b099f666"
      },
      "outputs": [
        {
          "output_type": "execute_result",
          "data": {
            "text/plain": [
              "True"
            ]
          },
          "metadata": {},
          "execution_count": 57
        }
      ],
      "source": [
        "def function(a, b):\n",
        "   return a < b\n",
        "\n",
        "function(5, 10)"
      ]
    },
    {
      "cell_type": "markdown",
      "metadata": {
        "id": "N5EqgFikQH46"
      },
      "source": [
        "<p>\n",
        "    <img src=\"https://cdn.icon-icons.com/icons2/1130/PNG/512/numberzeroinacircle_80181.png\" alt=\"03\" width=\"65\" height=\"65\" />\n",
        "    <img src=\"https://cdn.icon-icons.com/icons2/1130/PNG/512/numberthreeinacircle_80289.png\" alt=\"03\" width=\"65\" height=\"65\" />\n",
        "</p>\n",
        "\n",
        "\n",
        "* **ID:** PYLVL2AOPR-03\n",
        "* **DESCRIPCIÓN:** Operadores lógicos\n",
        "\n",
        "    Escribir dentro de la función ``function`` la lógica para:\n",
        "\n",
        "    * Dados dos parametros `A = número` y `B = número`.\n",
        "\n",
        "    * Imprima la validación  A es igual a B.\n",
        "\n",
        "    * Asigne el valor de B a la variable A y verifique nuevamente si son iguales.\n",
        "\n",
        "\\\n",
        "**Reglas:**\n",
        "1. No modifique la declaración de la función. El concepto detrás de las funciones se verá mas adelante.\n",
        "2. Si no sigue alguna de estas reglas, el ejercicio será marcado como erróneo.\n",
        "\n",
        "\\\n",
        "**Respuesta Esperada:**\n",
        "\n",
        "```python\n",
        "return resultado_comparacion\n",
        "```\n"
      ]
    },
    {
      "cell_type": "code",
      "execution_count": null,
      "metadata": {
        "colab": {
          "base_uri": "https://localhost:8080/"
        },
        "id": "wenUGkHINCyq",
        "outputId": "bb79259d-4488-468b-ef62-1b5b26536de2"
      },
      "outputs": [
        {
          "output_type": "stream",
          "name": "stdout",
          "text": [
            "False\n"
          ]
        },
        {
          "output_type": "execute_result",
          "data": {
            "text/plain": [
              "True"
            ]
          },
          "metadata": {},
          "execution_count": 58
        }
      ],
      "source": [
        "def function(a, b):\n",
        "    print(a == b)\n",
        "    a = b\n",
        "    return a == b\n",
        "\n",
        "function(5, 10)"
      ]
    },
    {
      "cell_type": "markdown",
      "metadata": {
        "id": "FUESHrYcl5Om"
      },
      "source": [
        "<p>\n",
        "    <img src=\"https://cdn.icon-icons.com/icons2/1130/PNG/512/numberzeroinacircle_80181.png\" alt=\"04\" width=\"65\" height=\"65\" />\n",
        "    <img src=\"https://cdn.icon-icons.com/icons2/1130/PNG/512/numberfourincircularbutton_80047.png\" alt=\"04\" width=\"65\" height=\"65\" />\n",
        "</p>\n",
        "\n",
        "\n",
        "* **ID:** PYLVL2AOPR-04\n",
        "* **DESCRIPCIÓN:** Operadores lógicos\n",
        "\n",
        "    Escribir dentro de la función ``function`` la lógica para:\n",
        "\n",
        "    * Dados dos parametros `A = número` y `B = número`.\n",
        "\n",
        "    * Imprima la validacion  A es diferente a B.\n",
        "\n",
        "    * Asigne a la variable A el valor de B y verifique nuevamente.\n",
        "\n",
        "\\\n",
        "**Reglas:**\n",
        "1. No modifique la declaración de la función. El concepto detrás de las funciones se verá mas adelante.\n",
        "2. Si no sigue alguna de estas reglas, el ejercicio será marcado como erróneo.\n",
        "\n",
        "\\\n",
        "**Respuesta Esperada:**\n",
        "\n",
        "```python\n",
        "return resultado_comparacion\n",
        "```\n"
      ]
    },
    {
      "cell_type": "code",
      "execution_count": null,
      "metadata": {
        "cellView": "form",
        "colab": {
          "base_uri": "https://localhost:8080/"
        },
        "id": "4kZX3b9om0ah",
        "outputId": "ed113996-62e8-436c-dfa4-cd03ef1e6287"
      },
      "outputs": [
        {
          "output_type": "stream",
          "name": "stdout",
          "text": [
            "False\n"
          ]
        },
        {
          "output_type": "execute_result",
          "data": {
            "text/plain": [
              "False"
            ]
          },
          "metadata": {},
          "execution_count": 59
        }
      ],
      "source": [
        "def function(a, b):\n",
        "    print(a != b)\n",
        "    a = b\n",
        "    return a != b\n",
        "\n",
        "function(10, 10)"
      ]
    },
    {
      "cell_type": "markdown",
      "metadata": {
        "id": "oVJP_fSh3L4Y"
      },
      "source": [
        "<p>\n",
        "    <img src=\"https://cdn.icon-icons.com/icons2/1130/PNG/512/numberzeroinacircle_80181.png\" alt=\"05\" width=\"65\" height=\"65\" />\n",
        "    <img src=\"https://cdn.icon-icons.com/icons2/1130/PNG/512/numberfiveincircularbutton_80245.png\" alt=\"05\" width=\"65\" height=\"65\" />\n",
        "</p>\n",
        "\n",
        "\n",
        "* **ID:** PYLVL2AOPR-05\n",
        "* **DESCRIPCIÓN:** Operadores lógicos\n",
        "\n",
        "    Escribir dentro de la función ``function`` la lógica para:\n",
        "\n",
        "    * Dados dos parametros string: `a = \"Me gusta Python\"`, `b = \"Python is cool \"`\n",
        "\n",
        "    * Tome la longitud de cada una guardela cada longitud en una variable y verifique si son iguales\n",
        "\n",
        "\\\n",
        "**Reglas:**\n",
        "1. No modifique la declaración de la función. El concepto detrás de las funciones se verá mas adelante.\n",
        "2. Si no sigue alguna de estas reglas, el ejercicio será marcado como erróneo.\n",
        "\n",
        "\\\n",
        "**Respuesta Esperada:**\n",
        "\n",
        "```python\n",
        "return resultado_comparacion\n",
        "```"
      ]
    },
    {
      "cell_type": "code",
      "execution_count": null,
      "metadata": {
        "colab": {
          "base_uri": "https://localhost:8080/"
        },
        "id": "_Lzl9Q283L4Y",
        "outputId": "3096edb1-caf0-476e-cad8-d9ea18b6bdef"
      },
      "outputs": [
        {
          "output_type": "execute_result",
          "data": {
            "text/plain": [
              "True"
            ]
          },
          "metadata": {},
          "execution_count": 60
        }
      ],
      "source": [
        "def function(a, b):\n",
        "    long_a = len(a)\n",
        "    long_b = len(b)\n",
        "    return long_a == long_b\n",
        "\n",
        "function(\"Me gusta Python\", \"Python is cool \")"
      ]
    },
    {
      "cell_type": "markdown",
      "metadata": {
        "id": "B5snm5R73L4Z"
      },
      "source": [
        "<p>\n",
        "    <img src=\"https://cdn.icon-icons.com/icons2/1130/PNG/512/numberzeroinacircle_80181.png\" alt=\"06\" width=\"65\" height=\"65\" />\n",
        "    <img src=\"https://cdn.icon-icons.com/icons2/1130/PNG/512/numbersixinacircle_80203.png\" alt=\"06\" width=\"65\" height=\"65\" />\n",
        "</p>\n",
        "\n",
        "\n",
        "* **ID:** PYLVL2AOPR-06\n",
        "* **DESCRIPCIÓN:** Operadores lógicos\n",
        "    \n",
        "    * Escribir dentro de la función ``function`` la lógica que permita intercambiar los valores de dos variables:<br/>\n",
        "\n",
        "    **Ejemplo:**\n",
        "    ```python\n",
        "    a = 7\n",
        "    b = 82\n",
        "\n",
        "    # Respuesta\n",
        "    a = 82\n",
        "    b = 7\n",
        "    ```\n",
        "\n",
        "    * Imprimir los valores antes y despúes del intercambio y retornar los valores intercambiados.\n",
        "\n",
        "\\\n",
        "**Reglas:**\n",
        "1. No modifique la declaración de la función. El concepto detrás de las funciones se verá más adelante.\n",
        "2. Si no sigue alguna de estas reglas, el ejercicio será marcado como erróneo.\n",
        "\n",
        "\\\n",
        "**Respuesta Esperada:**\n",
        "\n",
        "```python\n",
        "# Imprimir los valores antes y despúes del intercambio y retornar los valores intercambiados.\n",
        "print(a_original, b_original)\n",
        "print(a_intercambiada, b_intercambiada)\n",
        "return a_intercambiada, b_intercambiada\n",
        "\n",
        "```\n"
      ]
    },
    {
      "cell_type": "code",
      "execution_count": null,
      "metadata": {
        "colab": {
          "base_uri": "https://localhost:8080/"
        },
        "id": "h7fkWIWl3L4Z",
        "outputId": "ea8a0fac-8193-49d3-b355-35672285385d"
      },
      "outputs": [
        {
          "output_type": "stream",
          "name": "stdout",
          "text": [
            "a=7, b=82\n",
            "a_intercambiada=82, b_intercambiada=7\n"
          ]
        },
        {
          "output_type": "execute_result",
          "data": {
            "text/plain": [
              "(82, 7)"
            ]
          },
          "metadata": {},
          "execution_count": 61
        }
      ],
      "source": [
        "def function(a, b):\n",
        "\n",
        "    a_intercambiada = int(b)\n",
        "    b_intercambiada = int(a)\n",
        "\n",
        "    print(f\"a={a}, b={b}\")\n",
        "    print(f\"a_intercambiada={a_intercambiada}, b_intercambiada={b_intercambiada}\")\n",
        "    return a_intercambiada, b_intercambiada\n",
        "\n",
        "\n",
        "function(7, 82)"
      ]
    },
    {
      "cell_type": "markdown",
      "metadata": {
        "id": "othhyUUG3L4Z"
      },
      "source": [
        "<p>\n",
        "    <img src=\"https://cdn.icon-icons.com/icons2/1130/PNG/512/numberzeroinacircle_80181.png\" alt=\"07\" width=\"65\" height=\"65\" />\n",
        "    <img src=\"https://cdn.icon-icons.com/icons2/1130/PNG/512/numberseveninacircle_80279.png\" alt=\"07\" width=\"65\" height=\"65\" />\n",
        "</p>\n",
        "\n",
        "* **ID:** PYLVL2AOPR-07\n",
        "* **DESCRIPCIÓN:** Operadores lógicos\n",
        "\n",
        "  Dentro de la función ``function`` escribir la lógica para lo siguiente:\n",
        "  \n",
        "  * Dada una lista de números, y un número ingresado como parámetro, evalue si el número ingresado está incluido en la lista de números. Retornar el resultado obtenido.\n",
        "\n",
        "  **Nota**: La lista de números a evaluar y el número serán dados como parámetros `lista` y `num` de la función respectivamente. Retornar los resultados obtenidos e imprimir si `num` se encuentra dentro de `lista`.\n",
        "\n",
        "\\\n",
        "**Reglas:**\n",
        "1. No modifique la declaración de la función. El concepto detrás de las funciones se verá más adelante.\n",
        "2. Si no sigue alguna de estas reglas, el ejercicio será marcado como erróneo.\n",
        "\n",
        "\\\n",
        "**Respuesta Esperada:**\n",
        "\n",
        "```python\n",
        "return True/False\n",
        "```"
      ]
    },
    {
      "cell_type": "code",
      "execution_count": null,
      "metadata": {
        "colab": {
          "base_uri": "https://localhost:8080/"
        },
        "id": "e7XCSnvl3L4Z",
        "outputId": "7508f216-0377-4adc-af28-31ff68ceea68"
      },
      "outputs": [
        {
          "output_type": "execute_result",
          "data": {
            "text/plain": [
              "True"
            ]
          },
          "metadata": {},
          "execution_count": 62
        }
      ],
      "source": [
        "def function(lista, num):\n",
        "    return num in lista\n",
        "\n",
        "function([1, 9, 9, 3, 9], 9)"
      ]
    },
    {
      "cell_type": "markdown",
      "metadata": {
        "id": "-UH9wOzs3L4Z"
      },
      "source": [
        "<p>\n",
        "    <img src=\"https://cdn.icon-icons.com/icons2/1130/PNG/512/numberzeroinacircle_80181.png\" alt=\"08\" width=\"65\" height=\"65\" />\n",
        "    <img src=\"https://cdn.icon-icons.com/icons2/1130/PNG/512/numbereightinacircle_80071.png\" alt=\"08\" width=\"65\" height=\"65\" />\n",
        "</p>\n",
        "\n",
        "* **ID:** PYLVL2AOPR-08\n",
        "* **DESCRIPCIÓN:** Operadores lógicos\n",
        "\n",
        "  Dentro de la función ``function`` escribir la lógica para lo siguiente:\n",
        "  \n",
        "  * Dada una lista de números, y un número ingresado como parámetro, evalue si el número ingresado no está incluido en la lista de números.\n",
        "\n",
        "  **Nota**: La lista de números a evaluar y el número serán dados como parámetros de la función. Retornar e imprimir una los resultados obtenidos.\n",
        "\n",
        "\\\n",
        "**Reglas:**\n",
        "1. No modifique la declaración de la función. El concepto detrás de las funciones se verá más adelante.\n",
        "2. Si no sigue alguna de estas reglas, el ejercicio será marcado como erróneo.\n",
        "\n",
        "\\\n",
        "**Respuesta Esperada:**\n",
        "\n",
        "```python\n",
        "return True/False\n",
        "```\n"
      ]
    },
    {
      "cell_type": "code",
      "execution_count": null,
      "metadata": {
        "colab": {
          "base_uri": "https://localhost:8080/"
        },
        "id": "a2R1dhcq3L4Z",
        "outputId": "7f880f0b-07d5-4ec7-c7bc-e29e0cd1582e"
      },
      "outputs": [
        {
          "output_type": "execute_result",
          "data": {
            "text/plain": [
              "False"
            ]
          },
          "metadata": {},
          "execution_count": 63
        }
      ],
      "source": [
        "def function(lista, num):\n",
        "    return num not in lista\n",
        "\n",
        "function([1, 9, 9, 3, 9], 9)"
      ]
    },
    {
      "cell_type": "markdown",
      "metadata": {
        "id": "bts7Hc4Y3L4Z"
      },
      "source": [
        "<p>\n",
        "    <img src=\"https://cdn.icon-icons.com/icons2/1130/PNG/512/numberzeroinacircle_80181.png\" alt=\"09\" width=\"65\" height=\"65\" />\n",
        "    <img src=\"https://cdn.icon-icons.com/icons2/1130/PNG/512/numbernineinacircle_80218.png\" alt=\"09\" width=\"65\" height=\"65\" />\n",
        "</p>\n",
        "\n",
        "* **ID:** PYLVL2AOPR-09\n",
        "* **DESCRIPCIÓN:** Operadores lógicos\n",
        "\n",
        "  Dentro de la función ``function`` escribir la lógica para:\n",
        "  \n",
        "  * Utilizando el operador not para determinar sí un elemento se encuentra dentro de una lista.\n",
        "\n",
        "  **Nota**: La `lista` y el `elemento` a evaluar serán dados como parámetros de la función. Retornar true si el elemento NO se encuentra en la lista.\n",
        "\n",
        "\\\n",
        "**Reglas:**\n",
        "1. No modifique la declaración de la función. El concepto detrás de las funciones se verá más adelante.\n",
        "2. Si no sigue alguna de estas reglas, el ejercicio será marcado como erróneo.\n",
        "\n",
        "\\\n",
        "**Respuesta Esperada:**\n",
        "\n",
        "```python\n",
        "return True/False\n",
        "```\n"
      ]
    },
    {
      "cell_type": "code",
      "execution_count": null,
      "metadata": {
        "colab": {
          "base_uri": "https://localhost:8080/"
        },
        "id": "t4mE8bLJ3L4Z",
        "outputId": "ebd26a77-935f-4559-8165-62d325ba6d0c"
      },
      "outputs": [
        {
          "output_type": "execute_result",
          "data": {
            "text/plain": [
              "False"
            ]
          },
          "metadata": {},
          "execution_count": 64
        }
      ],
      "source": [
        "def function(lista, elemento):\n",
        "    return elemento not in lista\n",
        "\n",
        "function([\"Python\", \"C#\", \"Ruby\", \"Scala\", \"Js\"], \"Js\")"
      ]
    },
    {
      "cell_type": "markdown",
      "metadata": {
        "id": "WmiR86GE3L4Z"
      },
      "source": [
        "<p>\n",
        "    <img src=\"https://cdn.icon-icons.com/icons2/1130/PNG/512/numberoneinacircle_80030.png\" alt=\"10\" width=\"65\" height=\"65\" />\n",
        "    <img src=\"https://cdn.icon-icons.com/icons2/1130/PNG/512/numberzeroinacircle_80181.png\" alt=\"10\" width=\"65\" height=\"65\" />\n",
        "</p>\n",
        "\n",
        "* **ID:** PYLVL2AOPR-10\n",
        "* **DESCRIPCIÓN:** Clasificación de Grupos de Edad\n",
        "\n",
        "    Dentro de la función ``function`` escribir la lógica para que a partir de dos parámetros dados:\n",
        "    * `valor`: un valor cualquiera.\n",
        "    * `tipo`: un tipo de dato primitivo o complejo [`int`, `float`, ...]\n",
        "\n",
        "    Se retorne si el `valor` pertenece a ese `tipo` o no.\n",
        "\n",
        "    **Nota*: Recuerde, puede abordar este ejercicio de dos formas distintas.\n",
        "\n",
        "\\\n",
        "**Reglas:**\n",
        "1. No modifique la declaración de la función. El concepto detrás de las funciones se verá más adelante.\n",
        "2. Si no sigue alguna de estas reglas, el ejercicio será marcado como erróneo.\n",
        "\n",
        "\\\n",
        "**Respuesta Esperada:**\n",
        "\n",
        "```python\n",
        "return True/False\n",
        "```\n"
      ]
    },
    {
      "cell_type": "code",
      "execution_count": null,
      "metadata": {
        "colab": {
          "base_uri": "https://localhost:8080/"
        },
        "id": "9avkSu4b3L4a",
        "outputId": "ad39a3b4-ab42-43b3-fbcb-257d43ecc9ed"
      },
      "outputs": [
        {
          "output_type": "execute_result",
          "data": {
            "text/plain": [
              "True"
            ]
          },
          "metadata": {},
          "execution_count": 65
        }
      ],
      "source": [
        "def function(valor, tipo):\n",
        "    return isinstance(valor, tipo)\n",
        "\n",
        "function(1, int)"
      ]
    }
  ],
  "metadata": {
    "colab": {
      "provenance": [],
      "include_colab_link": true
    },
    "kernelspec": {
      "display_name": "Python 3",
      "name": "python3"
    },
    "language_info": {
      "codemirror_mode": {
        "name": "ipython",
        "version": 3
      },
      "file_extension": ".py",
      "mimetype": "text/x-python",
      "name": "python",
      "nbconvert_exporter": "python",
      "pygments_lexer": "ipython3",
      "version": "3.9.12"
    }
  },
  "nbformat": 4,
  "nbformat_minor": 0
}