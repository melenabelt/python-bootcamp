{
  "cells": [
    {
      "cell_type": "markdown",
      "metadata": {
        "id": "view-in-github",
        "colab_type": "text"
      },
      "source": [
        "<a href=\"https://colab.research.google.com/github/melenabelt/python-bootcamp/blob/master/PYPLVL2_PYLVL2CCOND_E11_P15.ipynb\" target=\"_parent\"><img src=\"https://colab.research.google.com/assets/colab-badge.svg\" alt=\"Open In Colab\"/></a>"
      ]
    },
    {
      "cell_type": "markdown",
      "metadata": {
        "id": "f95p817qByaC"
      },
      "source": [
        "<p><img src=\"https://upload.wikimedia.org/wikipedia/commons/thumb/1/13/SoftServe_logo_2017.svg/179px-SoftServe_logo_2017.svg.png?20220507181101\" alt=\"\" width=\"363\" height=\"63\" /></p>\n",
        "\n",
        "----\n",
        "\n",
        "### **INFORMACIÓN TÉCNICA**\n",
        "* **ID:** PYPLVL2_PYLVL2CCOND_E11_P15\n",
        "* **Python Versión:** 3.x\n",
        "* **Versión:** 0.0.1\n",
        "---\n",
        "### **INTRODUCCIÓN**\n",
        "\n",
        "Las estructuras condicionales, también conocidas como estructuras de control, te permiten controlar el flujo de tu programa en Python en función de ciertas condiciones. Son esenciales para tomar decisiones y ejecutar diferentes bloques de código dependiendo de si una condición es verdadera o falsa.\n",
        "\n",
        "Las principales estructuras condicionales en Python son: `if`, `elif` y `else`\n",
        "\n",
        "Es posible realizar la asignación de valores a variables utilizando una estructura de decisión por medio de la siguiente sentencia:\n",
        "```python\n",
        "variable = 'valor_1' if condicion else 'valor_2'\n",
        "\n",
        "```\n",
        "Ejemplo:\n",
        "```python\n",
        "edad = 20\n",
        "categoria = \"niño\" if edad < 20 else \"adulto\"\n",
        "\n",
        "# Como la condición es False, por lo tanto, se le asigna \"adulto\" a la variable categoria\n",
        "```\n",
        "Esta notación para expresar una esctructura condicional en una sola línea sólo permite el formato visto en el ejemplo:<br/>\n",
        "\n",
        "[valor si True] `if` [condicion] `else` [valor si False]\n",
        "\n",
        "#### Operadores lógicos\n",
        "Los operadores lógicos se utilizan para realizar operaciones lógicas sobre valores booleanos (True y False). Los operadores lógicos te permiten combinar múltiples expresiones booleanas y evaluarlas para obtener un resultado booleano final. En Python, existen tres operadores lógicos principales: `and`, `or` y `not`.\n",
        "\n",
        "Los operadores lógicos se utilizan comúnmente en estructuras de control como las sentencias `if` y en bucles para tomar decisiones basadas en múltiples condiciones. Son esenciales para crear expresiones condicionales complejas en programas de Python.\n",
        "\n",
        "### **QUÉ SE APRENDERÁ**\n",
        "\n",
        "- Sentencia `if`: <br/>\n",
        "  La sentencia `if` se utiliza para verificar una condición y ejecutar un bloque de código si la condición es verdadera.\n",
        "\n",
        "- Sentencia `else`: <br/>\n",
        "  La sentencia `else` se empareja con una sentencia `if` y proporciona un bloque de código alternativo para ejecutar cuando la condición del `if` es falsa.\n",
        "\n",
        "- Sentencia `elif`: <br/>\n",
        "  Abreviatura de \"else if\", la sentencia `elif` te permite verificar condiciones adicionales si las condiciones `if` o `elif` anteriores son falsas.\n",
        "\n",
        "  Aquí hay un ejemplo simple para ilustrar las estructuras condicionales en Python:\n",
        "\n",
        "  ```python\n",
        "  # Solicitar la edad al usuario\n",
        "  edad = int(input(\"Ingresa tu edad: \"))\n",
        "\n",
        "  # Verificar la edad y proporcionar diferentes respuestas\n",
        "  if edad < 18:\n",
        "      print(\"Eres menor de edad.\")\n",
        "  elif edad >= 18 and edad < 65:\n",
        "      print(\"Eres adulto.\")\n",
        "  else:\n",
        "      print(\"Eres una persona mayor.\")\n",
        "  ```\n",
        "\n",
        "  En este ejemplo, el programa toma la edad del usuario como entrada y utiliza las sentencias if, elif y else para determinar el grupo de edad y mostrar un mensaje apropiado.\n",
        "\n",
        "#### Operadores lógicos\n",
        "- Operador `and`:<br/>\n",
        "  El operador `and` devuelve True si ambos operandos son `True`, de lo contrario, devuelve `False`. Su comportamiento es el siguiente:\n",
        "  - `True and True` evalúa a `True`\n",
        "  - `True and False` evalúa a `False`\n",
        "  - `False and True` evalúa a `False`\n",
        "  - `False and False` evalúa a `False`\n",
        "\n",
        "  Ejemplo:\n",
        "  ```python\n",
        "  x = 5\n",
        "  y = 10\n",
        "  resultado = (x < y) and (x != y)  # Resultado: True\n",
        "\n",
        "  ```\n",
        "\n",
        "- Operador `or`:<br/>\n",
        "  El operador `or` devuelve `True` si al menos uno de los operandos es True, de lo contrario, devuelve `False`. Su comportamiento es el siguiente:\n",
        "  - True or True evalúa a True\n",
        "  - True or False evalúa a True\n",
        "  - False or True evalúa a True\n",
        "  - False or False evalúa a False\n",
        "\n",
        "  Ejemplo:\n",
        "  ```python\n",
        "  a = True\n",
        "  b = False\n",
        "  resultado = a or b  # Resultado: True\n",
        "  ```\n",
        "\n",
        "- Operador `not`:<br/>\n",
        "  El operador `not` es un operador unario que niega el valor booleano. Si el operando es `True`, not devuelve `False`, y si el operando es `False`, not devuelve `True`.<br/>\n",
        "  Ejemplo:\n",
        "  ```python\n",
        "  esta_lloviendo = False\n",
        "  resultado = not esta_lloviendo  # Resultado: True\n",
        "\n",
        "  ```\n",
        "\n",
        "# **EJERCICIOS**"
      ]
    },
    {
      "cell_type": "markdown",
      "metadata": {
        "id": "I1kgAOsTKqlx"
      },
      "source": [
        "<p>\n",
        "    <img src=\"https://cdn.icon-icons.com/icons2/1130/PNG/512/numberzeroinacircle_80181.png\" alt=\"01\" width=\"65\" height=\"65\" />\n",
        "    <img src=\"https://cdn.icon-icons.com/icons2/1130/PNG/512/numberoneinacircle_80030.png\" alt=\"01\" width=\"65\" height=\"65\" />\n",
        "</p>\n",
        "\n",
        "* **ID:** PYLVL2CCOND-01\n",
        "* **DESCRIPCIÓN:** Estructuras condicionales\n",
        "\n",
        "    Escribir dentro del cuerpo de la función ``function`` la lógica que determine si el año introducido es un año bisiesto o no. Sabiendo que…\n",
        "\n",
        "    1. Si el año es uniformemente divisible por 4, vaya al paso 2. De lo contrario, vaya al paso 5.\n",
        "    2. Si el año es uniformemente divisible por 100, vaya al paso 3. De lo contrario, vaya al paso 4.\n",
        "    3. Si el año es uniformemente divisible por 400, vaya al paso 4. De lo contrario, vaya al paso 5.\n",
        "    4. El año es un año bisiesto (tiene 366 días).\n",
        "    5. El año no es un año bisiesto (tiene 365 días).\n",
        "\n",
        "    Imprima si el año es bisiesto o no, y retorne el año si es bisieto ó retorne `None` si no lo es.\n",
        "\n",
        "**Reglas:**\n",
        "1. No modifique la declaración ni la invocación de la función. El concepto detrás de las funciones se verá más adelante.\n",
        "2. Si no sigue alguna de estas reglas, el ejercicio será marcado como erróneo.\n",
        "3. Imprima si el año es bisiesto o no, y retorne el año si es bisieto o retorne None si no lo es.\n",
        "\n",
        "\\\n",
        "**Respuesta Esperada:**\n",
        "\n",
        "```python\n",
        "# Imprima si el año es bisiesto o no, y retorne el año si es bisieto ó retorne None si no lo es.\n",
        "\n",
        "return el año si es bisieto ó retorne None si no lo es.  \n",
        "\n",
        "```"
      ]
    },
    {
      "cell_type": "code",
      "execution_count": 69,
      "metadata": {
        "id": "fEVBPe9i1okN",
        "colab": {
          "base_uri": "https://localhost:8080/"
        },
        "outputId": "5f9ee5de-639c-40dc-80b6-c2ee52e98d98"
      },
      "outputs": [
        {
          "output_type": "stream",
          "name": "stdout",
          "text": [
            "2000 es un año bisiesto.\n"
          ]
        },
        {
          "output_type": "execute_result",
          "data": {
            "text/plain": [
              "2000"
            ]
          },
          "metadata": {},
          "execution_count": 69
        }
      ],
      "source": [
        "def function(year):\n",
        "    is_leap_year = None\n",
        "    if (year % 4 == 0 and year % 100 != 0) or (year % 400 == 0):\n",
        "      print(f\"{year} es un año bisiesto.\")\n",
        "      is_leap_year = True\n",
        "    else:\n",
        "      print(f\"{year} no es un año bisiesto.\")\n",
        "\n",
        "    return year if is_leap_year else None\n",
        "\n",
        "function(2000)"
      ]
    },
    {
      "cell_type": "markdown",
      "metadata": {
        "id": "kiToUnqMNmJc"
      },
      "source": [
        "<p>\n",
        "    <img src=\"https://cdn.icon-icons.com/icons2/1130/PNG/512/numberzeroinacircle_80181.png\" alt=\"02\" width=\"65\" height=\"65\" />\n",
        "    <img src=\"https://cdn.icon-icons.com/icons2/1130/PNG/512/numbertwoinacircle_80299.png\" alt=\"02\" width=\"65\" height=\"65\" />\n",
        "</p>\n",
        "\n",
        "\n",
        "* **ID:** PYLVL2CCOND-02\n",
        "* **DESCRIPCIÓN:** Estructuras condicionales\n",
        "\n",
        "    Escribir dentro del cuerpo de la función ``function`` la lógica que permita resolver el siguiente ejercicio.\n",
        "\n",
        "    Imaginemos que en nuestra tienda hay un carnet por puntos y que alguién debe pagar un precio_final_de_compra de acuerdo a unas condiciones.\n",
        "    \n",
        "      1. Si el dueño del carnet tiene menos de 100 puntos realizaremos un descuento del 10%.\n",
        "      2. Si el dueño del carnet tiene un número de puntos que sea mayor o igual a 100 y menor o igual a 150 aplicamos un descuento del 12%.\n",
        "      3. Si el dueño del carnet tiene un número de puntos igual a 150 haremos un descuento de 15%.\n",
        "      4. Sino, para el resto de los casos de más de 150, un descuento de 20%.\n",
        "      \n",
        "      Los puntos y el precio de compra serán dados como parámetros de entrada de la función. Calcular el precio final de la compra.\n",
        "\n",
        "    Verificar que la variable puntos no sea nula, si es nula el descuento será de 0%.\n",
        "\n",
        "    Imprima el valor inicial, los puntos, el descuento y el precio_final_de_compra con sus respectivos indicadores, precio compra $ 1..., descuento (dos decimales * 100) %, ...\n",
        "\n",
        "    La variable puntos debe ser un entero al final del codigo que escriba.\n",
        "\n",
        "\\\n",
        "**Reglas:**\n",
        "1. No modifique la declaración de la función. El concepto detrás de las funciones se verá más adelante.\n",
        "2. Si no sigue alguna de estas reglas, el ejercicio será marcado como erróneo.\n",
        "3. Retornar el descuento y el precio_final_de_compra.\n",
        "\n",
        "\\\n",
        "**Respuesta Esperada:**\n",
        "\n",
        "```python\n",
        "# Retornar el descuento y el precio_final_de_compra.\n",
        "\n",
        "return descuento, precio_final_de_compra\n",
        "\n",
        "```\n"
      ]
    },
    {
      "cell_type": "code",
      "execution_count": 70,
      "metadata": {
        "id": "PP9Ioa9TQ8dy",
        "colab": {
          "base_uri": "https://localhost:8080/"
        },
        "outputId": "042b3495-53dc-460d-b038-cfa454b8b48a"
      },
      "outputs": [
        {
          "output_type": "stream",
          "name": "stdout",
          "text": [
            "3500 250 20.0 2800.0\n"
          ]
        },
        {
          "output_type": "execute_result",
          "data": {
            "text/plain": [
              "(0.2, 2800.0)"
            ]
          },
          "metadata": {},
          "execution_count": 70
        }
      ],
      "source": [
        "def function(puntos, precio_de_compra):\n",
        "    descuento = 0\n",
        "    if puntos is None:\n",
        "      descuento = 0\n",
        "    elif puntos == 0 or puntos < 100:\n",
        "      descuento = 0.1\n",
        "    elif 150 >= puntos >= 100:\n",
        "      descuento = 0.12\n",
        "      if puntos == 150:\n",
        "        descuento = 0.15\n",
        "    elif puntos > 150:\n",
        "      descuento = 0.2\n",
        "\n",
        "    precio_final_de_compra = precio_de_compra - (precio_de_compra * descuento)\n",
        "    print(precio_de_compra, puntos, descuento * 100, precio_final_de_compra)\n",
        "\n",
        "\n",
        "    return descuento, precio_final_de_compra\n",
        "\n",
        "\n",
        "function(250, 3500)"
      ]
    },
    {
      "cell_type": "markdown",
      "metadata": {
        "id": "N5EqgFikQH46"
      },
      "source": [
        "<p>\n",
        "    <img src=\"https://cdn.icon-icons.com/icons2/1130/PNG/512/numberzeroinacircle_80181.png\" alt=\"03\" width=\"65\" height=\"65\" />\n",
        "    <img src=\"https://cdn.icon-icons.com/icons2/1130/PNG/512/numberthreeinacircle_80289.png\" alt=\"03\" width=\"65\" height=\"65\" />\n",
        "</p>\n",
        "\n",
        "\n",
        "* **ID:** PYLVL2CCOND-03\n",
        "* **DESCRIPCIÓN:** Condicionales de identidad.\n",
        "\n",
        "    Dada una lista de N elementos y una variable cualquiera, escribir dentro del cuerpo de la función ``function`` la lógica que permita hacer lo siguiente:\n",
        "\n",
        "    1. Verifique que la variable no sea nula, si es nula retornar False.\n",
        "    2. Verifique que la variable sea iterable (list, tuple, str), si lo es retornar False a menos de que sea un str, en ese caso imprima el valor de la variable y continúe con la ejecución.\n",
        "    3. Verifique si la variable se encuentra dentro de la lista y retorne la verificación.\n",
        "\n",
        "\\\n",
        "**Reglas:**\n",
        "1. No modifique la declaración de la función ni su invocación. El concepto detras de las funciones se verá más adelante.\n",
        "2. Si no sigue alguna de estas reglas, el ejercicio será marcado como erróneo.\n",
        "\n",
        "\\\n",
        "**Respuesta Esperada:**\n",
        "```python\n",
        "return False/True\n",
        "```"
      ]
    },
    {
      "cell_type": "code",
      "execution_count": 71,
      "metadata": {
        "id": "wenUGkHINCyq",
        "colab": {
          "base_uri": "https://localhost:8080/"
        },
        "outputId": "5c363623-b6f9-43a5-c725-9d5bb4f8b284"
      },
      "outputs": [
        {
          "output_type": "stream",
          "name": "stdout",
          "text": [
            "S\n"
          ]
        },
        {
          "output_type": "execute_result",
          "data": {
            "text/plain": [
              "True"
            ]
          },
          "metadata": {},
          "execution_count": 71
        }
      ],
      "source": [
        "def function(lista, variable):\n",
        "    if variable is None:\n",
        "      return False\n",
        "    if isinstance(variable, (list, tuple)):\n",
        "      return False\n",
        "    if isinstance(variable, str):\n",
        "      print(variable)\n",
        "    if variable in lista:\n",
        "      return True\n",
        "\n",
        "\n",
        "function([None, 'A', 'B', 'S', 1, 2.0, 3, True], 'S')"
      ]
    },
    {
      "cell_type": "markdown",
      "metadata": {
        "id": "FUESHrYcl5Om"
      },
      "source": [
        "<p>\n",
        "    <img src=\"https://cdn.icon-icons.com/icons2/1130/PNG/512/numberzeroinacircle_80181.png\" alt=\"04\" width=\"65\" height=\"65\" />\n",
        "    <img src=\"https://cdn.icon-icons.com/icons2/1130/PNG/512/numberfourincircularbutton_80047.png\" alt=\"04\" width=\"65\" height=\"65\" />\n",
        "</p>\n",
        "\n",
        "\n",
        "* **ID:** PYLVL2CCOND-04\n",
        "* **DESCRIPCIÓN:** Estructuras condicionales.\n",
        "\n",
        "    Escribir dentro del cuerpo de la función ``function`` la lógica para lo siguiente:\n",
        "    \n",
        "    Construya una calculadora básica que permita realizar el cálculo de la suma de los cuadrados de los catetos de un triángulo, vigilando que ningún cateto sea menor o igual a cero. Si se da el caso, usted deberá imprimir Error y la razon del error. Adicionalmente, usted deberá verificar que los catetos sean números enteros (int) ó números de punto flotante (float), si no lo son, usted deberá imprimir Error y retornar 0.\n",
        "\n",
        "\\\n",
        "**Reglas:**\n",
        "1. No modifique la declaración de la función, ni su invocación. El concepto detras de las funciones se verá más adelante.\n",
        "2. Si no sigue alguna de estas reglas, el ejercicio será marcado como erróneo.\n",
        "3. Retornar el valor de la hipotenusa de un triangulo. Si uno de los catetos es menor o igual a cero debe imprimir el Error y retornar cero como valor.\n",
        "\n",
        "\\\n",
        "**Respuesta Esperada:**\n",
        "\n",
        "```python\n",
        "# Retornar el valor de la hipotenusa de un triangulo. Si uno de los catetos es menor o igual a cero debe imprimir el Error y retornar como valor cero.\n",
        "\n",
        "return hipotenusa ó 0\n",
        "```\n"
      ]
    },
    {
      "cell_type": "code",
      "execution_count": 72,
      "metadata": {
        "cellView": "form",
        "id": "4kZX3b9om0ah",
        "colab": {
          "base_uri": "https://localhost:8080/"
        },
        "outputId": "8777fa23-b3b4-4b2e-c571-f2d26f99c19e"
      },
      "outputs": [
        {
          "output_type": "execute_result",
          "data": {
            "text/plain": [
              "4.707440918375927"
            ]
          },
          "metadata": {},
          "execution_count": 72
        }
      ],
      "source": [
        "def function(cateto_1, cateto_2):\n",
        "\n",
        "    if not isinstance(cateto_1, (int, float)) or not isinstance(cateto_2, (int, float)):\n",
        "      print(\"Error. Los catetos deben ser enteros o flotantes\")\n",
        "      return 0\n",
        "\n",
        "    if cateto_1 <= 0 or cateto_2 <= 0:\n",
        "      print(\"Error. Los catetos deben ser mayores que cero\")\n",
        "      return 0\n",
        "\n",
        "    hipotenusa = ((cateto_1 ** 2) + (cateto_2 ** 2)) ** 0.5\n",
        "    return hipotenusa\n",
        "\n",
        "\n",
        "function(1, 4.6)"
      ]
    },
    {
      "cell_type": "markdown",
      "metadata": {
        "id": "JSKR31ha1okP"
      },
      "source": [
        "<p>\n",
        "    <img src=\"https://cdn.icon-icons.com/icons2/1130/PNG/512/numberzeroinacircle_80181.png\" alt=\"05\" width=\"65\" height=\"65\" />\n",
        "    <img src=\"https://cdn.icon-icons.com/icons2/1130/PNG/512/numberfiveincircularbutton_80245.png\" alt=\"05\" width=\"65\" height=\"65\" />\n",
        "</p>\n",
        "\n",
        "\n",
        "* **ID:** PYLVL2CCOND-05\n",
        "* **DESCRIPCIÓN:** Estructuras condicionales.\n",
        "\n",
        "    Dados dos parámetros `A` y `B` que contienen valores numéricos y pueden ser nulos. Escribir dentro del cuerpo de la función ``function`` la lógica para realizar lo siguiente:\n",
        "\n",
        "    1. Verificar si A o B son ó no son nulos. Si alguno lo es, deberá imprimir un mensaje donde indique cuál es el nulo y deberá retornar False.\n",
        "    2. Verificar si A es mayor o igual que B, si no lo es, retornar False e imprimir el mensaje \"A es menor a B\".\n",
        "    3. Si A es mayor o igual que B, además deberá :\n",
        "        1. Imprimir el mensaje \"A es mayor o igual que B\".\n",
        "        2. Adicional si A es mayor o igual que B usted debe verificar si A es multiplo de B y retornar el resultado de esta verificación.\n",
        "    5. Retorne el resultado de las condiciones.\n",
        "\n",
        "\\\n",
        "**Reglas:**\n",
        "1. No modifique la declaración de la función ni su invocación. El concepto detrás de las funciones se verá más adelante.\n",
        "2. Si no sigue alguna de estas reglas, el ejercicio será marcado como erróneo.\n",
        "\n",
        "\n",
        "\\\n",
        "**Respuesta Esperada:**\n",
        "```python\n",
        "# Retorne el resultado de las condiciones.\n",
        "\n",
        "return False/True\n",
        "```"
      ]
    },
    {
      "cell_type": "code",
      "execution_count": 73,
      "metadata": {
        "id": "f_vCiuK_1okP",
        "colab": {
          "base_uri": "https://localhost:8080/"
        },
        "outputId": "2cd24a5f-2430-4c0f-b112-7e81f0e404cc"
      },
      "outputs": [
        {
          "output_type": "execute_result",
          "data": {
            "text/plain": [
              "False"
            ]
          },
          "metadata": {},
          "execution_count": 73
        }
      ],
      "source": [
        "def function(A, B):\n",
        "    if A is None:\n",
        "      print(\"A es nulo\")\n",
        "      return False\n",
        "    elif B is None:\n",
        "      print(\"B es nulo\")\n",
        "      return False\n",
        "\n",
        "    if A >= B:\n",
        "      print(\"A es mayor o igual que B\")\n",
        "      if A % B == 0:\n",
        "        print(\"A es múltiplo de B\")\n",
        "        return True\n",
        "    else:\n",
        "      return False\n",
        "      print(\"A es menor a B\")\n",
        "\n",
        "\n",
        "function(2, 3)"
      ]
    },
    {
      "cell_type": "markdown",
      "metadata": {
        "id": "Ig9Jj54f1okP"
      },
      "source": [
        "<p>\n",
        "    <img src=\"https://cdn.icon-icons.com/icons2/1130/PNG/512/numberzeroinacircle_80181.png\" alt=\"06\" width=\"65\" height=\"65\" />\n",
        "    <img src=\"https://cdn.icon-icons.com/icons2/1130/PNG/512/numbersixinacircle_80203.png\" alt=\"06\" width=\"65\" height=\"65\" />\n",
        "</p>\n",
        "\n",
        "\n",
        "* **ID:** PYLVL2CCOND-06\n",
        "* **DESCRIPCIÓN:** Estructuras condicionales.\n",
        "\n",
        "    Dado el parámetro `number`, usted deberá escribir dentro del cuerpo de la función ``function`` la lógica para completar el código para que se imprima el ultimo dígito del parámetro number bajo las siguientes condiciones:\n",
        "\n",
        "    * Debe imprimir el string \"el último digito de\", seguido por el número, seguido por el string \"es\", seguido por el último dígito del número, seguido por un string adicional que será dado por las siguientes condiciones:.\n",
        "      * Si el último dígito del número es mayor que 5, el string será \"y es mayor que 5\" .\n",
        "      * Si el último dígito es 0: el string será \"y es 0\".\n",
        "      * Si el último dígito es menor que 6 y diferente de 0: el string será \"y es menor que 6 y diferente de 0\".\n",
        "\n",
        "    **Qué debe retornar?:**\n",
        "    1. Retornar el último dígito si es menor que 6 y diferente de 0.\n",
        "    2. Retornar \"0\" si el último dígito es 0.\n",
        "    3. Retornar el último dígito al cuadrado si es mayor que 5.\n",
        "    4. Imprimir siempre un mensaje haciendo saber que condición se cumplió.\n",
        "\n",
        "\\\n",
        "**Reglas:**\n",
        "1. No modifique la declaración de la función. El concepto detrás de las funciones se verá más adelante.\n",
        "2. Si no sigue alguna de estas reglas, el ejercicio será marcado como erróneo.\n",
        "\n",
        "\\\n",
        "**Respuesta Esperada:**\n",
        "```python\n",
        "return resultado_condicion\n",
        "```\n"
      ]
    },
    {
      "cell_type": "code",
      "execution_count": 74,
      "metadata": {
        "id": "UJ4Od-7A1okP",
        "colab": {
          "base_uri": "https://localhost:8080/"
        },
        "outputId": "8fb9e078-d82d-4c8c-a63d-7805049f7bc2"
      },
      "outputs": [
        {
          "output_type": "stream",
          "name": "stdout",
          "text": [
            "el último digito de 203 es 3 y es menor que 6 y diferente de 0\n"
          ]
        },
        {
          "output_type": "execute_result",
          "data": {
            "text/plain": [
              "3"
            ]
          },
          "metadata": {},
          "execution_count": 74
        }
      ],
      "source": [
        "def function(number):\n",
        "    number_str = str(number)\n",
        "\n",
        "    if int(number_str[-1]) > 5:\n",
        "      string = \"y es mayor que 5\"\n",
        "      resultado = int(number_str[-1]) ** 2\n",
        "    elif int(number_str[-1]) == 0:\n",
        "      string = \"y es 0\"\n",
        "      resultado = 0\n",
        "    elif int(number_str[-1]) < 6 and int(number_str[-1]) != 0:\n",
        "      string = \"y es menor que 6 y diferente de 0\"\n",
        "      resultado = int(number_str[-1])\n",
        "\n",
        "    print(\"el último digito de\", str(number), \"es\", str(number_str[-1]), string)\n",
        "    return resultado\n",
        "\n",
        "function(203)"
      ]
    },
    {
      "cell_type": "markdown",
      "metadata": {
        "id": "UGKKFYbj1okP"
      },
      "source": [
        "<p>\n",
        "    <img src=\"https://cdn.icon-icons.com/icons2/1130/PNG/512/numberzeroinacircle_80181.png\" alt=\"07\" width=\"65\" height=\"65\" />\n",
        "    <img src=\"https://cdn.icon-icons.com/icons2/1130/PNG/512/numberseveninacircle_80279.png\" alt=\"07\" width=\"65\" height=\"65\" />\n",
        "</p>\n",
        "\n",
        "\n",
        "* **ID:** PYLVL2CCOND-07\n",
        "* **DESCRIPCIÓN:** Estructuras condicionales.\n",
        "\n",
        "    Dentro del cuerpo de la función ``function`` cree un código que dados dos parámetros: nombre, apellido; se valide si ambos son strings cumpliendo lo siguiente:\n",
        "\n",
        "    1. `first_name` and `last_name` (los parámetros) deben ser strings si esta condición no se cumple imprima un mensaje de error que diga \"first_name debe ser string\" para el nombre y \"last_name debe ser string\" para el apellido.\n",
        "    2. Si ambas variables son strings imprima el nombre y apellido.\n",
        "\n",
        "    Retornar `True` si se cumplen todas las condiciones, si no, retorne un numero según la condicion que no se cumplió.\n",
        "\n",
        "    * (2) si el `first_name` no es string\n",
        "    * (3) si el `last_name` no es string\n",
        "\n",
        "\n",
        "\\\n",
        "**Reglas:**\n",
        "1. No modifique la declaración de la función. El concepto detrás de las funciones se verá más adelante.\n",
        "2. Si no sigue alguna de estas reglas, el ejercicio será marcado como erróneo.\n",
        "\n",
        "\\\n",
        "**Respuesta Esperada:**\n",
        "```python\n",
        "return True/2/3\n",
        "```"
      ]
    },
    {
      "cell_type": "code",
      "execution_count": 75,
      "metadata": {
        "id": "cpoNAS0b1okP",
        "colab": {
          "base_uri": "https://localhost:8080/"
        },
        "outputId": "2019340b-1b82-461e-c01c-e9c9ad48ee6d"
      },
      "outputs": [
        {
          "output_type": "stream",
          "name": "stdout",
          "text": [
            "John Doe\n"
          ]
        },
        {
          "output_type": "execute_result",
          "data": {
            "text/plain": [
              "True"
            ]
          },
          "metadata": {},
          "execution_count": 75
        }
      ],
      "source": [
        "def function(first_name, last_name):\n",
        "    if isinstance(first_name, str) and isinstance(last_name, str):\n",
        "      print(first_name, last_name)\n",
        "      return True\n",
        "    else:\n",
        "      if not isinstance(first_name, str):\n",
        "        print(\"first_name debe ser string\")\n",
        "        return 2\n",
        "      elif not isinstance(last_name, str):\n",
        "        print(\"last_name debe ser string\")\n",
        "        return 3\n",
        "\n",
        "\n",
        "function(\"John\", \"Doe\")"
      ]
    },
    {
      "cell_type": "markdown",
      "metadata": {
        "id": "ULKk7DQu1okP"
      },
      "source": [
        "<p>\n",
        "    <img src=\"https://cdn.icon-icons.com/icons2/1130/PNG/512/numberzeroinacircle_80181.png\" alt=\"08\" width=\"65\" height=\"65\" />\n",
        "    <img src=\"https://cdn.icon-icons.com/icons2/1130/PNG/512/numbereightinacircle_80071.png\" alt=\"08\" width=\"65\" height=\"65\" />\n",
        "</p>\n",
        "\n",
        "\n",
        "\n",
        "* **ID:** PYLVL2CCOND-08\n",
        "* **DESCRIPCIÓN:** Estructuras condicionales.\n",
        "\n",
        "    Dado un parámetro `number` que contiene un número random entre el 1 y el 100, escriba dentro del cuerpo de la función ``function`` la lógica que permita que se imprima un string con el valor de acuerdo con las siguientes condiciones:\n",
        "\n",
        "    1. Para los números multiplos de 3, imprima y retorne la palabra \"Hey\" en lugar del número.<br/>\n",
        "    2. Para multiplos de 5, imprima y retorne la palabra \"Python\" en lugar del número.<br>\n",
        "    3. Para los números que sean multiplos de ambos 3 y 5 imprima y retorne la palabra \"HeyPython\" en lugar del número.<br/>\n",
        "    4. Si el número no cumple ninguna de las condiciones anteriores entonces imprima y retorne el número convertido a string.\n",
        "\n",
        "    **Ejemplo de Respuestas Esperadas:** <br/>\n",
        "    Sí el número es 60 ---> HeyPython\n",
        "    Sí el número es 54 ---> Hey\n",
        "    Sí el número es 40 ---> Python\n",
        "    Sino ---> \"número en string\"\n",
        "\n",
        "    Imprimir y retornar el mensaje.\n",
        "\n",
        "\\\n",
        "**Reglas:**\n",
        "1. No modifique la declaración de la función. El concepto detrás de las funciones se verá más adelante.\n",
        "2. Si no sigue alguna de estas reglas, el ejercicio será marcado como erróneo.\n",
        "\n",
        "\\\n",
        "**Respuesta Esperada:**\n",
        "\n",
        "```python\n",
        "# Imprimir y Retornar el mensaje.\n",
        "\n",
        "print(mensaje)\n",
        "return mensaje\n",
        "```"
      ]
    },
    {
      "cell_type": "code",
      "execution_count": 76,
      "metadata": {
        "id": "7QeAHDJ71okQ",
        "colab": {
          "base_uri": "https://localhost:8080/",
          "height": 52
        },
        "outputId": "1f82ff59-9b06-4ef2-d9b2-3bb133ae9f2f"
      },
      "outputs": [
        {
          "output_type": "stream",
          "name": "stdout",
          "text": [
            "HeyPython\n"
          ]
        },
        {
          "output_type": "execute_result",
          "data": {
            "text/plain": [
              "'HeyPython'"
            ],
            "application/vnd.google.colaboratory.intrinsic+json": {
              "type": "string"
            }
          },
          "metadata": {},
          "execution_count": 76
        }
      ],
      "source": [
        "def function(number):\n",
        "    if number % 3 == 0 and number % 5 == 0:\n",
        "      mensaje = \"HeyPython\"\n",
        "    elif number % 3 == 0:\n",
        "      mensaje = \"Hey\"\n",
        "    elif number % 5 == 0:\n",
        "      mensaje = \"Python\"\n",
        "    else:\n",
        "      mensaje = str(number)\n",
        "\n",
        "    print(mensaje)\n",
        "    return mensaje\n",
        "\n",
        "function(60)"
      ]
    },
    {
      "cell_type": "markdown",
      "metadata": {
        "id": "BNc9S6jd1okQ"
      },
      "source": [
        "<p>\n",
        "    <img src=\"https://cdn.icon-icons.com/icons2/1130/PNG/512/numberzeroinacircle_80181.png\" alt=\"09\" width=\"65\" height=\"65\" />\n",
        "    <img src=\"https://cdn.icon-icons.com/icons2/1130/PNG/512/numbernineinacircle_80218.png\" alt=\"09\" width=\"65\" height=\"65\" />\n",
        "</p>\n",
        "\n",
        "* **ID:** PYLVL2CCOND-09\n",
        "* **DESCRIPCIÓN:** Estructuras condicionales.\n",
        "\n",
        "    Dados el parámetro `lista` que contiene N elementos numéricos, y el parámetro `n` el cual tiene un número random negativo o positivo . Escriba dentro del cuerpo de la función ``function`` la lógica que permita retornar una posición de la lista. El número random en el parámetro `n` puede ser mayor a la longitud de la lista, por lo tanto debe escribir dentro de la función ``function`` la lógica que permita validar si el número `n` es mayor a 0 y que sea menor que la longitud de la lista.\n",
        "\n",
        "    Sí la posicion dada por `n` es negativa o esta fuera del rango de la lista debe retornar la misma lista.\n",
        "\n",
        "\\\n",
        "**Reglas:**\n",
        "1. No modifique la declaración de la función. El concepto detrás de las funciones se verá más adelante.\n",
        "2. Si no sigue alguna de estas reglas, el ejercicio será marcado como erróneo.\n",
        "\n",
        "\\\n",
        "**Respuesta Esperada:**\n",
        "\n",
        "```python\n",
        "return elemento/lista\n",
        "```"
      ]
    },
    {
      "cell_type": "code",
      "execution_count": 77,
      "metadata": {
        "id": "W3W28MRL1okQ",
        "colab": {
          "base_uri": "https://localhost:8080/"
        },
        "outputId": "78b09ab6-f806-41ac-9915-9fd87504dd65"
      },
      "outputs": [
        {
          "output_type": "execute_result",
          "data": {
            "text/plain": [
              "7"
            ]
          },
          "metadata": {},
          "execution_count": 77
        }
      ],
      "source": [
        "def function(lista, n):\n",
        "    if 0 <= n < len(lista):\n",
        "      return lista[n]\n",
        "    else:\n",
        "      return lista\n",
        "\n",
        "\n",
        "function([1,2,3,4,5,6,7,8,9], 6)"
      ]
    },
    {
      "cell_type": "markdown",
      "metadata": {
        "id": "Xq9ZtQB21okQ"
      },
      "source": [
        "<p>\n",
        "    <img src=\"https://cdn.icon-icons.com/icons2/1130/PNG/512/numberoneinacircle_80030.png\" alt=\"10\" width=\"65\" height=\"65\" />\n",
        "    <img src=\"https://cdn.icon-icons.com/icons2/1130/PNG/512/numberzeroinacircle_80181.png\" alt=\"10\" width=\"65\" height=\"65\" />\n",
        "</p>\n",
        "\n",
        "\n",
        "* **ID:** PYLVL2CCOND-10\n",
        "* **DESCRIPCIÓN:** Estructuras condicionales.\n",
        "\n",
        "    Escribir dentro del cuerpo de la función ``function`` la lógica que permita sumar 2 tuplas bajos las siguientes condiciones:\n",
        "\n",
        "    **Condiciones:**\n",
        "    \n",
        "    Dados dos parámetros `tuple_a` y `tuple_b` (las tuplas que usted deberá sumar) cada uno con tuplas de entre 0 y 2 elementos. El código debe retornar una tupla con 2 números enteros de la siguiente manera:\n",
        "\n",
        "      1. El primer elemento de la tupla resultante debe ser la suma del primer elemento de cada tupla dada como parámetro inicial.\n",
        "      2. El segundo elemento de la tupla resultante debe ser la suma del segundo elemento de cada tupla dada como parámetro inicial.\n",
        "      3. Las tuplas sólo van a contener números enteros.\n",
        "      4. Si una tupla contiene menos de 2 elementos usted deberá completar el elemento faltante con el valor 0.\n",
        "      5. Si la tupla no contiene elementos, usted debe completarla con (0,0).\n",
        "\n",
        "    **Ejemplo de Respuestas:**\n",
        "    ```python\n",
        "    tuple_a = (2,4)\n",
        "    tuple_b = (5,8)\n",
        "    # La respuesta debe ser una tupla (7, 12).\n",
        "\n",
        "    tuple_a = (2,)\n",
        "    tuple_b = (5,8)\n",
        "    # La respuesta debe ser una tupla (7, 8).\n",
        "\n",
        "    tuple_a = (2,4)\n",
        "    tuple_b = ( )\n",
        "    # La respuesta debe ser una tupla (2, 4).\n",
        "    ```\n",
        "\n",
        "    Retornar la tupla resultante.\n",
        "\n",
        "\\\n",
        "**Reglas:**\n",
        "1. No modifique la declaración de la función. El concepto detrás de las funciones se verá más adelante.\n",
        "2. Si no sigue alguna de estas reglas, el ejercicio será marcado como erróneo.\n",
        "\n",
        "\\\n",
        "**Respuesta Esperada:**\n",
        "\n",
        "```python\n",
        "return tupla_resultante\n",
        "```\n"
      ]
    },
    {
      "cell_type": "code",
      "execution_count": 78,
      "metadata": {
        "id": "-5JSeSwb1okQ",
        "colab": {
          "base_uri": "https://localhost:8080/"
        },
        "outputId": "fa8b675e-79b3-4202-edd0-3809e065f0ed"
      },
      "outputs": [
        {
          "output_type": "execute_result",
          "data": {
            "text/plain": [
              "(3, 100)"
            ]
          },
          "metadata": {},
          "execution_count": 78
        }
      ],
      "source": [
        "def function(tuple_a, tuple_b):\n",
        "\n",
        "    if len(tuple_a) == 0:\n",
        "      tuple_a = (0,0)\n",
        "    elif len(tuple_a) == 1:\n",
        "      tuple_a = (tuple_a[0], 0)\n",
        "\n",
        "    if len(tuple_b) == 0:\n",
        "      tuple_b = (0,0)\n",
        "    elif len(tuple_b) == 1:\n",
        "      tuple_b = (tuple_b[0], 0)\n",
        "\n",
        "    tupla_resultante = (tuple_a[0] + tuple_b[0], tuple_a[1] + tuple_b[1])\n",
        "\n",
        "    return tupla_resultante\n",
        "\n",
        "function((1, 89),  (2, 11))"
      ]
    },
    {
      "cell_type": "markdown",
      "metadata": {
        "id": "A90bNdqb1okQ"
      },
      "source": [
        "<p>\n",
        "    <img src=\"https://cdn.icon-icons.com/icons2/1130/PNG/512/numberoneinacircle_80030.png\" alt=\"11\" width=\"65\" height=\"65\" />\n",
        "    <img src=\"https://cdn.icon-icons.com/icons2/1130/PNG/512/numberoneinacircle_80030.png\" alt=\"11\" width=\"65\" height=\"65\" />\n",
        "</p>\n",
        "\n",
        "* **ID:** PYLVL2CCOND-11\n",
        "* **DESCRIPCIÓN:**\n",
        "\n",
        "    Escribir dentro del cuerpo de la función ``function`` la lógica que permita dar solución al siguiente enunciado por medio del uso de los operadores `and` y `or`.\n",
        "\n",
        "    **Enunciado:**\n",
        "\n",
        "    Regalaron 3 entradas para un concierto, pero sólo pueden entrar los ganadores que tengan la mayoría de edad, si son hombres deben ser mayores de **21** y si son mujeres deben ser mayores de **18**. En caso contrario así hayan ganado las boletas no podrán ingresar.\n",
        "\n",
        "    * Compruebe si las edades dadas como parámetros de entrada son personas que pueden ingresar.\n",
        "    * Compruebe si alguna de las edades no puede ingresar.\n",
        "    * Imprimir las edades de cada uno.\n",
        "    * Retorne True si todas las edades pueden ingresar y False en caso de que no todas puedan hacerlo.\n",
        "\n",
        "    Ejemplo:<br/>\n",
        "    Cuando no cumplen con la edad mínima.\n",
        "    ```\n",
        "    Carlos: edad 23.\n",
        "    Maria: edad 20.\n",
        "    Eduardo: edad 19.\n",
        "\n",
        "    \"Alguien no cumple la condicion de edad, no pueden entrar juntos\"\n",
        "\n",
        "    ```\n",
        "    Cuando cumplen con la edad mínima.\n",
        "    ```\n",
        "    Carlos: edad 23.\n",
        "    Maria: edad 20.\n",
        "    Eduardo: edad 25.\n",
        "\n",
        "    \"Pueden pasar los tres porque cumplen la edad minima\"\n",
        "    ```\n",
        "\n",
        "    **Nota**: Retornar un booleano denotando si estas 3 personas pueden ingresar o no.\n",
        "\n",
        "\\\n",
        "**Reglas:**\n",
        "1. No modifique la declaración de la función. El concepto detrás de las funciones se verá más adelante.\n",
        "2. Si no sigue alguna de estas reglas, el ejercicio será marcado como erróneo.\n",
        "\n",
        "\\\n",
        "**Respuesta Esperada:**\n",
        "\n",
        "```python\n",
        "return True/False\n",
        "```\n"
      ]
    },
    {
      "cell_type": "code",
      "execution_count": 79,
      "metadata": {
        "id": "ZNcfJCO31okQ",
        "colab": {
          "base_uri": "https://localhost:8080/"
        },
        "outputId": "ee224e60-b1d0-4c83-e021-08be19f7ef1a"
      },
      "outputs": [
        {
          "output_type": "stream",
          "name": "stdout",
          "text": [
            "Alguien no cumple la condicion de edad, no pueden entrar juntos\n"
          ]
        },
        {
          "output_type": "execute_result",
          "data": {
            "text/plain": [
              "False"
            ]
          },
          "metadata": {},
          "execution_count": 79
        }
      ],
      "source": [
        "def function(Carlos_edad, Eduardo_edad, Maria_edad):\n",
        "    if Carlos_edad > 21 and Eduardo_edad > 21:\n",
        "      if Maria_edad > 18:\n",
        "        print(\"Pueden pasar los tres porque cumplen la edad minima\")\n",
        "        return True\n",
        "      else:\n",
        "        print(\"Alguien no cumple la condicion de edad, no pueden entrar juntos\")\n",
        "        return False\n",
        "    else:\n",
        "        print(\"Alguien no cumple la condicion de edad, no pueden entrar juntos\")\n",
        "        return False\n",
        "\n",
        "\n",
        "function(23, 20, 19)"
      ]
    }
  ],
  "metadata": {
    "colab": {
      "provenance": [],
      "include_colab_link": true
    },
    "kernelspec": {
      "display_name": "Python 3",
      "name": "python3"
    },
    "language_info": {
      "codemirror_mode": {
        "name": "ipython",
        "version": 3
      },
      "file_extension": ".py",
      "mimetype": "text/x-python",
      "name": "python",
      "nbconvert_exporter": "python",
      "pygments_lexer": "ipython3",
      "version": "3.9.12"
    }
  },
  "nbformat": 4,
  "nbformat_minor": 0
}