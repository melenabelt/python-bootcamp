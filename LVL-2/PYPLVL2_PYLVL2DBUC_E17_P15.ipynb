{
  "cells": [
    {
      "cell_type": "markdown",
      "metadata": {
        "id": "view-in-github",
        "colab_type": "text"
      },
      "source": [
        "<a href=\"https://colab.research.google.com/github/melenabelt/python-bootcamp/blob/master/PYPLVL2_PYLVL2DBUC_E17_P15.ipynb\" target=\"_parent\"><img src=\"https://colab.research.google.com/assets/colab-badge.svg\" alt=\"Open In Colab\"/></a>"
      ]
    },
    {
      "cell_type": "markdown",
      "metadata": {
        "id": "f95p817qByaC"
      },
      "source": [
        "<p><img src=\"https://upload.wikimedia.org/wikipedia/commons/thumb/1/13/SoftServe_logo_2017.svg/179px-SoftServe_logo_2017.svg.png?20220507181101\" alt=\"\" width=\"363\" height=\"63\" /></p>\n",
        "\n",
        "----\n",
        "\n",
        "### **INFORMACIÓN TÉCNICA**\n",
        "* **ID:** PYPLVL2_PYLVL2DBUC_E17_P15\n",
        "* **Python Versión:** 3.x\n",
        "* **Versión:** 0.0.1\n",
        "---\n",
        "### **INTRODUCCIÓN**\n",
        "\n",
        "En este módulo se ejercitará todo lo concerniente a los diferentes ciclos en python y su interacción con los temas antes vistos.\n",
        "\n",
        "En la programación, las estructuras de bucle se utilizan para ejecutar un bloque de código repetidamente basado en una cierta condición. Esto permite a los programadores realizar tareas repetitivas de manera eficiente sin tener que escribir el mismo código una y otra vez. Las estructuras de bucle son fundamentales en varios lenguajes de programación, incluido Python.\n",
        "\n",
        "En Python, hay dos tipos principales de estructuras de bucle: bucles `for` y bucles `while`.\n",
        "\n",
        "Es importante tener cuidado al usar bucles, ya que una implementación incorrecta o la falta de condiciones de salida puede llevar a bucles infinitos, donde el bucle se ejecuta indefinidamente y puede bloquear su programa o computadora.\n",
        "\n",
        "\n",
        "### **QUÉ SE APRENDERÁ**\n",
        "\n",
        "\n",
        "- Bucle `for`:\n",
        "   - El bucle `for` se utiliza cuando se desea iterar sobre una secuencia, como una lista, tupla, cadena o rango de números.\n",
        "   - La sintaxis básica de un bucle `for` en Python es la siguiente:\n",
        "     ```\n",
        "     for elemento in secuencia:\n",
        "         # Bloque de código que se ejecutará repetidamente\n",
        "     ```\n",
        "   - El bucle itera sobre cada elemento en la secuencia y el bloque de código se ejecuta para cada iteración. Una vez que se han procesado todos los elementos de la secuencia, el bucle termina.\n",
        "\n",
        "- Bucle `while`:\n",
        "   - El bucle `while` se utiliza cuando se desea repetir un bloque de código mientras se cumpla una condición específica.\n",
        "   - La sintaxis básica de un bucle `while` en Python es la siguiente:\n",
        "     ```\n",
        "     while condicion:\n",
        "         # Bloque de código que se ejecutará repetidamente\n",
        "     ```\n",
        "   - El bucle continúa ejecutando el bloque de código mientras la condición siga siendo `True`. Una vez que la condición se convierta en `False`, el bucle se detiene y el programa continúa con la siguiente sección de código.\n",
        "\n",
        "\n",
        "# **EJERCICIOS**"
      ]
    },
    {
      "cell_type": "markdown",
      "metadata": {
        "id": "AnTNDQoe4XPu"
      },
      "source": [
        "<p>\n",
        "    <img src=\"https://cdn.icon-icons.com/icons2/1130/PNG/512/numberzeroinacircle_80181.png\" alt=\"01\" width=\"65\" height=\"65\" />\n",
        "    <img src=\"https://cdn.icon-icons.com/icons2/1130/PNG/512/numberoneinacircle_80030.png\" alt=\"01\" width=\"65\" height=\"65\" />\n",
        "</p>\n",
        "\n",
        "* **ID:** PYLVL2DBUC-01\n",
        "* **DESCRIPCIÓN:** Ciclos for\n",
        "\n",
        "    Escribir dentro del cuerpo de la función ``function`` la lógica que permita imprimir y retornar el resultado de la suma de todos los elementos de la lista proporcionada usando un ciclo for. Usted deberá retornar el total de la suma.\n",
        "\n",
        "    **Nota**: La lista será dada como parámetro de la función y es una colección de números enteros. Usted debe imprimir y\n",
        "    retornar la suma  calculada.\n",
        "\n",
        "\\\n",
        "**Reglas:**\n",
        "1. No modifique la declaración ni la invocación de la función. El concepto detrás de las funciones se verá más adelante.\n",
        "2. Si no sigue alguna de estas reglas, el ejercicio será marcado como erróneo.\n",
        "\n",
        "\\\n",
        "**Respuesta Esperada:**\n",
        "\n",
        "```python\n",
        "# Retornar la suma total\n",
        "\n",
        "return suma_total\n",
        "```\n"
      ]
    },
    {
      "cell_type": "code",
      "execution_count": 3,
      "metadata": {
        "id": "qVd781tr4iQV",
        "colab": {
          "base_uri": "https://localhost:8080/"
        },
        "outputId": "2a3436a8-a050-48a0-a6f0-a155e9cdb692"
      },
      "outputs": [
        {
          "output_type": "stream",
          "name": "stdout",
          "text": [
            "11\n"
          ]
        },
        {
          "output_type": "execute_result",
          "data": {
            "text/plain": [
              "11"
            ]
          },
          "metadata": {},
          "execution_count": 3
        }
      ],
      "source": [
        "inputs = [\n",
        "   ([5, 3, 2, 1, 0],0),\n",
        "   ([100, 200, 50, 4],0),\n",
        "   ([50, 30, 20, 3],0),\n",
        "   ([15, 13, 12, -2],0),\n",
        "   ([8, 3, 8, 9],0),\n",
        "]\n",
        "\n",
        "def function(lista):\n",
        "    suma_total = sum(lista)\n",
        "    print(suma_total)\n",
        "    return suma_total\n",
        "\n",
        "# for item in inputs:\n",
        "#     function(item)\n",
        "\n",
        "function([5, 3, 2, 1, 0])"
      ]
    },
    {
      "cell_type": "markdown",
      "metadata": {
        "id": "kiToUnqMNmJc"
      },
      "source": [
        "<p>\n",
        "    <img src=\"https://cdn.icon-icons.com/icons2/1130/PNG/512/numberzeroinacircle_80181.png\" alt=\"02\" width=\"65\" height=\"65\" />\n",
        "    <img src=\"https://cdn.icon-icons.com/icons2/1130/PNG/512/numbertwoinacircle_80299.png\" alt=\"02\" width=\"65\" height=\"65\" />\n",
        "</p>\n",
        "\n",
        "\n",
        "* **ID:** PYLVL2DBUC-02\n",
        "* **DESCRIPCIÓN:** Ciclos for\n",
        "\n",
        "    Escribir dentro del cuerpo de la función ``function`` la lógica que permita retornar una lista dada en orden inverso e imprimir y retornar la lista reversada.\n",
        "\n",
        "    **Nota**: La lista será dada como parámetro de la función y contiene una colección de números enteros. Usted deberá imprimir la lista invertida y retornarla.\n",
        "\n",
        "\n",
        "\n",
        "\\\n",
        "**Reglas:**\n",
        "1. No modifique la declaración ni la invocación de la función. El concepto detrás de las funciones se verá más adelante.\n",
        "2. Si no sigue alguna de estas reglas, el ejercicio será marcado como erróneo.\n",
        "\n",
        "\\\n",
        "**Respuesta Esperada:**\n",
        "\n",
        "```python\n",
        "# Retornar la lista en orden reverso\n",
        "\n",
        "return lista_orden_reverso\n",
        "```\n"
      ]
    },
    {
      "cell_type": "code",
      "execution_count": 4,
      "metadata": {
        "id": "PP9Ioa9TQ8dy",
        "colab": {
          "base_uri": "https://localhost:8080/"
        },
        "outputId": "0495e0bb-78f3-4af2-b900-bbc530fffd16"
      },
      "outputs": [
        {
          "output_type": "stream",
          "name": "stdout",
          "text": [
            "[0, 1, 2, 3, 5]\n"
          ]
        },
        {
          "output_type": "execute_result",
          "data": {
            "text/plain": [
              "[0, 1, 2, 3, 5]"
            ]
          },
          "metadata": {},
          "execution_count": 4
        }
      ],
      "source": [
        "def function(lista):\n",
        "    # for\n",
        "    lista_orden_reverso = []\n",
        "    for num in lista:\n",
        "      lista_orden_reverso.insert(0, num)\n",
        "\n",
        "    print(lista_orden_reverso)\n",
        "    return lista_orden_reverso\n",
        "\n",
        "\n",
        "function([5, 3, 2, 1, 0])"
      ]
    },
    {
      "cell_type": "markdown",
      "metadata": {
        "id": "N5EqgFikQH46"
      },
      "source": [
        "<p>\n",
        "    <img src=\"https://cdn.icon-icons.com/icons2/1130/PNG/512/numberzeroinacircle_80181.png\" alt=\"03\" width=\"65\" height=\"65\" />\n",
        "    <img src=\"https://cdn.icon-icons.com/icons2/1130/PNG/512/numberthreeinacircle_80289.png\" alt=\"03\" width=\"65\" height=\"65\" />\n",
        "</p>\n",
        "\n",
        "\n",
        "* **ID:** PYLVL2DBUC-03\n",
        "* **DESCRIPCIÓN:** Ciclos for\n",
        "\n",
        "    Dado un parámetro `string`, escribir dentro del cuerpo de la función ``function`` la lógica que permita recorrerlo y eliminar todos los caracteres 'c' y 'C' que este contenga, adicionalmente imprima y retorne el string resultante.\n",
        "\n",
        "    **Nota**: El string será dado como parámetro de la función. Usted debe imprimir y retornar el string resultante sin 'c' ni 'C'.\n",
        "\n",
        "\\\n",
        "**Reglas:**\n",
        "1. No modifique la declaración ni la invocación de la función. El concepto detrás de las funciones se verá más adelante.\n",
        "2. Si no sigue alguna de estas reglas, el ejercicio será marcado como erróneo.\n",
        "\n",
        "\\\n",
        "**Respuesta Esperada:**\n",
        "\n",
        "```python\n",
        "return string_resultante\n",
        "```\n"
      ]
    },
    {
      "cell_type": "code",
      "execution_count": 5,
      "metadata": {
        "id": "wenUGkHINCyq",
        "colab": {
          "base_uri": "https://localhost:8080/",
          "height": 52
        },
        "outputId": "eee81a7b-e4ef-46db-fda1-878503b576b0"
      },
      "outputs": [
        {
          "output_type": "stream",
          "name": "stdout",
          "text": [
            "hiago\n"
          ]
        },
        {
          "output_type": "execute_result",
          "data": {
            "text/plain": [
              "'hiago'"
            ],
            "application/vnd.google.colaboratory.intrinsic+json": {
              "type": "string"
            }
          },
          "metadata": {},
          "execution_count": 5
        }
      ],
      "source": [
        "def function(string):\n",
        "    string_resultante = string\n",
        "    for caracter in string_resultante:\n",
        "      if caracter == 'c' or caracter == 'C':\n",
        "        string_resultante = string_resultante.replace(caracter, \"\")\n",
        "\n",
        "    print(string_resultante)\n",
        "    return string_resultante\n",
        "\n",
        "\n",
        "function('Chicago')"
      ]
    },
    {
      "cell_type": "markdown",
      "metadata": {
        "id": "FUESHrYcl5Om"
      },
      "source": [
        "<p>\n",
        "    <img src=\"https://cdn.icon-icons.com/icons2/1130/PNG/512/numberzeroinacircle_80181.png\" alt=\"04\" width=\"65\" height=\"65\" />\n",
        "    <img src=\"https://cdn.icon-icons.com/icons2/1130/PNG/512/numberfourincircularbutton_80047.png\" alt=\"04\" width=\"65\" height=\"65\" />\n",
        "</p>\n",
        "\n",
        "\n",
        "* **ID:** PYLVL2DBUC-04\n",
        "* **DESCRIPCIÓN:** Ciclos for\n",
        "\n",
        "     Escribir dentro del cuerpo de la función ``function`` la lógica que imprima por pantalla un triángulo rectángulo como el siguiente con la altura definida por número dado por el parámetro `num` que contiene un entero como valor. De igual manera se deberá retornar el conteo de asteriscos (*) (número de asteriscos total) que le tomó dibujar el árbol.\n",
        "\n",
        "    Ejemplo de árbol:\n",
        "    ```\n",
        "      *\n",
        "      **\n",
        "      ***\n",
        "      ****\n",
        "      *****\n",
        "    ```\n",
        "    El número que define la altura del triángulo será dado como parámetro de la función. Usted debe retornar el número de asteriscos que le tomó dibujar el árbol.\n",
        "\n",
        "\\\n",
        "**Reglas:**\n",
        "1. No modifique la declaración ni la invocación de la función. El concepto detrás de las funciones se verá más adelante.\n",
        "2. Si no sigue alguna de estas reglas, el ejercicio será marcado como erróneo.\n",
        "\n",
        "\\\n",
        "**Respuesta Esperada:**\n",
        "\n",
        "```python\n",
        "return conteo\n",
        "```\n"
      ]
    },
    {
      "cell_type": "code",
      "execution_count": 6,
      "metadata": {
        "cellView": "form",
        "id": "4kZX3b9om0ah",
        "colab": {
          "base_uri": "https://localhost:8080/"
        },
        "outputId": "668bdfc0-1867-49cc-a816-0fe0a48e0c05"
      },
      "outputs": [
        {
          "output_type": "stream",
          "name": "stdout",
          "text": [
            "*\n",
            "**\n",
            "***\n",
            "****\n",
            "*****\n"
          ]
        },
        {
          "output_type": "execute_result",
          "data": {
            "text/plain": [
              "15"
            ]
          },
          "metadata": {},
          "execution_count": 6
        }
      ],
      "source": [
        "def function(num):\n",
        "    conteo = 0\n",
        "    for i in range(1, num + 1):\n",
        "      asteriscos = i * \"*\"\n",
        "      print(asteriscos)\n",
        "      conteo += len(asteriscos)\n",
        "\n",
        "    return conteo\n",
        "\n",
        "\n",
        "function(5)"
      ]
    },
    {
      "cell_type": "markdown",
      "metadata": {
        "id": "0pZeFzl3u6xX"
      },
      "source": [
        "<p>\n",
        "    <img src=\"https://cdn.icon-icons.com/icons2/1130/PNG/512/numberzeroinacircle_80181.png\" alt=\"05\" width=\"65\" height=\"65\" />\n",
        "    <img src=\"https://cdn.icon-icons.com/icons2/1130/PNG/512/numberfiveincircularbutton_80245.png\" alt=\"05\" width=\"65\" height=\"65\" />\n",
        "</p>\n",
        "\n",
        "\n",
        "* **ID:** PYLVL2DBUC-05\n",
        "* **DESCRIPCIÓN:** Ciclos While\n",
        "\n",
        "    Escribir dentro del cuerpo de la función ``function`` la lógica que imprima por pantalla si un número entero positivo mayor que 2 es un número primo o no, en caso positivo retorne un True, en caso que el número no sea primo, retorne un False.\n",
        "\n",
        "    **Nota**: El número que debe evaluarse será dado como parámetro de la función. Usted debe retornar un True, en caso de que el número sea un número primo, y debe retornar un False en caso de que el número no lo sea.\n",
        "\n",
        "\\\n",
        "**Reglas:**\n",
        "1. No modifique la declaración ni la invocación de la función. El concepto detrás de las funciones se verá más adelante.\n",
        "2. Si no sigue alguna de estas reglas, el ejercicio será marcado como erróneo.\n",
        "\n",
        "\\\n",
        "**Respuesta Esperada:**\n",
        "\n",
        "```python\n",
        "return True/False\n",
        "```\n"
      ]
    },
    {
      "cell_type": "code",
      "execution_count": 7,
      "metadata": {
        "id": "cFFxFvggu6xX",
        "colab": {
          "base_uri": "https://localhost:8080/"
        },
        "outputId": "4bb9772e-ec61-4716-8303-00b494aa7b0e"
      },
      "outputs": [
        {
          "output_type": "execute_result",
          "data": {
            "text/plain": [
              "True"
            ]
          },
          "metadata": {},
          "execution_count": 7
        }
      ],
      "source": [
        "def function(num):\n",
        "    if num < 1:\n",
        "      return False\n",
        "\n",
        "    for i in range(2, int(num ** 0.5) + 1):\n",
        "      if num % i == 0:\n",
        "        return False\n",
        "    return True\n",
        "\n",
        "\n",
        "function(5)"
      ]
    },
    {
      "cell_type": "markdown",
      "metadata": {
        "id": "uGfCY8hLu6xX"
      },
      "source": [
        "<p>\n",
        "    <img src=\"https://cdn.icon-icons.com/icons2/1130/PNG/512/numberzeroinacircle_80181.png\" alt=\"06\" width=\"65\" height=\"65\" />\n",
        "    <img src=\"https://cdn.icon-icons.com/icons2/1130/PNG/512/numbersixinacircle_80203.png\" alt=\"06\" width=\"65\" height=\"65\" />\n",
        "</p>\n",
        "\n",
        "\n",
        "* **ID:** PYLVL2DBUC-06\n",
        "* **DESCRIPCIÓN:** Ciclos for\n",
        "\n",
        "    Escribir dentro del cuerpo de la función ``function`` la lógica que detecte cuál es el menor valor de la lista dada por parámetro y cuál es el mayor valor de la lista.\n",
        "\n",
        "    **Nota**: La lista será dada como parámetro de la función y contiene solo valores númericos. Retornar el menor valor y el mayor valor sin utilizar las funciones `min` y `max`.\n",
        "\n",
        "\\\n",
        "**Reglas:**\n",
        "1. No modifique la declaración ni la invocación de la función. El concepto detrás de las funciones se verá más adelante.\n",
        "2. Si no sigue alguna de estas reglas, el ejercicio será marcado como erróneo.\n",
        "\n",
        "\\\n",
        "**Respuesta Esperada:**\n",
        "\n",
        "```python\n",
        "return minimo, maximo\n",
        "```"
      ]
    },
    {
      "cell_type": "code",
      "execution_count": 8,
      "metadata": {
        "id": "JB_KSVPtu6xX",
        "colab": {
          "base_uri": "https://localhost:8080/"
        },
        "outputId": "02de4070-bb9c-47e2-c485-70e1fae13b61"
      },
      "outputs": [
        {
          "output_type": "execute_result",
          "data": {
            "text/plain": [
              "(8, 80)"
            ]
          },
          "metadata": {},
          "execution_count": 8
        }
      ],
      "source": [
        "def function(lista):\n",
        "\n",
        "    minimo = lista[0]\n",
        "    maximo = lista[0]\n",
        "\n",
        "    for num in lista:\n",
        "      if num < minimo:\n",
        "        minimo = num\n",
        "      if num > maximo:\n",
        "        maximo = num\n",
        "\n",
        "    return minimo, maximo\n",
        "\n",
        "\n",
        "function([50, 75, 46, 22, 80, 65, 8])"
      ]
    },
    {
      "cell_type": "markdown",
      "metadata": {
        "id": "KuZcQE6Vu6xX"
      },
      "source": [
        "<p>\n",
        "    <img src=\"https://cdn.icon-icons.com/icons2/1130/PNG/512/numberzeroinacircle_80181.png\" alt=\"07\" width=\"65\" height=\"65\" />\n",
        "    <img src=\"https://cdn.icon-icons.com/icons2/1130/PNG/512/numberseveninacircle_80279.png\" alt=\"07\" width=\"65\" height=\"65\" />\n",
        "</p>\n",
        "\n",
        "\n",
        "* **ID:** PYLVL2DBUC-07\n",
        "* **DESCRIPCIÓN:** Ciclos\n",
        "\n",
        "    Escribir dentro del cuerpo de la función ``function`` la lógica que permita imprimir los objetos de un diccionario ordenado por sus keys. Adicionalmente, usted deberá retornar una lista con las keys ordenadas del diccionario. Su código debe seguir las siguientes condiciones:\n",
        "\n",
        "    1. Puede asumir que todas las keys son strings.\n",
        "    2. Las keys deben estar ordenadas por orden alfabético.\n",
        "    3. El formato a imprimir es {}: {}\n",
        "\n",
        "    **Nota**: El diccionario será dado como parámetro de la función. Retornar una lista sólo con las keys ordenadas del diccionario.\n",
        "\n",
        "\\\n",
        "**Reglas:**\n",
        "1. No modifique la declaración ni la invocación de la función. El concepto detrás de las funciones se verá más adelante.\n",
        "2. Si no sigue alguna de estas reglas, el ejercicio será marcado como erróneo.\n",
        "\n",
        "\\\n",
        "**Respuesta Esperada:**\n",
        "\n",
        "```python\n",
        "return llaves_diccionario\n",
        "```\n"
      ]
    },
    {
      "cell_type": "code",
      "execution_count": 9,
      "metadata": {
        "id": "lfnMUF5mu6xX",
        "colab": {
          "base_uri": "https://localhost:8080/"
        },
        "outputId": "59f7ccbc-2a42-4826-f802-becd6757bb88"
      },
      "outputs": [
        {
          "output_type": "stream",
          "name": "stdout",
          "text": [
            "Name: Softserve\n",
            "Number: 89\n",
            "ids: [1, 2, 3]\n",
            "language: Python\n",
            "track: High level\n"
          ]
        },
        {
          "output_type": "execute_result",
          "data": {
            "text/plain": [
              "['Name', 'Number', 'ids', 'language', 'track']"
            ]
          },
          "metadata": {},
          "execution_count": 9
        }
      ],
      "source": [
        "def function(dicc):\n",
        "    objetos = sorted(dicc.items())\n",
        "\n",
        "    for key, value in objetos:\n",
        "      print(f'{key}: {value}')\n",
        "\n",
        "    llaves_diccionario = sorted(dicc.keys())\n",
        "\n",
        "    return llaves_diccionario\n",
        "\n",
        "\n",
        "function({ 'language': \"Python\", 'Number': 89, 'track': \"High level\", 'Name': 'Softserve', 'ids': [1, 2, 3] })"
      ]
    },
    {
      "cell_type": "markdown",
      "metadata": {
        "id": "X5aLAVGmu6xX"
      },
      "source": [
        "<p>\n",
        "    <img src=\"https://cdn.icon-icons.com/icons2/1130/PNG/512/numberzeroinacircle_80181.png\" alt=\"08\" width=\"65\" height=\"65\" />\n",
        "    <img src=\"https://cdn.icon-icons.com/icons2/1130/PNG/512/numbereightinacircle_80071.png\" alt=\"08\" width=\"65\" height=\"65\" />\n",
        "</p>\n",
        "\n",
        "\n",
        "* **ID:** PYLVL2DBUC-08\n",
        "* **DESCRIPCIÓN:** Ciclos\n",
        "\n",
        "    Escribir dentro del cuerpo de la función ``function`` la lógica que permita borrar las keys que contengan un valor en específico de un diccionario dado y luego de esto, imprima y retorne el diccionario resultante.\n",
        "\n",
        "    1. Si el valor no existe en el diccionario se retornará el diccionario sin ningun cambio.\n",
        "    2. Se deben borrar todas las keys que contengan el valor especificado.\n",
        "\n",
        "    **Nota**: El diccionario será dado como parámetro de la función al igual que el valor que debe buscar. Usted debe retornar el diccionario sin cambios si no encuentra el valor o el diccionario sin el valor especificado.\n",
        "\n",
        "\\\n",
        "**Reglas:**\n",
        "1. No modifique la declaración ni la invocación de la función. El concepto detrás de las funciones se verá más adelante.\n",
        "2. Si no sigue alguna de estas reglas, el ejercicio será marcado como erróneo.\n",
        "\n",
        "\\\n",
        "**Respuesta Esperada:**\n",
        "\n",
        "```python\n",
        "return diccionario\n",
        "```\n",
        "\n"
      ]
    },
    {
      "cell_type": "code",
      "execution_count": 10,
      "metadata": {
        "id": "DQ4CBHx4u6xY",
        "colab": {
          "base_uri": "https://localhost:8080/"
        },
        "outputId": "ace3c8a0-0e23-4806-808e-aee9cdebda93"
      },
      "outputs": [
        {
          "output_type": "stream",
          "name": "stdout",
          "text": [
            "{'track': 'Low', 'ids': [1, 'C', 3]}\n"
          ]
        },
        {
          "output_type": "execute_result",
          "data": {
            "text/plain": [
              "{'track': 'Low', 'ids': [1, 'C', 3]}"
            ]
          },
          "metadata": {},
          "execution_count": 10
        }
      ],
      "source": [
        "def function(diccionario, valor):\n",
        "    keys_presentes = []\n",
        "\n",
        "    for key, value in diccionario.items():\n",
        "      if value == valor:\n",
        "        keys_presentes.append(key)\n",
        "\n",
        "    for key in keys_presentes:\n",
        "      del diccionario[key]\n",
        "\n",
        "    print(diccionario)\n",
        "    return diccionario\n",
        "\n",
        "\n",
        "function({'lang': \"C\", 'track': \"Low\", 'pref': \"C\", 'ids': [1, \"C\", 3]}, \"C\")\n",
        "# function({'lang': \"C\", 'track': \"Low\", 'pref': \"C\", 'ids': [1, \"C\", 3]}, \"a\")"
      ]
    },
    {
      "cell_type": "markdown",
      "metadata": {
        "id": "tzRT43wGu6xY"
      },
      "source": [
        "<p>\n",
        "    <img src=\"https://cdn.icon-icons.com/icons2/1130/PNG/512/numberzeroinacircle_80181.png\" alt=\"09\" width=\"65\" height=\"65\" />\n",
        "    <img src=\"https://cdn.icon-icons.com/icons2/1130/PNG/512/numbernineinacircle_80218.png\" alt=\"09\" width=\"65\" height=\"65\" />\n",
        "</p>\n",
        "\n",
        "* **ID:** PYLVL2DBUC-09\n",
        "* **DESCRIPCIÓN:** Ciclos\n",
        "\n",
        "    Escribir dentro del cuerpo de la función ``function`` la lógica en la que dada una frase y una letra, se retorne el número de veces que aparece la letra en la frase proporcionada.\n",
        "\n",
        "    **Nota**: La frase y la letra serán dados como parámetros de la funcion. Usted deberá retornar el número de veces que aparece la letra en la frase proporcionada.\n",
        "\n",
        "\\\n",
        "**Reglas:**\n",
        "1. No modifique la declaración ni la invocación de la función. El concepto detrás de las funciones se verá más adelante.\n",
        "2. Si no sigue alguna de estas reglas, el ejercicio será marcado como erróneo.\n",
        "\n",
        "\\\n",
        "**Respuesta Esperada:**\n",
        "\n",
        "```python\n",
        "return diccionario\n",
        "```\n",
        "\n"
      ]
    },
    {
      "cell_type": "code",
      "execution_count": 11,
      "metadata": {
        "id": "I8snsLM3u6xY",
        "colab": {
          "base_uri": "https://localhost:8080/"
        },
        "outputId": "a5dbf66f-465e-454e-c35d-97064af07642"
      },
      "outputs": [
        {
          "output_type": "execute_result",
          "data": {
            "text/plain": [
              "3"
            ]
          },
          "metadata": {},
          "execution_count": 11
        }
      ],
      "source": [
        "inputs = [\n",
        "    (\"La vida es bella\", \"a\"),\n",
        "    (\"Todo lo malo pasará\", \"o\"),\n",
        "    (\"Roma amor\", \"R\")\n",
        "]\n",
        "\n",
        "def function(frase, letra):\n",
        "    conteo = 0\n",
        "    for caracter in frase:\n",
        "      if letra == caracter:\n",
        "        conteo += 1\n",
        "\n",
        "    return conteo\n",
        "\n",
        "# for fra, let in inputs:\n",
        "#   function(fra, let)\n",
        "\n",
        "function(\"La vida es bella\", \"a\")"
      ]
    },
    {
      "cell_type": "markdown",
      "metadata": {
        "id": "6Piymx0cu6xY"
      },
      "source": [
        "<p>\n",
        "    <img src=\"https://cdn.icon-icons.com/icons2/1130/PNG/512/numberoneinacircle_80030.png\" alt=\"10\" width=\"65\" height=\"65\" />\n",
        "    <img src=\"https://cdn.icon-icons.com/icons2/1130/PNG/512/numberzeroinacircle_80181.png\" alt=\"10\" width=\"65\" height=\"65\" />\n",
        "</p>\n",
        "\n",
        "\n",
        "* **ID:** PYLVL2DBUC-10\n",
        "* **DESCRIPCIÓN:** Ciclos\n",
        "\n",
        "   Escribir dentro de la función ``function`` la lógica que lea un string dado por parámetro y devuelva un diccionario con la cantidad de apariciones de cada carácter en la cadena.\n",
        "\n",
        "   **Nota**: El string a evaluar será dado como parámetro de la función. Retornar un diccionario con el conteo de cada uno de los caracteres del string proporcionado.\n",
        "\n",
        "\\\n",
        "**Reglas:**\n",
        "1. No modifique la declaración ni la invocación de la función. El concepto detrás de las funciones se verá más adelante.\n",
        "2. Si no sigue alguna de estas reglas, el ejercicio será marcado como erróneo.\n",
        "\n",
        "\\\n",
        "**Respuesta Esperada:**\n",
        "\n",
        "```python\n",
        "# Retornar un diccionario con el conteo de cada uno de los caracteres del string proporcionado.\n",
        "\n",
        "return diccionario\n",
        "```"
      ]
    },
    {
      "cell_type": "code",
      "execution_count": 12,
      "metadata": {
        "id": "o8DI6qHEu6xY",
        "colab": {
          "base_uri": "https://localhost:8080/"
        },
        "outputId": "6ee09fbf-81bd-4845-d503-829c7e4ac3cf"
      },
      "outputs": [
        {
          "output_type": "execute_result",
          "data": {
            "text/plain": [
              "{'m': 1,\n",
              " 'e': 1,\n",
              " ' ': 2,\n",
              " 'g': 1,\n",
              " 'u': 1,\n",
              " 's': 1,\n",
              " 't': 2,\n",
              " 'a': 1,\n",
              " 'p': 1,\n",
              " 'y': 1,\n",
              " 'h': 1,\n",
              " 'o': 1,\n",
              " 'n': 1}"
            ]
          },
          "metadata": {},
          "execution_count": 12
        }
      ],
      "source": [
        "def function(str):\n",
        "\n",
        "    conteo = {}\n",
        "\n",
        "    for caracter in str:\n",
        "      if caracter in conteo:\n",
        "        conteo[caracter] += 1\n",
        "      else:\n",
        "        conteo[caracter] = 1\n",
        "\n",
        "    return conteo\n",
        "\n",
        "\n",
        "function(\"me gusta python\")"
      ]
    },
    {
      "cell_type": "markdown",
      "metadata": {
        "id": "i5kNeLojucrG"
      },
      "source": [
        "<p><img src=\"https://cdn.icon-icons.com/icons2/1130/PNG/512/numberoneinacircle_80030.png\" alt=\"11\" width=\"65\" height=\"65\" />\n",
        "   <img src=\"https://cdn.icon-icons.com/icons2/1130/PNG/512/numberoneinacircle_80030.png\" alt=\"11\" width=\"65\" height=\"65\" /></p>\n",
        "\n",
        "\n",
        "* **ID:** PYLVL2DBUC-11\n",
        "* **DESCRIPCIÓN:** Ciclos while\n",
        "\n",
        "   Escribir dentro del cuerpo de la función ``function`` la lógica que permita encontrar el múltiplo más pequeño de los primeros `n` números. Además, imprima una lista con los factores.\n",
        "\n",
        "   **Nota**: El valor n será dado como parámetro de la función. Retornar el multiplo más pequeño y también una lista con los factores.\n",
        "\n",
        "\\\n",
        "**Reglas:**\n",
        "1. No modifique la declaración ni la invocación de la función. El concepto detrás de las funciones se verá más adelante.\n",
        "2. Si no sigue alguna de estas reglas, el ejercicio será marcado como erróneo.\n",
        "\n",
        "\\\n",
        "**Respuesta Esperada:**\n",
        "\n",
        "```python\n",
        "# Retornar el multiplo más pequeño y tambien los factores.\n",
        "\n",
        "return minimo_multiplo, factores\n",
        "```\n"
      ]
    },
    {
      "cell_type": "code",
      "source": [
        "inputs = [\n",
        "    (13,),\n",
        "    (11,),\n",
        "    (9,),\n",
        "    (3,)\n",
        "]\n",
        "\n",
        "\n",
        "def function(n):\n",
        "  def mcd(a, b):\n",
        "    if a == 0 or b == 0:\n",
        "      if a == 0:\n",
        "        mcd = b\n",
        "        # print(\"el máximo común divisor es\", mcd)\n",
        "        return mcd\n",
        "      if b == 0:\n",
        "        mcd = a\n",
        "        # print(\"el máximo común divisor es\", mcd)\n",
        "        return mcd\n",
        "    else:\n",
        "      residuo = a % b\n",
        "      while residuo > 0:\n",
        "        a = b\n",
        "        b = residuo\n",
        "        residuo = a % b\n",
        "      else:\n",
        "        # print(\"El máximo común divisor es\", b)\n",
        "        return b\n",
        "\n",
        "  mcm = 1\n",
        "  for i in range(1, n+1):\n",
        "    mcm = (mcm * (i)) // mcd(mcm, i)\n",
        "    # print(\"mínimo común múltiplo de\", i, \"es\", mcm)\n",
        "  # print(\"El mínimo común múltiplo del 1 hasta\", n, \"es\", mcm)\n",
        "\n",
        "  factores = []\n",
        "  for i in range(2, n+1):\n",
        "    if mcm % i == 0 and i > (n//2):\n",
        "      factores.insert(0, i)\n",
        "  print(factores)\n",
        "\n",
        "  return mcm, factores\n",
        "\n",
        "\n",
        "function(11)"
      ],
      "metadata": {
        "colab": {
          "base_uri": "https://localhost:8080/"
        },
        "id": "2XDk7DsXgOXA",
        "outputId": "a945fbea-c941-48d0-e628-38b708bf618d"
      },
      "execution_count": 13,
      "outputs": [
        {
          "output_type": "stream",
          "name": "stdout",
          "text": [
            "[11, 10, 9, 8, 7, 6]\n"
          ]
        },
        {
          "output_type": "execute_result",
          "data": {
            "text/plain": [
              "(27720, [11, 10, 9, 8, 7, 6])"
            ]
          },
          "metadata": {},
          "execution_count": 13
        }
      ]
    },
    {
      "cell_type": "markdown",
      "metadata": {
        "id": "GseJKq-wsqAB"
      },
      "source": [
        "<p><img src=\"https://cdn.icon-icons.com/icons2/1130/PNG/512/numberoneinacircle_80030.png\" alt=\"12\" width=\"65\" height=\"65\" />\n",
        "   <img src=\"https://cdn.icon-icons.com/icons2/1130/PNG/512/numbertwoinacircle_80299.png\" alt=\"12\" width=\"65\" height=\"65\" /></p>\n",
        "\n",
        "\n",
        "\n",
        "* **ID:** PYLVL2DBUC-12\n",
        "* **DESCRIPCIÓN:** Ciclos for/while\n",
        "\n",
        "   Escribir dentro del cuerpo de la función ``function`` la lógica que permita calcular la diferencia entre la suma al cuadrado de los primeros n números naturales y la suma de los primeros n números naturales al cuadrado (valor predeterminado de número = 2).\n",
        "\n",
        "   **Nota**: El valor `n` será dado como parámetro de la función. Retornar la diferencia entre la suma al cuadrado de los primeros n números naturales y la suma de los primeros n números naturales al cuadrado.\n",
        "\n",
        "\\\n",
        "**Reglas:**\n",
        "1. No modifique la declaración ni la invocación de la función. El concepto detrás de las funciones se verá más adelante.\n",
        "2. Si no sigue alguna de estas reglas, el ejercicio será marcado como erróneo.\n",
        "\n",
        "\\\n",
        "**Respuesta Esperada:**\n",
        "\n",
        "```python\n",
        "return diferencia_cuadrados\n",
        "\n",
        "```\n"
      ]
    },
    {
      "cell_type": "code",
      "execution_count": 14,
      "metadata": {
        "id": "Hkw2nVBPtpia",
        "colab": {
          "base_uri": "https://localhost:8080/"
        },
        "outputId": "9d8abc94-1b8c-423b-a747-fc2bffd4c915"
      },
      "outputs": [
        {
          "output_type": "execute_result",
          "data": {
            "text/plain": [
              "170"
            ]
          },
          "metadata": {},
          "execution_count": 14
        }
      ],
      "source": [
        "def function(n):\n",
        "    cuadrado = 0\n",
        "    suma = 0\n",
        "\n",
        "    for i in range(1, n+1):\n",
        "      cuadrado = cuadrado + (i**2)\n",
        "      suma = suma + i\n",
        "    # print (cuadrado,suma)\n",
        "\n",
        "    diferencia = (suma**2) - cuadrado\n",
        "\n",
        "    return diferencia\n",
        "\n",
        "\n",
        "function(5)"
      ]
    },
    {
      "cell_type": "markdown",
      "metadata": {
        "id": "E8gOdsJh2QwU"
      },
      "source": [
        "<p><img src=\"https://cdn.icon-icons.com/icons2/1130/PNG/512/numberoneinacircle_80030.png\" alt=\"13\" width=\"65\" height=\"65\" />\n",
        "   <img src=\"https://cdn.icon-icons.com/icons2/1130/PNG/512/numberthreeinacircle_80289.png\" alt=\"13\" width=\"65\" height=\"65\" /></p>\n",
        "\n",
        "\n",
        "* **ID:** PYLVL2DBUC-13\n",
        "* **DESCRIPCIÓN:** Ciclos for/while\n",
        "\n",
        "   Escribir dentro del cuerpo de la función ``function`` la lógica para que dada una palabra, se retorne y se imprima por pantalla una lista con las letras de la palabra introducida empezando por la última.\n",
        "\n",
        "   **Nota**: La palabra a analizar será dada como parámetro de la función. Retornar una lista con las letras invertidas.\n",
        "\n",
        "\\\n",
        "**Reglas:**\n",
        "1. No modifique la declaración ni la invocación de la función. El concepto detrás de las funciones se verá más adelante.\n",
        "2. Si no sigue alguna de estas reglas, el ejercicio será marcado como erróneo.\n",
        "\n",
        "\\\n",
        "**Respuesta Esperada:**\n",
        "\n",
        "```python\n",
        "# Retornar una lista con las letras invertidas.\n",
        "\n",
        "return lista\n",
        "```\n"
      ]
    },
    {
      "cell_type": "code",
      "execution_count": 15,
      "metadata": {
        "id": "fbHlMZuX3tLu",
        "colab": {
          "base_uri": "https://localhost:8080/"
        },
        "outputId": "efbe25c4-44c9-441e-ade8-5350b084e8f7"
      },
      "outputs": [
        {
          "output_type": "stream",
          "name": "stdout",
          "text": [
            "['Chicago']\n"
          ]
        },
        {
          "output_type": "execute_result",
          "data": {
            "text/plain": [
              "['Chicago']"
            ]
          },
          "metadata": {},
          "execution_count": 15
        }
      ],
      "source": [
        "inputs = [\n",
        "    ('Chicago',),\n",
        "    ('Medellín',),\n",
        "    ('Cártago',)\n",
        "]\n",
        "\n",
        "\n",
        "def function(palabra):\n",
        "\n",
        "    lista = []\n",
        "    i = len(palabra) - 1\n",
        "\n",
        "    while i >= 0:\n",
        "      lista.append(palabra[i])\n",
        "      i -= 1\n",
        "\n",
        "    print(lista)\n",
        "    return lista\n",
        "\n",
        "# for input in inputs:\n",
        "#   print(function(input[0]))\n",
        "\n",
        "function(('Chicago',))"
      ]
    },
    {
      "cell_type": "markdown",
      "metadata": {
        "id": "nQTvN1We45c8"
      },
      "source": [
        "<p><img src=\"https://cdn.icon-icons.com/icons2/1130/PNG/512/numberoneinacircle_80030.png\" alt=\"14\" width=\"65\" height=\"65\" />\n",
        "   <img src=\"https://cdn.icon-icons.com/icons2/1130/PNG/512/numberfourincircularbutton_80047.png\" alt=\"14\" width=\"65\" height=\"65\" /></p>\n",
        "\n",
        "\n",
        "* **ID:** PYLVL2DBUC-14\n",
        "* **DESCRIPCIÓN:** Ciclos for/while\n",
        "\n",
        "    Escribir dentro del cuerpo de la función ``function`` la lógica para que dado un número entero que constituye la altura de un triángulo, imprima por pantalla un triángulo rectángulo como el del ejemplo.\n",
        "\n",
        "    Ejemplo:<br/>\n",
        "    Si la altura fuera 9 el triangulo resultante seria el siguiente:\n",
        "    ```\n",
        "      1\n",
        "      3 1\n",
        "      5 3 1\n",
        "      7 5 3 1\n",
        "      9 7 5 3 1\n",
        "    ```\n",
        "\n",
        "    **Nota**: El número que define la altura del triángulo será dado como parámetro `num` de la funcion. Retornar la suma de los numeros que le tomó realizar el árbol.\n",
        "\n",
        "\n",
        "\\\n",
        "**Reglas:**\n",
        "1. No modifique la declaración ni la invocación de la función. El concepto detrás de las funciones se verá más adelante.\n",
        "2. Si no sigue alguna de estas reglas, el ejercicio será marcado como erróneo.\n",
        "\n",
        "\\\n",
        "**Respuesta Esperada:**\n",
        "\n",
        "```python\n",
        "# Retornar la suma de los numeros que le tomó realizar el árbol.\n",
        "\n",
        "return suma\n",
        "```\n"
      ]
    },
    {
      "cell_type": "code",
      "execution_count": 16,
      "metadata": {
        "id": "gWZTPCeVk6vl",
        "colab": {
          "base_uri": "https://localhost:8080/"
        },
        "outputId": "1909b6df-6af0-478d-96b4-f0c04108cd65"
      },
      "outputs": [
        {
          "output_type": "stream",
          "name": "stdout",
          "text": [
            "1\n",
            "3 1\n",
            "5 3 1\n",
            "7 5 3 1\n",
            "9 7 5 3 1\n"
          ]
        },
        {
          "output_type": "execute_result",
          "data": {
            "text/plain": [
              "55"
            ]
          },
          "metadata": {},
          "execution_count": 16
        }
      ],
      "source": [
        "def function(num):\n",
        "    suma = 0\n",
        "\n",
        "    for i in range(1, num + 1, 2):\n",
        "      # print(i)\n",
        "      lista = []\n",
        "      for j in range(i, 0, -2):\n",
        "        lista.append(str(j))\n",
        "        suma += j\n",
        "\n",
        "      lista_string = \" \".join(lista)\n",
        "      print(lista_string)\n",
        "\n",
        "      # print(lista)\n",
        "    # print(suma)\n",
        "\n",
        "    return suma\n",
        "\n",
        "function(9)"
      ]
    },
    {
      "cell_type": "markdown",
      "metadata": {
        "id": "r1igcIIbvJ85"
      },
      "source": [
        "<p>\n",
        "   <img src=\"https://cdn.icon-icons.com/icons2/1130/PNG/512/numberoneinacircle_80030.png\" alt=\"15\" width=\"65\" height=\"65\" />\n",
        "   <img src=\"https://cdn.icon-icons.com/icons2/1130/PNG/512/numberfiveincircularbutton_80245.png\" alt=\"15\" width=\"65\" height=\"65\" />\n",
        "</p>\n",
        "\n",
        "\n",
        "* **ID:** PYLVL2DBUC-15\n",
        "* **DESCRIPCIÓN:** Ciclos for/while\n",
        "\n",
        "   Escribir dentro del cuerpo de la función ``function`` la lógica que dibuje un árbol de navidad formado con * haciendo uso de un ciclo while. Este árbol tendrá como ancho de copa un número x, y una altura z los cuales serán dados como parámetros de la función. Usted deberá imprimir el árbol y adicionalmente deberá retornar el número de asteriscos usados para construir la base del árbol.\n",
        "\n",
        "   Ejemplo de árbol:<br/>\n",
        "   Altura: 7 <br/>\n",
        "   Grosor de la copa: 1 <br/>\n",
        "   ```\n",
        "            *     \n",
        "           ***    \n",
        "          *****   \n",
        "         *******  \n",
        "        *********\n",
        "       ***********\n",
        "   ```\n",
        "\n",
        "    **Nota**: El número que define la altura del triángulo será dado como parámetro `x` de la función al igual que el número dado como grosor de la copa del árbol, parametro `z`. Retornar el conteo de los asteriscos que le tomó realizar la base del árbol.\n",
        "\n",
        "\n",
        "\\\n",
        "**Reglas:**\n",
        "1. No modifique la declaración ni la invocación de la función. El concepto detrás de las funciones se verá más adelante.\n",
        "2. Si no sigue alguna de estas reglas, el ejercicio será marcado como erróneo.\n",
        "\n",
        "\\\n",
        "**Respuesta Esperada:**\n",
        "\n",
        "```python\n",
        "# Retornar el conteo de los asteriscos que le tomó realizar la base del árbol.\n",
        "\n",
        "return conteo\n",
        "```\n"
      ]
    },
    {
      "cell_type": "code",
      "execution_count": 17,
      "metadata": {
        "id": "EUCotx31wX9x",
        "colab": {
          "base_uri": "https://localhost:8080/"
        },
        "outputId": "3bc07c22-0c4f-4fc1-99e7-88761cb39c8e"
      },
      "outputs": [
        {
          "output_type": "stream",
          "name": "stdout",
          "text": [
            "     ***     \n",
            "    *****    \n",
            "   *******   \n",
            "  *********  \n",
            " *********** \n",
            "*************\n"
          ]
        },
        {
          "output_type": "execute_result",
          "data": {
            "text/plain": [
              "13"
            ]
          },
          "metadata": {},
          "execution_count": 17
        }
      ],
      "source": [
        "def function(x, z):\n",
        "    \"\"\"grosor x, altura z por errores de redacción al momento de crear el ejercicio\n",
        "    o una cascarita sin sentido\"\"\"\n",
        "\n",
        "\n",
        "    for i in range(1, z + 1):\n",
        "      conteo = x +(i + (i - 2))\n",
        "      # print(conteo)\n",
        "\n",
        "    for i in range(1, z + 1):\n",
        "      asterisco = x + (i + (i - 2))\n",
        "      print(\"{:^{}}\".format((asterisco * \"*\"), conteo))\n",
        "\n",
        "\n",
        "    return conteo\n",
        "\n",
        "\n",
        "function(3,6)\n"
      ]
    },
    {
      "cell_type": "markdown",
      "metadata": {
        "id": "C0-7Yb98n8G-"
      },
      "source": [
        "<p>\n",
        "    <img src=\"https://cdn.icon-icons.com/icons2/1130/PNG/512/numberoneinacircle_80030.png\" alt=\"16\" width=\"65\" height=\"65\" />\n",
        "    <img src=\"https://cdn.icon-icons.com/icons2/1130/PNG/512/numbersixinacircle_80203.png\" alt=\"16\" width=\"65\" height=\"65\" />\n",
        "</p>\n",
        "\n",
        "\n",
        "* **ID:** PYLVL2DBUC-16\n",
        "* **DESCRIPCIÓN:** Ciclos for/while\n",
        "\n",
        "  Escribir dentro del cuerpo de la función ``function`` la lógica en la cual dado un array de números enteros, permita retornar la cantidad de números que coincidan con el parámetro `n` que se encuentran en el array.\n",
        "\n",
        "   **Nota**: El array de números será dado como parámetro de la función al igual que el número que usted debe buscar. Retornar el conteo de números n dentro del array proporcionado, sin utilizar la función `.count()`.\n",
        "\n",
        "\\\n",
        "**Reglas:**\n",
        "1. No modifique la declaración ni la invocación de la función. El concepto detrás de las funciones se verá más adelante.\n",
        "2. Si no sigue alguna de estas reglas, el ejercicio será marcado como erróneo.\n",
        "\n",
        "\\\n",
        "**Respuesta Esperada:**\n",
        "\n",
        "```python\n",
        "# Retornar el conteo de números n dentro del array proporcionado, sin utilizar la función `.count()`.\n",
        "\n",
        "return conteo\n",
        "```\n"
      ]
    },
    {
      "cell_type": "code",
      "execution_count": 18,
      "metadata": {
        "id": "p2b4iYyIp3mu",
        "colab": {
          "base_uri": "https://localhost:8080/"
        },
        "outputId": "8d36eb6d-4aa7-4e23-ddfe-3d26efe87989"
      },
      "outputs": [
        {
          "output_type": "execute_result",
          "data": {
            "text/plain": [
              "3"
            ]
          },
          "metadata": {},
          "execution_count": 18
        }
      ],
      "source": [
        "def function(lista, n):\n",
        "    conteo = 0\n",
        "    for numeros in lista:\n",
        "      if numeros == n:\n",
        "        conteo += 1\n",
        "\n",
        "    return conteo\n",
        "\n",
        "\n",
        "function([1, 9, 9, 3, 9], 9)"
      ]
    },
    {
      "cell_type": "markdown",
      "metadata": {
        "id": "KpkZ3HTOPayf"
      },
      "source": [
        "<p>\n",
        "    <img src=\"https://cdn.icon-icons.com/icons2/1130/PNG/512/numberoneinacircle_80030.png\" alt=\"17\" width=\"65\" height=\"65\" />\n",
        "    <img src=\"https://cdn.icon-icons.com/icons2/1130/PNG/512/numberseveninacircle_80279.png\" alt=\"17\" width=\"65\" height=\"65\" />\n",
        "</p>\n",
        "\n",
        "\n",
        "* **ID:** PYLVL2DBUC-17\n",
        "* **DESCRIPCIÓN:** Ciclos for\n",
        "\n",
        "    Escribir dentro del cuerpo de la función ``function`` la lógica para que dada una lista de palabras, y una letra ingresada como parámetro, se evalúe si la letra ingresada está incluida en las palabras. Retornar una lista con los resultados obtenidos.\n",
        "\n",
        "    **Nota**: La lista de palabras a evaluar y la letra serán dadas como parámetros `lista` y `letra` de la función. Usted debe retornar e imprimir una lista con los resultados obtenidos.\n",
        "\n",
        "\\\n",
        "**Reglas:**\n",
        "1. No modifique la declaración ni la invocación de la función. El concepto detrás de las funciones se verá más adelante.\n",
        "2. Si no sigue alguna de estas reglas, el ejercicio será marcado como erróneo.\n",
        "\n",
        "\\\n",
        "**Respuesta Esperada:**\n",
        "```python\n",
        "# Retornar una lista con los resultados obtenidos.\n",
        "\n",
        "return resultado\n",
        "```"
      ]
    },
    {
      "cell_type": "code",
      "execution_count": 19,
      "metadata": {
        "id": "GlQpH2i2Payf",
        "colab": {
          "base_uri": "https://localhost:8080/"
        },
        "outputId": "486d0a65-fe13-4602-90c9-6fdf94084875"
      },
      "outputs": [
        {
          "output_type": "stream",
          "name": "stdout",
          "text": [
            "[True, False, False]\n"
          ]
        },
        {
          "output_type": "execute_result",
          "data": {
            "text/plain": [
              "[True, False, False]"
            ]
          },
          "metadata": {},
          "execution_count": 19
        }
      ],
      "source": [
        "def function(lista, letra):\n",
        "    resultado = []\n",
        "    for palabra in lista:\n",
        "      # print(palabra)\n",
        "      if letra in palabra:\n",
        "        resultado.append(True)\n",
        "      else:\n",
        "        resultado.append(False)\n",
        "\n",
        "    print(resultado)\n",
        "    return resultado\n",
        "\n",
        "\n",
        "function(['Chicago', 'Medellín', 'Cártago'],'c')"
      ]
    }
  ],
  "metadata": {
    "colab": {
      "provenance": [],
      "include_colab_link": true
    },
    "kernelspec": {
      "display_name": "Python 3",
      "name": "python3"
    },
    "language_info": {
      "codemirror_mode": {
        "name": "ipython",
        "version": 3
      },
      "file_extension": ".py",
      "mimetype": "text/x-python",
      "name": "python",
      "nbconvert_exporter": "python",
      "pygments_lexer": "ipython3",
      "version": "3.11.3"
    }
  },
  "nbformat": 4,
  "nbformat_minor": 0
}