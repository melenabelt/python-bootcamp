{
  "cells": [
    {
      "cell_type": "markdown",
      "metadata": {
        "id": "view-in-github",
        "colab_type": "text"
      },
      "source": [
        "<a href=\"https://colab.research.google.com/github/melenabelt/python-bootcamp/blob/master/PYPLVL1_PYLVL1ASTR_E10_P10.ipynb\" target=\"_parent\"><img src=\"https://colab.research.google.com/assets/colab-badge.svg\" alt=\"Open In Colab\"/></a>"
      ]
    },
    {
      "cell_type": "markdown",
      "metadata": {
        "id": "f95p817qByaC"
      },
      "source": [
        "<p><img src=\"https://upload.wikimedia.org/wikipedia/commons/thumb/1/13/SoftServe_logo_2017.svg/179px-SoftServe_logo_2017.svg.png?20220507181101\" alt=\"\" width=\"363\" height=\"63\" /></p>\n",
        "\n",
        "----\n",
        "\n",
        "### **INFORMACIÓN TECNICA**\n",
        "* **ID**: PYPLVL1_PYLVL1ASTR_E10_P10\n",
        "* **Python Versión:** 3.x\n",
        "* **Versión:** 0.0.1\n",
        "---\n",
        "### **INTRODUCCIÓN**\n",
        "\n",
        "En Python, una cadena es una secuencia de caracteres. Es un tipo de dato fundamental utilizado para representar texto. Las cadenas se encierran entre comillas simples (') o comillas dobles (\"), y pueden contener letras, dígitos, símbolos y espacios.\n",
        "\n",
        "Las cadenas son ampliamente utilizadas en Python para manejar datos de texto, manipulación de cadenas y trabajar con contenido de archivos, lo que las convierte en una parte esencial de la programación en Python.\n",
        "\n",
        "### **QUE SE APRENDERA**\n",
        "\n",
        "- Crear una Cadena:<br/>\n",
        "  Puedes crear una cadena encerrando el texto entre comillas simples o comillas dobles:\n",
        "  ```python\n",
        "  cadena_comillas_simples = 'Hola, mundo!'\n",
        "  cadena_comillas_dobles = \"Esto es una cadena.\"\n",
        "\n",
        "  ```\n",
        "\n",
        "- Operaciones con Cadenas:<br/>\n",
        "  Python permite diversas operaciones con cadenas:\n",
        "\n",
        "    - **Concatenación:** Puedes combinar cadenas usando el operador `+`:\n",
        "      ```python\n",
        "      cadena1 = \"Hola\"\n",
        "      cadena2 = \" Mundo\"\n",
        "      resultado = cadena1 + cadena2  # Resultado: \"Hola Mundo\"\n",
        "\n",
        "      ```\n",
        "\n",
        "    - **Repetición:** Puedes repetir una cadena usando el operador `*`:\n",
        "      ```python\n",
        "      cadena1 = \"Python \"\n",
        "      resultado = cadena1 * 3  # Resultado: \"Python Python Python \"\n",
        "\n",
        "      ```\n",
        "\n",
        "- Acceder a Caracteres en una Cadena:<br/>\n",
        "  Puedes acceder a caracteres individuales en una cadena mediante indexación. Python utiliza indexación basada en cero, por lo que el primer carácter está en el índice 0, el segundo en el índice 1, y así sucesivamente:\n",
        "  ```python\n",
        "  mi_cadena = \"Hola\"\n",
        "  primer_caracter = mi_cadena[0]  # Resultado: \"H\"\n",
        "  segundo_caracter = mi_cadena[1]  # Resultado: \"o\"\n",
        "\n",
        "  ```\n",
        "\n",
        "- Rebanado de Cadenas:<br/>\n",
        "  Puedes extraer una porción de una cadena utilizando el rebanado (slicing). El rebanado te permite obtener una subcadena basada en un rango específico de índices:\n",
        "  ```python\n",
        "  mi_cadena = \"Hola, mundo!\"\n",
        "  subcadena = mi_cadena[7:12]  # Resultado: \"mundo\"\n",
        "\n",
        "  ```\n",
        "\n",
        "- Métodos de Cadenas:<br/>\n",
        "  Python proporciona varios métodos integrados para manipular cadenas. Algunos métodos comunes son:\n",
        "    - `len()`: Devuelve la longitud de la cadena.\n",
        "    - `lower()`: Convierte la cadena a minúsculas.\n",
        "    - `upper()`: Convierte la cadena a mayúsculas.\n",
        "    - `strip()`: Elimina espacios en blanco al inicio y al final.\n",
        "    - `split()`: Divide la cadena en una lista de subcadenas basadas en un delimitador.\n",
        "    - `replace()`: Reemplaza una subcadena con otra subcadena.\n",
        "\n",
        "  ```python\n",
        "  mensaje = \" Hola, Python! \"\n",
        "  longitud = len(mensaje)                # Resultado: 16\n",
        "  mensaje_minusculas = mensaje.lower()   # Resultado: \" hola, python! \"\n",
        "  mensaje_mayusculas = mensaje.upper()   # Resultado: \" HOLA, PYTHON! \"\n",
        "  mensaje_sin_espacios = mensaje.strip() # Resultado: \"Hola, Python!\"\n",
        "  palabras = mensaje.split(\",\")          # Resultado: [' Hola', ' Python! ']\n",
        "  nuevo_mensaje = mensaje.replace(\"Python\", \"Java\")  # Resultado: \" Hola, Java! \"\n",
        "\n",
        "  ```\n",
        "\n",
        "\n",
        "\n",
        "# **EJERCICIOS**"
      ]
    },
    {
      "cell_type": "markdown",
      "metadata": {
        "id": "I1kgAOsTKqlx"
      },
      "source": [
        "<p>\n",
        "    <img src=\"https://cdn.icon-icons.com/icons2/1130/PNG/512/numberzeroinacircle_80181.png\" alt=\"01\" width=\"65\" height=\"65\" />\n",
        "    <img src=\"https://cdn.icon-icons.com/icons2/1130/PNG/512/numberoneinacircle_80030.png\" alt=\"01\" width=\"65\" height=\"65\" />\n",
        "</p>\n",
        "\n",
        "\n",
        "* **ID** PYLVL1ASTR-01\n",
        "* **DESCRIPCIÓN:** Strings\n",
        "\n",
        "String es un tipo de dato que identifica una cadena de caracteres, en python se pueden elaborar tanto con comillas dobles como\n",
        "con simples, pero no se pueden mezclar.\n",
        "\n",
        "El metodo type() retorna el tipo de dato de la variable analizada, en este ejercicio la ejecucion debe dar string.\n",
        "\n",
        "**Ejercicio:**<br/>\n",
        "Escribir dentro de la función ``function`` la lógica para crear 2 variables llamadas mensaje1 y mensaje2 la primera con un string (cualquiera) en comillas dobles y la segunda con otro string con comillas simples.\n",
        "\n",
        "\\\n",
        "**Reglas:**\n",
        "1. No modifique la declaración de la función. El concepto detras de las funciones se verá mas adelante.\n",
        "2. Si no sigue alguna de estas reglas, el ejercicio será marcado como erroneo.\n",
        "\n",
        "\\\n",
        "**Respuesta Esperada**\n",
        "\n",
        "```python\n",
        "# Retornar los tipos de datos de los mensajes que escribío.\n",
        "return tipo_str_mensaje1, tipo_str_mensaje2\n",
        "```\n"
      ]
    },
    {
      "cell_type": "code",
      "execution_count": 116,
      "metadata": {
        "id": "GyiIPPhR_EjF",
        "colab": {
          "base_uri": "https://localhost:8080/"
        },
        "outputId": "b7a27819-47aa-48f9-fbcd-ee8172713807"
      },
      "outputs": [
        {
          "output_type": "execute_result",
          "data": {
            "text/plain": [
              "(str, str)"
            ]
          },
          "metadata": {},
          "execution_count": 116
        }
      ],
      "source": [
        "def function(__unused):\n",
        "    mensaje1: str = \"Este es el primer string\"\n",
        "    mensaje2: str = 'Este es el segundo string'\n",
        "    return type(mensaje1), type(mensaje2)\n",
        "\n",
        "\n",
        "function(None)"
      ]
    },
    {
      "cell_type": "markdown",
      "metadata": {
        "id": "kiToUnqMNmJc"
      },
      "source": [
        "<p>\n",
        "    <img src=\"https://cdn.icon-icons.com/icons2/1130/PNG/512/numberzeroinacircle_80181.png\" alt=\"02\" width=\"65\" height=\"65\" />\n",
        "    <img src=\"https://cdn.icon-icons.com/icons2/1130/PNG/512/numbertwoinacircle_80299.png\" alt=\"02\" width=\"65\" height=\"65\" />\n",
        "</p>\n",
        "\n",
        "* **ID** PYLVL1ASTR-02\n",
        "* **DESCRIPCIÓN:** Tratamiento de String como cadenas de elementos.\n",
        "\n",
        "    Cuando se crea un objeto del tipo string en python, este es almacenado en pequeñas posiciones de memoria comenzando siempre con la posición cero, hasta el tamaño de la cadena de caracteres.\n",
        "\n",
        "    Para seleccionar un caracter específico colocamos el índice donde se ubica el caracter dentro de corchetes.\n",
        "\n",
        "    **Ejercicio:**<br/>\n",
        "    Dado el siguiente String, retornar el caracter en la posición 8\n",
        "\n",
        "\\\n",
        "**Reglas:**\n",
        "1. No modifique la declaración de la función. El concepto detras de las funciones se verá mas adelante.\n",
        "2. Si no sigue alguna de estas reglas, el ejercicio será marcado como erroneo.\n",
        "\n",
        "\\\n",
        "**Respuesta Esperada**\n",
        "\n",
        "```python\n",
        "return caracter\n",
        "```\n"
      ]
    },
    {
      "cell_type": "code",
      "execution_count": 117,
      "metadata": {
        "id": "PP9Ioa9TQ8dy",
        "colab": {
          "base_uri": "https://localhost:8080/",
          "height": 35
        },
        "outputId": "4b29633f-6e14-4c48-d81a-22326cc9ace3"
      },
      "outputs": [
        {
          "output_type": "execute_result",
          "data": {
            "text/plain": [
              "'r'"
            ],
            "application/vnd.google.colaboratory.intrinsic+json": {
              "type": "string"
            }
          },
          "metadata": {},
          "execution_count": 117
        }
      ],
      "source": [
        "def function(mensaje):\n",
        "    return mensaje[8]\n",
        "\n",
        "\n",
        "function(\"Estoy aprendiendo\")"
      ]
    },
    {
      "cell_type": "markdown",
      "metadata": {
        "id": "N5EqgFikQH46"
      },
      "source": [
        "<p>\n",
        "    <img src=\"https://cdn.icon-icons.com/icons2/1130/PNG/512/numberzeroinacircle_80181.png\" alt=\"03\" width=\"65\" height=\"65\" />\n",
        "    <img src=\"https://cdn.icon-icons.com/icons2/1130/PNG/512/numberthreeinacircle_80289.png\" alt=\"03\" width=\"65\" height=\"65\" />\n",
        "</p>\n",
        "\n",
        "\n",
        "* **ID** PYLVL1ASTR-03\n",
        "* **DESCRIPCIÓN:** Tratamiento de String como cadenas de elementos.\n",
        "  \n",
        "    Para realizar slices en python o seleccionar segmentos del string se utiliza la notación: string[inicio:final:salteo].\n",
        "\n",
        "    Para invertir una String se utiliza la notacion [::-1]  </br>\n",
        "\n",
        "    **Ejemplo:**<br/>\n",
        "    ```python\n",
        "    a = \"Hola mundo\"\n",
        "    a[:4] #     -> Retorna: Hola\n",
        "    a[5:] #     -> Retorna: Mundo\n",
        "    a[::-1] #   -> Retorna: odnum aloH\n",
        "    a[0:10:3] # -> Retorna: hauo\n",
        "    ```\n",
        "\n",
        "    **Ejercicio:**\n",
        "    Dada la siguiente String genere los siguientes slices </br>\n",
        "    * String hasta la posicion 5.\n",
        "    * String desde la posición 6.\n",
        "    * String invertido.\n",
        "    * Todo el string pero en saltos de 3.\n",
        "\n",
        "\\\n",
        "**Reglas:**\n",
        "1. No modifique la declaración de la función. El concepto detras de las funciones se verá mas adelante.\n",
        "2. Si no sigue alguna de estas reglas, el ejercicio será marcado como erroneo.\n",
        "\n",
        "\\\n",
        "**Respuesta Esperada**\n",
        "\n",
        "```python\n",
        "return resultados_string, ...\n",
        "```\n",
        "\n"
      ]
    },
    {
      "cell_type": "code",
      "execution_count": 50,
      "metadata": {
        "id": "wenUGkHINCyq",
        "colab": {
          "base_uri": "https://localhost:8080/"
        },
        "outputId": "e3e1bd5a-5fe1-4f99-b3d5-a89ddbbfb54f"
      },
      "outputs": [
        {
          "output_type": "execute_result",
          "data": {
            "text/plain": [
              "('Estoy', 'aprendiendo', 'odneidnerpa yotsE', 'Eoaeid')"
            ]
          },
          "metadata": {},
          "execution_count": 50
        }
      ],
      "source": [
        "def function(string):\n",
        "    return string[:5], string[6:], string[::-1], string[::3]\n",
        "\n",
        "\n",
        "function(\"Estoy aprendiendo\")"
      ]
    },
    {
      "cell_type": "markdown",
      "metadata": {
        "id": "FUESHrYcl5Om"
      },
      "source": [
        "<p>\n",
        "    <img src=\"https://cdn.icon-icons.com/icons2/1130/PNG/512/numberzeroinacircle_80181.png\" alt=\"04\" width=\"65\" height=\"65\" />\n",
        "    <img src=\"https://cdn.icon-icons.com/icons2/1130/PNG/512/numberfourincircularbutton_80047.png\" alt=\"04\" width=\"65\" height=\"65\" />\n",
        "</p>\n",
        "\n",
        "\n",
        "* **ID** PYLVL1ASTR-04\n",
        "* **DESCRIPCIÓN:** Operadores de cadenas de caracteres.\n",
        "\n",
        "    Concatenar\n",
        "    El proceso de concatenación se realiza mediante el operador de suma (+).</br>\n",
        "    \n",
        "    Escribir dentro de la función ``function`` la lógica para crear 3 variables que contengan cualquier palabra que desee y luego concatenarlos teniendo en cuenta los espacios entre las variables que va concatenar.\n",
        "\n",
        "\\\n",
        "**Reglas:**\n",
        "1. No modifique la declaración de la función. El concepto detras de las funciones se verá mas adelante.\n",
        "2. Si no sigue alguna de estas reglas, el ejercicio será marcado como erroneo.\n",
        "\n",
        "\\\n",
        "**Respuesta Esperada**\n",
        "\n",
        "```python\n",
        "return concatenacion\n",
        "```\n"
      ]
    },
    {
      "cell_type": "code",
      "execution_count": null,
      "metadata": {
        "cellView": "form",
        "id": "4kZX3b9om0ah",
        "colab": {
          "base_uri": "https://localhost:8080/",
          "height": 35
        },
        "outputId": "92b902fc-c439-4470-bec4-b87fc3f262a5"
      },
      "outputs": [
        {
          "output_type": "execute_result",
          "data": {
            "text/plain": [
              "'Su nombre completo es Elena Correa y su profesión es QA'"
            ],
            "application/vnd.google.colaboratory.intrinsic+json": {
              "type": "string"
            }
          },
          "metadata": {},
          "execution_count": 8
        }
      ],
      "source": [
        "def function(__unused):\n",
        "    nombre: str = \"Elena\"\n",
        "    apellido: str = 'Correa'\n",
        "    profesion: str = \"QA\"\n",
        "    concatenacion: str = \"Su nombre completo es \" + nombre + \" \" + apellido + \" y su profesión es \" + profesion\n",
        "    return concatenacion\n",
        "\n",
        "\n",
        "function(None)"
      ]
    },
    {
      "cell_type": "markdown",
      "metadata": {
        "id": "i75ca6pU_EjI"
      },
      "source": [
        "<p>\n",
        "    <img src=\"https://cdn.icon-icons.com/icons2/1130/PNG/512/numberzeroinacircle_80181.png\" alt=\"05\" width=\"65\" height=\"65\" />\n",
        "    <img src=\"https://cdn.icon-icons.com/icons2/1130/PNG/512/numberfiveincircularbutton_80245.png\" alt=\"05\" width=\"65\" height=\"65\" />\n",
        "</p>\n",
        "\n",
        "\n",
        "* **ID** PYLVL1ASTR-05\n",
        "* **DESCRIPCIÓN:** Operadores de cadenas de caracteres.\n",
        "\n",
        "    Multiplicar </br>\n",
        "    Si quieren varias copias de una cadena de caracteres se utiliza el operador de multiplicación (*)</br>\n",
        "\n",
        "    Escribir dentro de la función ``function`` la lógica para imprimir 4 veces el input que se entrega en el parametro `string` . Recuerde que el tipo de dato entregado por el parametro `string` no siempre será string.\n",
        "\n",
        "\\\n",
        "**Reglas:**\n",
        "1. No modifique la declaración de la función. El concepto detras de las funciones se verá mas adelante.\n",
        "2. Si no sigue alguna de estas reglas, el ejercicio será marcado como erroneo.\n",
        "\n",
        "\\\n",
        "**Respuesta Esperada**\n",
        "\n",
        "```python\n",
        "return string_por_4\n",
        "```"
      ]
    },
    {
      "cell_type": "code",
      "execution_count": 8,
      "metadata": {
        "id": "PEicBMrL_EjI",
        "colab": {
          "base_uri": "https://localhost:8080/",
          "height": 35
        },
        "outputId": "7f54ab76-f5fc-4bc6-857b-3d660eeef0e4"
      },
      "outputs": [
        {
          "output_type": "execute_result",
          "data": {
            "text/plain": [
              "'[1][1][1][1]'"
            ],
            "application/vnd.google.colaboratory.intrinsic+json": {
              "type": "string"
            }
          },
          "metadata": {},
          "execution_count": 8
        }
      ],
      "source": [
        "def function(string):\n",
        "    # Print con espacios\n",
        "    # string_por_4 = (\" \" + string + \" \") * 4\n",
        "    string_por_4 = str(string) * 4\n",
        "    return string_por_4\n",
        "\n",
        "# function(\"Python\")\n",
        "function([1])"
      ]
    },
    {
      "cell_type": "markdown",
      "metadata": {
        "id": "dfl1e5nD_EjI"
      },
      "source": [
        "<p>\n",
        "    <img src=\"https://cdn.icon-icons.com/icons2/1130/PNG/512/numberzeroinacircle_80181.png\" alt=\"06\" width=\"65\" height=\"65\" />\n",
        "    <img src=\"https://cdn.icon-icons.com/icons2/1130/PNG/512/numbersixinacircle_80203.png\" alt=\"06\" width=\"65\" height=\"65\" />\n",
        "</p>\n",
        "\n",
        "\n",
        "* **ID** PYLVL1ASTR-06\n",
        "* **DESCRIPCIÓN:** Métodos para cadenas de caracteres.\n",
        "\n",
        "    Los métodos de los objetos string en python para analizar el contenido de la cadena de caracteres son: <br/>\n",
        "    &nbsp;&nbsp;&nbsp;&nbsp;len()\tRetorna el tamaño de la cadena de caracteres <br/>\n",
        "    &nbsp;&nbsp;&nbsp;&nbsp;count()\tRetorna el numero de veces que se repite un caracter en la cadena <br/>\n",
        "    &nbsp;&nbsp;&nbsp;&nbsp;find\tBusca un substring o caracter dentro de la cadena de caracteres, retorna la posicion del primer caracter del substring dentro de la cadena si existe<br/>\n",
        "\n",
        "    USO: <br/>\n",
        "    &nbsp;&nbsp;&nbsp;&nbsp;len(string) <br/>\n",
        "    &nbsp;&nbsp;&nbsp;&nbsp;.count() <br/>\n",
        "    &nbsp;&nbsp;&nbsp;&nbsp;.find() <br/>\n",
        "\n",
        "    **Ejercicio:**<br/>\n",
        "    Dado un input dado por el parametro `string`, escribir dentro de la función ``function`` la lógica que permita calcular, imprimir y retornar:\n",
        "    1. su longitud.\n",
        "    2. la cantidad de veces que se repite el caracter 'o'.\n",
        "    3. La posición de donde comienza la ultima palabra.\n",
        "\n",
        "\\\n",
        "**Reglas:**\n",
        "1. No modifique la declaración de la función. El concepto detras de las funciones se verá mas adelante.\n",
        "2. Si no sigue alguna de estas reglas, el ejercicio será marcado como erroneo.\n",
        "\n",
        "\\\n",
        "**Respuesta Esperada**\n",
        "\n",
        "```python\n",
        "return resultados_solicitados, ...\n",
        "```"
      ]
    },
    {
      "cell_type": "code",
      "execution_count": 53,
      "metadata": {
        "id": "JHhaPTPL_EjI",
        "colab": {
          "base_uri": "https://localhost:8080/"
        },
        "outputId": "f5d68c79-1f02-4784-ea31-0231b409f17b"
      },
      "outputs": [
        {
          "output_type": "stream",
          "name": "stdout",
          "text": [
            "Tu frase favorita es 'python softserve's bootcamp'\n",
            "Tiene 27 caracteres \n",
            "La letra solicitada 'o' está presente 4 vez/veces, \n",
            "Y la posición donde inicia la última palabra es: 19\n"
          ]
        },
        {
          "output_type": "execute_result",
          "data": {
            "text/plain": [
              "(27, 4, 19)"
            ]
          },
          "metadata": {},
          "execution_count": 53
        }
      ],
      "source": [
        "def function(string):\n",
        "    longitud_frase = len(string)\n",
        "    letra_solicitada = \"o\"\n",
        "    repeticiones_frase = string.lower().count(letra_solicitada)\n",
        "    ultima_palabra = string.split()[-1]\n",
        "    posicion_palabra = string.rfind(ultima_palabra)\n",
        "    print(\"Tu frase favorita es \" + \"'\" + string + \"'\" +\n",
        "          \"\\nTiene \" + str(longitud_frase) + \" caracteres \\nLa letra solicitada \" + \"'\" + letra_solicitada +\n",
        "          \"'\" + \" está presente \" + str(repeticiones_frase) +\n",
        "          \" vez/veces, \\nY la posición donde inicia la última palabra es: \" + str(posicion_palabra))\n",
        "    return longitud_frase, repeticiones_frase, posicion_palabra\n",
        "\n",
        "\n",
        "function(\"python softserve's bootcamp\")"
      ]
    },
    {
      "cell_type": "markdown",
      "metadata": {
        "id": "6fLkFTse_EjI"
      },
      "source": [
        "<p>\n",
        "    <img src=\"https://cdn.icon-icons.com/icons2/1130/PNG/512/numberzeroinacircle_80181.png\" alt=\"07\" width=\"65\" height=\"65\" />\n",
        "    <img src=\"https://cdn.icon-icons.com/icons2/1130/PNG/512/numberseveninacircle_80279.png\" alt=\"07\" width=\"65\" height=\"65\" />\n",
        "</p>\n",
        "\n",
        "\n",
        "* **ID** PYLVL1ASTR-07\n",
        "* **DESCRIPCIÓN:** Métodos para cadenas de caracteres.\n",
        "\n",
        "    Estos son los métodos mas utilizados para realizar transformaciones a la cadena de caracteres dentro de python: <br/>\n",
        "    &nbsp;&nbsp;&nbsp;&nbsp;.upper()\tColoca todo el string en mayúscula <br/>\n",
        "    &nbsp;&nbsp;&nbsp;&nbsp;.lower()\tColoca todo el string en minúscula <br/>\n",
        "    &nbsp;&nbsp;&nbsp;&nbsp;.capitalize()\tColoca todo el primer en mayúscula <br/>\n",
        "    &nbsp;&nbsp;&nbsp;&nbsp;.title()\tColoca todo el primer carcater de cada palabra en mayúscula <br/>\n",
        "    &nbsp;&nbsp;&nbsp;&nbsp;.replace(str1,str2)\tReemplaza un substring por otro <br/>\n",
        "    &nbsp;&nbsp;&nbsp;&nbsp;.strip()\tElimina los espacios innecesarios (en blanco) al inicio y fin del string <br/>\n",
        "    &nbsp;&nbsp;&nbsp;&nbsp;.rstrip()\tElimina los espacios innecesarios (en blanco) al fin del string <br/>\n",
        "    &nbsp;&nbsp;&nbsp;&nbsp;.lstrip()\tElimina los espacios innecesarios (en blanco) al inicio del string<br/>\n",
        "\n",
        "    USO: <br/>\n",
        "    &nbsp;&nbsp;&nbsp;&nbsp;string.metodo() <br/>\n",
        "\n",
        "    **Ejercicio:** <br/>\n",
        "    Dado un input dado por el parametro `string`, escribir dentro de la función ``function`` la lógica que permita calcular, imprimir y retornar:\n",
        "    1. Cambiar el texto a mayuscula.\n",
        "    2. Eliminar el espacio al inicio del string.\n",
        "    3. Convertir el text a minúscula.\n",
        "    4. Convertir el texto a letra capital (tipo titulo).\n",
        "    5. Quitar los espacios del texto.\n",
        "\n",
        "\\\n",
        "**Reglas:**\n",
        "1. No modifique la declaración de la función. El concepto detras de las funciones se verá mas adelante.\n",
        "2. Si no sigue alguna de estas reglas, el ejercicio será marcado como erroneo.\n",
        "\n",
        "\\\n",
        "**Respuesta Esperada**\n",
        "\n",
        "```python\n",
        "return resultados_solicitados, ...\n",
        "```"
      ]
    },
    {
      "cell_type": "code",
      "execution_count": 11,
      "metadata": {
        "id": "l8Ckqkie_EjI",
        "colab": {
          "base_uri": "https://localhost:8080/"
        },
        "outputId": "f6ecadc6-18cf-4c95-b64e-c3caf511da7d"
      },
      "outputs": [
        {
          "output_type": "execute_result",
          "data": {
            "text/plain": [
              "('LOREM IPSUM ADONORIS',\n",
              " 'LoREm IpSuM ADonoRis',\n",
              " 'lorem ipsum adonoris',\n",
              " 'Lorem Ipsum Adonoris',\n",
              " 'LoREmIpSuMADonoRis')"
            ]
          },
          "metadata": {},
          "execution_count": 11
        }
      ],
      "source": [
        "def function(string):\n",
        "    mayus = string.upper()\n",
        "    eliminar_esp = string.lstrip()\n",
        "    minus = string.lower()\n",
        "    title = string.title()\n",
        "    espacios_texto = string.replace(\" \", \"\")\n",
        "\n",
        "    return mayus, eliminar_esp, minus, title, espacios_texto\n",
        "\n",
        "\n",
        "function(\"LoREm IpSuM ADonoRis\")"
      ]
    },
    {
      "cell_type": "markdown",
      "metadata": {
        "id": "754W607t_EjI"
      },
      "source": [
        "<p>\n",
        "    <img src=\"https://cdn.icon-icons.com/icons2/1130/PNG/512/numberzeroinacircle_80181.png\" alt=\"08\" width=\"65\" height=\"65\" />\n",
        "    <img src=\"https://cdn.icon-icons.com/icons2/1130/PNG/512/numbereightinacircle_80071.png\" alt=\"08\" width=\"65\" height=\"65\" />\n",
        "</p>\n",
        "\n",
        "\n",
        "* **ID** PYLVL1ASTR-08\n",
        "* **DESCRIPCIÓN:** Métodos para cadenas de caracteres.\n",
        "\n",
        "    Estos son los métodos mas utilizados para realizar transformaciones a la cadena de caracteres dentro de python: </br>\n",
        "    &nbsp;&nbsp;&nbsp;&nbsp;.upper()\tColoca todo el string en mayúscula </br>\n",
        "    &nbsp;&nbsp;&nbsp;&nbsp;.lower()\tColoca todo el string en minúscula </br>\n",
        "    &nbsp;&nbsp;&nbsp;&nbsp;.capitalize()\tColoca todo el primer en mayúscula </br>\n",
        "    &nbsp;&nbsp;&nbsp;&nbsp;.title()\tColoca todo el primer carcater de cada palabra en mayúscula </br>\n",
        "    &nbsp;&nbsp;&nbsp;&nbsp;.replace(str1,str2)\tReemplaza un substring por otro </br>\n",
        "    &nbsp;&nbsp;&nbsp;&nbsp;.strip()\tElimina los espacios innecesarios (en blanco) al inicio y fin del string </br>\n",
        "    &nbsp;&nbsp;&nbsp;&nbsp;.rstrip()\tElimina los espacios innecesarios (en blanco) al fin del string </br>\n",
        "    &nbsp;&nbsp;&nbsp;&nbsp;.lstrip()\tElimina los espacios innecesarios (en blanco) al inicio del string</br>\n",
        "\n",
        "    USO: </br>\n",
        "    &nbsp;&nbsp;&nbsp;&nbsp;string.metodo() </br>\n",
        "\n",
        "    **Ejercicio:** <br>\n",
        "    Dado un input dado por el parametro `string`, escribir dentro de la función ``function`` la lógica que permita calcular, imprimir y retornar:\n",
        "    1. Colocar el primer caracter de cada palabra en mayuscula <br>\n",
        "    2. cambiar el texto 'Curso' por 'Bootcamp' <br>\n",
        "    3. cree una nueva variable que contenga el mismo string pero eliminando los espacios al inicio y final del string\n",
        "\n",
        "    Tener en cuenta que la longitud del string original len() es 30, la nueva variable con el string sin los espacios en blanco debe tener un len de 28\n",
        "\n",
        "\\\n",
        "**Reglas:**\n",
        "1. No modifique la declaración de la función. El concepto detras de las funciones se verá mas adelante.\n",
        "2. Si no sigue alguna de estas reglas, el ejercicio será marcado como erroneo.\n",
        "\n",
        "\\\n",
        "**Respuesta Esperada**\n",
        "\n",
        "```python\n",
        "return resultados_solicitados, ...\n",
        "```"
      ]
    },
    {
      "cell_type": "code",
      "execution_count": 25,
      "metadata": {
        "id": "Ibvm22Xw_EjI",
        "colab": {
          "base_uri": "https://localhost:8080/"
        },
        "outputId": "d5dea913-46cb-457e-df5f-3010b2b73f7a"
      },
      "outputs": [
        {
          "output_type": "execute_result",
          "data": {
            "text/plain": [
              "(' Curso De Python En Softserve ', ' Bootcamp de Python en Softserve ', 28)"
            ]
          },
          "metadata": {},
          "execution_count": 25
        }
      ],
      "source": [
        "def function(string):\n",
        "    title = string.title()\n",
        "    reemplazar = string.replace(\"Curso\", \"Bootcamp\")\n",
        "    nueva_variable = len(string.strip())\n",
        "\n",
        "    return title, reemplazar, nueva_variable\n",
        "\n",
        "\n",
        "function(' Curso de Python en Softserve ')"
      ]
    },
    {
      "cell_type": "markdown",
      "metadata": {
        "id": "h_aHt1If_EjJ"
      },
      "source": [
        "<p>\n",
        "    <img src=\"https://cdn.icon-icons.com/icons2/1130/PNG/512/numberzeroinacircle_80181.png\" alt=\"09\" width=\"65\" height=\"65\" />\n",
        "    <img src=\"https://cdn.icon-icons.com/icons2/1130/PNG/512/numbernineinacircle_80218.png\" alt=\"09\" width=\"65\" height=\"65\" />\n",
        "</p>\n",
        "\n",
        "* **ID** PYLVL1ASTR-09\n",
        "* **DESCRIPCIÓN:** Métodos para cadenas de caracteres.\n",
        "\n",
        "    Dividir Caracteres dentro de python: </br>\n",
        "    `split([...])`\tSepara a traves de un delimitador un objeto del tipo str en python en varios strings almacenados en un objeto del tipo list. </br>\n",
        "\n",
        "    USO: </br>\n",
        "    string.split('delimitador') </br>\n",
        "\n",
        "    **Ejemplo:** </br>\n",
        "    ```python\n",
        "    # Separar el siguiente string en el punto. </br>\n",
        "    frase = 'Hola.Mundo'\n",
        "    frase = frase.split('.')\n",
        "    print(frase) # -> daria como resultado ['Hola', 'Mundo']\n",
        "    # Cada string esta en una posicion de la lista comenzando en cero\n",
        "    # Para imprimir el primer valor de la lista seria:\n",
        "    print(frase[0]) # -> imprimiría 'Hola'\n",
        "    # Para acceder al ultimo elemento se utiliza [-1]\n",
        "    print(frase[-1]) # -> imprimiría 'Mundo'\n",
        "    ```\n",
        "\n",
        "    **Ejercicio:** </br>\n",
        "    Dado un input dado por el parametro `string`, escribir dentro de la función ``function`` la lógica que permita calcular, imprimir y retornar:\n",
        "    1. Separe el string en el codigo por sus espacios en blanco y almacenelo en la misma variable.\n",
        "    2. Luego almacene el string 'Python' de la lista en otra variable.\n",
        "    3. Cambie el texto 'Python' en esa variable por mayusculas he imprimalo.\n",
        "\n",
        "\\\n",
        "**Reglas:**\n",
        "1. No modifique la declaración de la función. El concepto detras de las funciones se verá mas adelante.\n",
        "2. Si no sigue alguna de estas reglas, el ejercicio será marcado como erroneo.\n",
        "\n",
        "\\\n",
        "**Respuesta Esperada**\n",
        "\n",
        "```python\n",
        "return resultado_operacion\n",
        "```"
      ]
    },
    {
      "cell_type": "code",
      "execution_count": 27,
      "metadata": {
        "id": "9VkJ9Z9h_EjJ",
        "colab": {
          "base_uri": "https://localhost:8080/",
          "height": 35
        },
        "outputId": "ae17bc88-cd3c-408a-ffd0-a4ceb05c28aa"
      },
      "outputs": [
        {
          "output_type": "execute_result",
          "data": {
            "text/plain": [
              "'PYTHON'"
            ],
            "application/vnd.google.colaboratory.intrinsic+json": {
              "type": "string"
            }
          },
          "metadata": {},
          "execution_count": 27
        }
      ],
      "source": [
        "def function(string):\n",
        "    string = string.split(\" \")\n",
        "    almacenar = string[2].upper()\n",
        "    return almacenar\n",
        "\n",
        "\n",
        "function('Bootcamp de Python en Softserve')"
      ]
    },
    {
      "cell_type": "markdown",
      "metadata": {
        "id": "iBQ8-4ho_EjJ"
      },
      "source": [
        "<p>\n",
        "    <img src=\"https://cdn.icon-icons.com/icons2/1130/PNG/512/numberoneinacircle_80030.png\" alt=\"10\" width=\"65\" height=\"65\" />\n",
        "    <img src=\"https://cdn.icon-icons.com/icons2/1130/PNG/512/numberzeroinacircle_80181.png\" alt=\"10\" width=\"65\" height=\"65\" />\n",
        "</p>\n",
        "\n",
        "\n",
        "* **ID** PYLVL1ASTR-10\n",
        "* **DESCRIPCIÓN:** Métodos para cadenas de caracteres.\n",
        "\n",
        "    Encadenar Metodos </br>\n",
        "    En python se pueden encadenar metodos en una sola linea de codigo </br>\n",
        "\n",
        "    USO: </br>\n",
        "    string.metodo1().metodo2().metodo3() ... </br>\n",
        "\n",
        "    **Ejemplo:**<br/>\n",
        "    ```python\n",
        "    string = 'Hola mundo'\n",
        "    # Separar el string, acceder a su segundo elemento, convertir su primer caracter a mayuscula he invierta su sentido.\n",
        "\n",
        "    string = string.split(' ')[1].title()[::-1]\n",
        "    print(string) # -> imprime odnuM\n",
        "    ```\n",
        "\n",
        "    \\\n",
        "    **Ejercicio:** </br>\n",
        "    Dado un input dado por el parametro `string`, escribir dentro de la función ``function`` la lógica que permita calcular, imprimir y retornar:\n",
        "    1. dado el string `string1`, separelo, acceda al ultimo elemento, reemplace su valor por python en mayusculas he imprimalo.\n",
        "    2. dado el string `string2`, separelo, acceda al segundo elemento, inviertalo he imprima la cantidad de veces que contiene el caracter 'i'.\n",
        "\n",
        "\\\n",
        "**Reglas:**\n",
        "1. No modifique la declaración de la función. El concepto detras de las funciones se verá mas adelante.\n",
        "2. Si no sigue alguna de estas reglas, el ejercicio será marcado como erroneo.\n",
        "\n",
        "\\\n",
        "**Respuesta Esperada**\n",
        "\n",
        "```python\n",
        "return resultado_operacion\n",
        "```"
      ]
    },
    {
      "cell_type": "code",
      "execution_count": 114,
      "metadata": {
        "id": "U1DlHVs6_EjJ",
        "colab": {
          "base_uri": "https://localhost:8080/"
        },
        "outputId": "91f6b696-fd51-4526-f79a-117ef8722e3f"
      },
      "outputs": [
        {
          "output_type": "stream",
          "name": "stdout",
          "text": [
            "PYTHON\n",
            "2\n"
          ]
        },
        {
          "output_type": "execute_result",
          "data": {
            "text/plain": [
              "('PYTHON', 2)"
            ]
          },
          "metadata": {},
          "execution_count": 114
        }
      ],
      "source": [
        "def function(string1, string2):\n",
        "    string1 = string1.replace(string1.split()[-1], \"Python\").split()[-1].upper()\n",
        "    print(string1)\n",
        "    string2 = string2.split(\"-\")[1][::-1].count(\"i\")\n",
        "    print(string2)\n",
        "    return string1, string2\n",
        "\n",
        "\n",
        "function('Me gusta aprender a programar en Java', 'estoy-delimitado-por-guiones' )"
      ]
    }
  ],
  "metadata": {
    "colab": {
      "provenance": [],
      "include_colab_link": true
    },
    "kernelspec": {
      "display_name": "Python 3",
      "name": "python3"
    },
    "language_info": {
      "codemirror_mode": {
        "name": "ipython",
        "version": 3
      },
      "file_extension": ".py",
      "mimetype": "text/x-python",
      "name": "python",
      "nbconvert_exporter": "python",
      "pygments_lexer": "ipython3",
      "version": "3.9.12"
    }
  },
  "nbformat": 4,
  "nbformat_minor": 0
}