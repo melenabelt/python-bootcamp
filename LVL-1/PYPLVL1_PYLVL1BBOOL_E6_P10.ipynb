{
  "cells": [
    {
      "cell_type": "markdown",
      "metadata": {
        "id": "view-in-github",
        "colab_type": "text"
      },
      "source": [
        "<a href=\"https://colab.research.google.com/github/melenabelt/python-bootcamp/blob/master/PYPLVL1_PYLVL1BBOOL_E6_P10.ipynb\" target=\"_parent\"><img src=\"https://colab.research.google.com/assets/colab-badge.svg\" alt=\"Open In Colab\"/></a>"
      ]
    },
    {
      "cell_type": "markdown",
      "metadata": {
        "id": "f95p817qByaC"
      },
      "source": [
        "<p><img src=\"https://upload.wikimedia.org/wikipedia/commons/thumb/1/13/SoftServe_logo_2017.svg/179px-SoftServe_logo_2017.svg.png?20220507181101\" alt=\"\" width=\"363\" height=\"63\" /></p>\n",
        "\n",
        "----\n",
        "\n",
        "### **INFORMACIÓN TECNICA**\n",
        "* **ID:** PYPLVL1_PYLVL1BBOOL_E6_P10\n",
        "* **Python Versión:** 3.x\n",
        "* **Versión:** 0.0.1\n",
        "---\n",
        "### **INTRODUCCIÓN**\n",
        "\n",
        "En Python, un booleano es un tipo de dato que representa dos valores: `True` y `False`. Los booleanos son fundamentales en la programación, ya que se utilizan para tomar decisiones y controlar el flujo del programa. A menudo son el resultado de comparaciones u operaciones lógicas.\n",
        "\n",
        "Los valores booleanos son fundamentales para la toma de decisiones y las estructuras de control en la programación en Python. Comprender los booleanos y cómo usarlos en comparaciones y operaciones lógicas es esencial para escribir código efectivo y significativo.\n",
        "\n",
        "### **QUE SE APRENDERA**\n",
        "- Valores Booleanos:<br/>\n",
        "En Python, el tipo de dato booleano tiene dos posibles valores: `True` y `False`. Ten en cuenta que estos valores distinguen entre mayúsculas y minúsculas, lo que significa que `True` y `False` deben estar en mayúsculas.\n",
        "\n",
        "- Operadores de Comparación:<br/>\n",
        "    Los booleanos suelen ser el resultado de operaciones de comparación. Python proporciona varios operadores de comparación para comparar valores:\n",
        "\n",
        "    - `==`: Igual a\n",
        "    - `!=`: Distinto de\n",
        "    - `>`: Mayor que\n",
        "    - `<`: Menor que\n",
        "    - `>=`: Mayor o igual que\n",
        "    - `<=`: Menor o igual que\n",
        "\n",
        "    Por Ejemplo:\n",
        "    ```python\n",
        "    x = 5\n",
        "    y = 10\n",
        "    resultado = x < y  # Resultado: True\n",
        "\n",
        "    ```\n",
        "\n",
        "- Booleanos de Python como números\n",
        "\n",
        "### **TIPOS BOOLEANOS**\n",
        "Una variable booleana es una variable que sólo puede tomar dos posibles valores: `True` (verdadero) o `False` (falso). En Python cualquier variable (en general, cualquier objeto) puede considerarse como una variable booleana. En general los elementos nulos o vacíos se consideran **False** y el resto se consideran ``True``.\n",
        "\n",
        "La palabra reservada **not** puede ser utilizada para invertir un valor booleano.\n",
        "\n",
        "Los booleanos se consideran un tipo numérico en Python. Esto significa que son números para todos los efectos. En otras palabras, puede aplicar operaciones aritméticas a los booleanos y también puede compararlos con números. Dado que **True es igual a 1** y **False es igual a 0**, sumar valores booleanos es una forma rápida de contar el número de valores `True`. Esto puede ser útil cuando necesita contar la cantidad de elementos que cumplen una condición.\n",
        "\n",
        "\n",
        "# **EJERCICIOS**"
      ]
    },
    {
      "cell_type": "markdown",
      "metadata": {
        "id": "I1kgAOsTKqlx"
      },
      "source": [
        "<p>\n",
        "    <img src=\"https://cdn.icon-icons.com/icons2/1130/PNG/512/numberzeroinacircle_80181.png\" alt=\"01\" width=\"65\" height=\"65\" />\n",
        "    <img src=\"https://cdn.icon-icons.com/icons2/1130/PNG/512/numberoneinacircle_80030.png\" alt=\"01\" width=\"65\" height=\"65\" />\n",
        "</p>\n",
        "\n",
        "\n",
        "* **ID:** PYLVL1BBOOL-01\n",
        "* **DESCRIPCIÓN:**\n",
        "\n",
        "  Escribe una expresión matemática cuyo resultado sea verdadero `True`, recuerde utilizar `print()` para mostrar el resultado.\n"
      ]
    },
    {
      "cell_type": "code",
      "execution_count": null,
      "metadata": {
        "colab": {
          "base_uri": "https://localhost:8080/"
        },
        "id": "U5sG3Z_2Meo3",
        "outputId": "bab32bbc-c942-4296-ef06-174d18a84eaa"
      },
      "outputs": [
        {
          "output_type": "stream",
          "name": "stdout",
          "text": [
            "True\n"
          ]
        }
      ],
      "source": [
        "num1 = 8\n",
        "num2 = 3\n",
        "resultado = num1 >= num2\n",
        "print(resultado)"
      ]
    },
    {
      "cell_type": "markdown",
      "metadata": {
        "id": "kiToUnqMNmJc"
      },
      "source": [
        "<p>\n",
        "    <img src=\"https://cdn.icon-icons.com/icons2/1130/PNG/512/numberzeroinacircle_80181.png\" alt=\"02\" width=\"65\" height=\"65\" />\n",
        "    <img src=\"https://cdn.icon-icons.com/icons2/1130/PNG/512/numbertwoinacircle_80299.png\" alt=\"02\" width=\"65\" height=\"65\" />\n",
        "</p>\n",
        "\n",
        "* **ID:** PYLVL1BBOOL-02\n",
        "* **DESCRIPCIÓN:**\n",
        "\n",
        "  Escribe una expresión matemática cuyo resultado sea falso `False`, recuerde utilizar `print()` para mostrar el resultado."
      ]
    },
    {
      "cell_type": "code",
      "execution_count": null,
      "metadata": {
        "colab": {
          "base_uri": "https://localhost:8080/"
        },
        "id": "PP9Ioa9TQ8dy",
        "outputId": "9271bec8-91a9-448a-e5cd-e244d1d7950c"
      },
      "outputs": [
        {
          "output_type": "stream",
          "name": "stdout",
          "text": [
            "False\n"
          ]
        }
      ],
      "source": [
        "num1 = 8\n",
        "num2 = 3\n",
        "resultado = num1 <= num2\n",
        "print(resultado)"
      ]
    },
    {
      "cell_type": "markdown",
      "metadata": {
        "id": "N5EqgFikQH46"
      },
      "source": [
        "<p>\n",
        "    <img src=\"https://cdn.icon-icons.com/icons2/1130/PNG/512/numberzeroinacircle_80181.png\" alt=\"03\" width=\"65\" height=\"65\" />\n",
        "    <img src=\"https://cdn.icon-icons.com/icons2/1130/PNG/512/numberthreeinacircle_80289.png\" alt=\"03\" width=\"65\" height=\"65\" />\n",
        "</p>\n",
        "\n",
        "\n",
        "* **ID:** PYLVL1BBOOL-03\n",
        "* **DESCRIPCIÓN:**\n",
        "\n",
        "  Escribe una expresión matemática cuyo resultado sea verdadero `True` sin utilizar los peradores de mayor que `>` y menor que `<`, , recuerde utilizar `print()` para mostrar el resultado.\n"
      ]
    },
    {
      "cell_type": "code",
      "execution_count": null,
      "metadata": {
        "colab": {
          "base_uri": "https://localhost:8080/"
        },
        "id": "wenUGkHINCyq",
        "outputId": "518b5bbd-c043-4db8-c01d-de314efede5d"
      },
      "outputs": [
        {
          "output_type": "stream",
          "name": "stdout",
          "text": [
            "True\n"
          ]
        }
      ],
      "source": [
        "num1 = 3\n",
        "num2 = 3\n",
        "resultado = num1 == num2\n",
        "print(resultado)"
      ]
    },
    {
      "cell_type": "markdown",
      "metadata": {
        "id": "FUESHrYcl5Om"
      },
      "source": [
        "<p>\n",
        "    <img src=\"https://cdn.icon-icons.com/icons2/1130/PNG/512/numberzeroinacircle_80181.png\" alt=\"04\" width=\"65\" height=\"65\" />\n",
        "    <img src=\"https://cdn.icon-icons.com/icons2/1130/PNG/512/numberfourincircularbutton_80047.png\" alt=\"04\" width=\"65\" height=\"65\" />\n",
        "</p>\n",
        "\n",
        "\n",
        "* **ID:** PYLVL1BBOOL-04\n",
        "* **DESCRIPCIÓN:**\n",
        "\n",
        "  Escribe una expresión matemática cuyo resultado sea falso `False` sin utilizar los peradores de mayor que `>` y menor que `<`, recuerde utilizar `print()` para mostrar el resultado.\n",
        "\n"
      ]
    },
    {
      "cell_type": "code",
      "execution_count": null,
      "metadata": {
        "colab": {
          "base_uri": "https://localhost:8080/"
        },
        "id": "4kZX3b9om0ah",
        "outputId": "55e25e36-53a0-44a0-ea99-5f5f22a3bfcc"
      },
      "outputs": [
        {
          "output_type": "stream",
          "name": "stdout",
          "text": [
            "False\n"
          ]
        }
      ],
      "source": [
        "num1 = 8\n",
        "num2 = 3\n",
        "resultado = num1 == num2\n",
        "print(resultado)"
      ]
    },
    {
      "cell_type": "markdown",
      "metadata": {
        "id": "gPYhoT54oIWg"
      },
      "source": [
        "<p>\n",
        "    <img src=\"https://cdn.icon-icons.com/icons2/1130/PNG/512/numberzeroinacircle_80181.png\" alt=\"05\" width=\"65\" height=\"65\" />\n",
        "    <img src=\"https://cdn.icon-icons.com/icons2/1130/PNG/512/numberfiveincircularbutton_80245.png\" alt=\"05\" width=\"65\" height=\"65\" />\n",
        "</p>\n",
        "\n",
        "\n",
        "* **ID:** PYLVL1BBOOL-05\n",
        "* **DESCRIPCIÓN:**\n",
        "\n",
        "  Utilice los booleanos como numeros para establecer una operación cuyo valor final sea 5, recuerde utilizar `print()` para mostrar el resultado.\n"
      ]
    },
    {
      "cell_type": "code",
      "execution_count": null,
      "metadata": {
        "colab": {
          "base_uri": "https://localhost:8080/"
        },
        "id": "ph22teESoNhq",
        "outputId": "5e90dbc1-542e-4f2a-9d16-66231fc13c6e"
      },
      "outputs": [
        {
          "output_type": "stream",
          "name": "stdout",
          "text": [
            "5\n"
          ]
        }
      ],
      "source": [
        "resultado = True + True + True + True + True\n",
        "print(resultado)"
      ]
    },
    {
      "cell_type": "markdown",
      "metadata": {
        "id": "1CJrKyJ2QrE1"
      },
      "source": [
        "<p>\n",
        "    <img src=\"https://cdn.icon-icons.com/icons2/1130/PNG/512/numberzeroinacircle_80181.png\" alt=\"06\" width=\"65\" height=\"65\" />\n",
        "    <img src=\"https://cdn.icon-icons.com/icons2/1130/PNG/512/numbersixinacircle_80203.png\" alt=\"06\" width=\"65\" height=\"65\" />\n",
        "</p>\n",
        "\n",
        "\n",
        "* **ID:** PYLVL1BBOOL-06\n",
        "* **DESCRIPCIÓN:**\n",
        "\n",
        "  Utilice los booleanos como numeros para establecer una operación cuyo valor final sea 10 (Haciendo uso varias veces de los booleanos True y False), recuerde utilizar `print()` para mostrar el resultado."
      ]
    },
    {
      "cell_type": "code",
      "execution_count": null,
      "metadata": {
        "colab": {
          "base_uri": "https://localhost:8080/"
        },
        "id": "-P9EMTo3Q79B",
        "outputId": "0ab8415d-e647-47a5-caf8-1f47454490db"
      },
      "outputs": [
        {
          "output_type": "stream",
          "name": "stdout",
          "text": [
            "10\n"
          ]
        }
      ],
      "source": [
        "resultado = (True + False)*10\n",
        "print(resultado)"
      ]
    }
  ],
  "metadata": {
    "colab": {
      "provenance": [],
      "include_colab_link": true
    },
    "kernelspec": {
      "display_name": "Python 3",
      "name": "python3"
    },
    "language_info": {
      "codemirror_mode": {
        "name": "ipython",
        "version": 3
      },
      "file_extension": ".py",
      "mimetype": "text/x-python",
      "name": "python",
      "nbconvert_exporter": "python",
      "pygments_lexer": "ipython3",
      "version": "3.10.8"
    }
  },
  "nbformat": 4,
  "nbformat_minor": 0
}