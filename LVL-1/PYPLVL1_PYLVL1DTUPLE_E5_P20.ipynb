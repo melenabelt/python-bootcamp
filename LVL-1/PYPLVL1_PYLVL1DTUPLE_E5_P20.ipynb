{
  "cells": [
    {
      "cell_type": "markdown",
      "metadata": {
        "id": "view-in-github",
        "colab_type": "text"
      },
      "source": [
        "<a href=\"https://colab.research.google.com/github/melenabelt/python-bootcamp/blob/master/PYPLVL1_PYLVL1DTUPLE_E5_P20.ipynb\" target=\"_parent\"><img src=\"https://colab.research.google.com/assets/colab-badge.svg\" alt=\"Open In Colab\"/></a>"
      ]
    },
    {
      "cell_type": "markdown",
      "metadata": {
        "id": "UfW60bM4ozzt"
      },
      "source": [
        "<p><img src=\"https://upload.wikimedia.org/wikipedia/commons/thumb/1/13/SoftServe_logo_2017.svg/179px-SoftServe_logo_2017.svg.png?20220507181101\" alt=\"\" width=\"363\" height=\"63\" /></p>\n",
        "\n",
        "----\n",
        "\n",
        "### **INFORMACIÓN TECNICA**\n",
        "* **ID:** PYPLVL1_PYLVL1DTUPLE_E5_P20\n",
        "* **Python Versión:** 3.x\n",
        "* **Versión:** 0.0.1\n",
        "---\n",
        "### **INTRODUCCIÓN**\n",
        "\n",
        "En Python, una tupla es una estructura de datos utilizada para almacenar una colección ordenada de elementos. Es similar a una lista, pero con algunas diferencias clave. La característica principal de las tuplas es que son inmutables, lo que significa que sus elementos no pueden cambiar después de su creación. Esta inmutabilidad distingue a las tuplas de las listas, que pueden modificarse.\n",
        "\n",
        "Las tuplas se utilizan comúnmente para almacenar piezas de datos relacionadas juntas, especialmente cuando el número de elementos es fijo y no debe modificarse. A menudo se utilizan como claves en diccionarios debido a su inmutabilidad, a diferencia de las listas.\n",
        "\n",
        "Recuerda que una vez que se crea una tupla, no puedes cambiar sus elementos directamente. Si necesitas una colección que pueda modificarse, debes usar una lista en su lugar.\n",
        "\n",
        "### **QUE SE APRENDERA**\n",
        "\n",
        "  - **Crear una tupla:** <br/>\n",
        "    Puedes crear una tupla encerrando una secuencia de elementos entre paréntesis (). Los elementos dentro de la tupla se separan por comas. Por ejemplo:<br/>\n",
        "    ```python\n",
        "    mi_tupla = (1, 2, 3, \"hola\", True)\n",
        "    ```\n",
        "  - **Acceder a los elementos:** <br/>\n",
        "    Puedes acceder a los elementos individuales de una tupla utilizando indexación, al igual que en las listas. La indexación comienza en 0 para el primer elemento, 1 para el segundo elemento, y así sucesivamente. Por ejemplo:<br/>\n",
        "    ```python\n",
        "    print(mi_tupla[0])  # Salida: 1\n",
        "    print(mi_tupla[3])  # Salida: \"hola\"\n",
        "    ```\n",
        "\n",
        "  - **Empaquetar y desempaquetar tuplas:** <br/>\n",
        "    También puedes crear una tupla simplemente separando los valores con comas. Esto se conoce como empaquetar la tupla. De manera similar, puedes extraer valores de una tupla y asignarlos a variables, lo que se llama desempaquetar la tupla. Por ejemplo:<br/>\n",
        "    ```python\n",
        "    # Empaquetar una tupla\n",
        "    mi_tupla_empacada = 1, 2, \"hola\"\n",
        "\n",
        "    # Desempaquetar la tupla\n",
        "    x, y, z = mi_tupla_empacada\n",
        "    print(x)  # Salida: 1\n",
        "    print(y)  # Salida: 2\n",
        "    print(z)  # Salida: \"hola\"\n",
        "    ```\n",
        "\n",
        "  - **Métodos de las tuplas:** <br/>\n",
        "    Las tuplas son inmutables, por lo que carecen de algunos de los métodos específicos de las listas que modifican elementos. Sin embargo, aún tienen algunos métodos incorporados como `count()` e `index()``:<br/>\n",
        "    ```python\n",
        "    mi_tupla = (1, 2, 2, 3, 3, 3)\n",
        "    print(mi_tupla.count(2))  # Salida: 2 (contar las ocurrencias de 2)\n",
        "    print(mi_tupla.index(3))  # Salida: 3 (encontrar el primer índice de 3)\n",
        "    ``````\n",
        "\n",
        "# **EJERCICIOS**"
      ]
    },
    {
      "cell_type": "markdown",
      "metadata": {
        "id": "dAFqHEPSozzw"
      },
      "source": [
        "<p>\n",
        "    <img src=\"https://cdn.icon-icons.com/icons2/1130/PNG/512/numberzeroinacircle_80181.png\" alt=\"01\" width=\"65\" height=\"65\" />\n",
        "    <img src=\"https://cdn.icon-icons.com/icons2/1130/PNG/512/numberoneinacircle_80030.png\" alt=\"01\" width=\"65\" height=\"65\" />\n",
        "</p>\n",
        "\n",
        "\n",
        "* **ID:** PYLVL1DTUPLE-01\n",
        "* **DESCRIPCIÓN:**\n",
        "\n",
        "    Dado un parametro `n` que tiene un numero N, escribir dentro de la función ``function`` la lógica que permita retornar una matriz N x N de tuplas que contenga como elementos solo **'A'**.\n",
        "\n",
        "\\\n",
        "Ejemplo:\n",
        "\n",
        "```python\n",
        "N = 2\n",
        "\n",
        "# Retorna:\n",
        "    (('A', 'A'), ('A', 'A'))\n",
        "```\n",
        "\n",
        "\\\n",
        "**Reglas:**\n",
        "1. No modifique la declaración de la función. El concepto detras de las funciones se verá mas adelante.\n",
        "2. Si no sigue alguna de estas reglas, el ejercicio será marcado como erroneo.\n",
        "\n",
        "\\\n",
        "**Respuesta Esperada:**\n",
        "\n",
        "```python\n",
        "return matriz\n",
        "```"
      ]
    },
    {
      "cell_type": "code",
      "execution_count": null,
      "metadata": {
        "colab": {
          "base_uri": "https://localhost:8080/"
        },
        "id": "6Z2iR7YIozzx",
        "outputId": "a9641ab7-ac28-4116-9565-fa5926854ffc"
      },
      "outputs": [
        {
          "output_type": "stream",
          "name": "stdout",
          "text": [
            "['A', 'A']\n",
            "('A', 'A')\n",
            "(('A', 'A'), ('A', 'A'))\n"
          ]
        },
        {
          "output_type": "execute_result",
          "data": {
            "text/plain": [
              "(('A', 'A'), ('A', 'A'))"
            ]
          },
          "metadata": {},
          "execution_count": 8
        }
      ],
      "source": [
        "def function(n):\n",
        "    elemento: str = 'A'\n",
        "    lista: list = []\n",
        "\n",
        "    result_matriz: list = [elemento] * n\n",
        "    print(result_matriz)\n",
        "\n",
        "    matriz: tuple = tuple(result_matriz)\n",
        "    print(matriz)\n",
        "\n",
        "    matriz = tuple([matriz] * n)\n",
        "    print(matriz)\n",
        "\n",
        "    return matriz\n",
        "\n",
        "function(2)"
      ]
    },
    {
      "cell_type": "markdown",
      "metadata": {
        "id": "bZM3zzwkozzy"
      },
      "source": [
        "<p>\n",
        "    <img src=\"https://cdn.icon-icons.com/icons2/1130/PNG/512/numberzeroinacircle_80181.png\" alt=\"02\" width=\"65\" height=\"65\" />\n",
        "    <img src=\"https://cdn.icon-icons.com/icons2/1130/PNG/512/numbertwoinacircle_80299.png\" alt=\"02\" width=\"65\" height=\"65\" />\n",
        "</p>\n",
        "\n",
        "* **ID:** PYLVL1DTUPLE-02\n",
        "* **DESCRIPCIÓN:**\n",
        "\n",
        "    Dada un parametro `tupla` de N elementos numericos y otro parametro `valor` con un input númerico, escribir dentro de la función ``function`` la lógica que permita que cuente el numero de ocurrencias dado un valor y luego duplique ese numero de veces los elementos en la tupla. Retornar la tupla resultante.\n",
        "\n",
        "\\\n",
        "**Reglas:**\n",
        "1. No modifique la declaración de la función. El concepto detras de las funciones se verá mas adelante.\n",
        "2. Si no sigue alguna de estas reglas, el ejercicio será marcado como erroneo.\n",
        "3. los elementos iguales deben quedar organizados de manera secuencial en la tupla final.\n",
        "\n",
        "\\\n",
        "**Respuesta Esperada:**\n",
        "\n",
        "```python\n",
        "return tupla_resultante\n",
        "```"
      ]
    },
    {
      "cell_type": "code",
      "execution_count": null,
      "metadata": {
        "colab": {
          "base_uri": "https://localhost:8080/"
        },
        "id": "AHBeCSLmozzz",
        "outputId": "c8c2a6e2-50b8-44c2-9beb-a156a837696a"
      },
      "outputs": [
        {
          "output_type": "execute_result",
          "data": {
            "text/plain": [
              "(1,\n",
              " 1,\n",
              " 1,\n",
              " 2,\n",
              " 2,\n",
              " 2,\n",
              " 2,\n",
              " 2,\n",
              " 2,\n",
              " 2,\n",
              " 2,\n",
              " 2,\n",
              " 3,\n",
              " 3,\n",
              " 3,\n",
              " 7,\n",
              " 7,\n",
              " 7,\n",
              " 20,\n",
              " 20,\n",
              " 20,\n",
              " 20,\n",
              " 20,\n",
              " 20,\n",
              " 30,\n",
              " 30,\n",
              " 30)"
            ]
          },
          "metadata": {},
          "execution_count": 9
        }
      ],
      "source": [
        "def function(tupla, valor):\n",
        "    #Encontrar cuántas veces está valor en tupla\n",
        "    #Duplicar ese cuántas veces los elementos en la tupla resultante\n",
        "\n",
        "    # print(\"Tupla original:\", tupla)\n",
        "    conteo = tupla.count(valor)\n",
        "    # print(\"El número\", valor, \"se encuentra\", conteo, \"veces en la tupla\")\n",
        "\n",
        "    lista = list(tupla)\n",
        "\n",
        "    retorno =  tuple(sorted(lista * conteo))\n",
        "    # print(retorno)\n",
        "\n",
        "    return retorno\n",
        "\n",
        "function((1, 2, 3, 20, 30, 20, 2, 7, 2), 2)"
      ]
    },
    {
      "cell_type": "markdown",
      "metadata": {
        "id": "74mE0_O2ozzz"
      },
      "source": [
        "<p>\n",
        "    <img src=\"https://cdn.icon-icons.com/icons2/1130/PNG/512/numberzeroinacircle_80181.png\" alt=\"03\" width=\"65\" height=\"65\" />\n",
        "    <img src=\"https://cdn.icon-icons.com/icons2/1130/PNG/512/numberthreeinacircle_80289.png\" alt=\"03\" width=\"65\" height=\"65\" />\n",
        "</p>\n",
        "\n",
        "\n",
        "* **ID:** PYLVL1DTUPLE-03\n",
        "* **DESCRIPCIÓN:**\n",
        "\n",
        "    Dada una tupla de 5 elementos, escribir dentro de la función ``function`` la lógica que permita distribuir los elementos en 3 variables.\n",
        "\n",
        "    **Nota**: los elementos no necesiaramente deben ser distribuidos en tamaños iguales.\n",
        "\n",
        "\\\n",
        "**Reglas:**\n",
        "1. Este ejercicio es netamente educativo para entender mejor el concepto expuesto.\n",
        "2. No modifique la declaración de la función. El concepto detras de las funciones se verá mas adelante.\n",
        "3. Si no sigue alguna de estas reglas, el ejercicio será marcado como erroneo.\n",
        "\n",
        "\\\n",
        "**Respuesta Esperada:**\n",
        "\n",
        "```python\n",
        "return variable_1, variable_2, variable_3\n",
        "\n",
        "```"
      ]
    },
    {
      "cell_type": "code",
      "execution_count": null,
      "metadata": {
        "colab": {
          "base_uri": "https://localhost:8080/"
        },
        "id": "xZFLeTogozzz",
        "outputId": "c1f12821-d9a6-4a6f-c4db-ce358e4912b6"
      },
      "outputs": [
        {
          "output_type": "stream",
          "name": "stdout",
          "text": [
            "A B ['C', 'D', 'E']\n"
          ]
        },
        {
          "output_type": "execute_result",
          "data": {
            "text/plain": [
              "('A', 'B', ['C', 'D', 'E'])"
            ]
          },
          "metadata": {},
          "execution_count": 10
        }
      ],
      "source": [
        "def function(tupla):\n",
        "    # Distribuir los elementos en 3 variables\n",
        "    # print(tupla)\n",
        "    a, b, *c = tupla\n",
        "    print(a, b, c)\n",
        "\n",
        "    return a, b, c\n",
        "\n",
        "function(('A', 'B', 'C', 'D', 'E'))"
      ]
    },
    {
      "cell_type": "markdown",
      "metadata": {
        "id": "Yhvibc0jozzz"
      },
      "source": [
        "<p>\n",
        "    <img src=\"https://cdn.icon-icons.com/icons2/1130/PNG/512/numberzeroinacircle_80181.png\" alt=\"04\" width=\"65\" height=\"65\" />\n",
        "    <img src=\"https://cdn.icon-icons.com/icons2/1130/PNG/512/numberfourincircularbutton_80047.png\" alt=\"04\" width=\"65\" height=\"65\" />\n",
        "</p>\n",
        "\n",
        "\n",
        "* **ID:** PYLVL1DTUPLE-04\n",
        "* **DESCRIPCIÓN:**\n",
        "\n",
        "    Dada una `tupla` de 5 elementos, escribir dentro de la función ``function`` la lógica quemuestre y retorne el siguiente mensaje y al final agregue los elementos de la tupla separado por ', '\n",
        "\n",
        "    **Mensaje**: hola mundo, esto es:\n",
        "\n",
        "\\\n",
        "**Reglas:**\n",
        "1. Este ejercicio es netamente educativo para que entienda mejor el concepto expuesto.\n",
        "2. No modifique la declaración de la función. El concepto detras de las funciones se verá mas adelante.\n",
        "3. Si no sigue alguna de estas reglas, el ejercicio será marcado como erroneo.\n",
        "\n",
        "\\\n",
        "**Respuesta Esperada:**\n",
        "\n",
        "```python\n",
        "print(mensaje)\n",
        "return mensaje\n",
        "\n",
        "```"
      ]
    },
    {
      "cell_type": "code",
      "execution_count": null,
      "metadata": {
        "colab": {
          "base_uri": "https://localhost:8080/",
          "height": 54
        },
        "id": "Tyazhquuozz0",
        "outputId": "72f00e4a-6a9e-475a-9bab-fcc2ca60cb39"
      },
      "outputs": [
        {
          "output_type": "stream",
          "name": "stdout",
          "text": [
            "hola mundo, esto es: A, B, C, D, E\n"
          ]
        },
        {
          "output_type": "execute_result",
          "data": {
            "text/plain": [
              "'hola mundo, esto es: A, B, C, D, E'"
            ],
            "application/vnd.google.colaboratory.intrinsic+json": {
              "type": "string"
            }
          },
          "metadata": {},
          "execution_count": 11
        }
      ],
      "source": [
        "def function(tupla):\n",
        "    # Mostrar y retornar mensaje \"hola mundo, esto es:\"\n",
        "    # Seguido del mensaje van los elementos de la tupla separados por coma ','\n",
        "    string: str = \"hola mundo, esto es: \"\n",
        "    a, b, c, d, e = tupla\n",
        "    # print(a, b, c, d, e)\n",
        "\n",
        "    mensaje = string + str(a) + \", \" + str(b) + \", \" + str(c) + \", \" + str(d) + \", \" + str(e)\n",
        "\n",
        "    print(mensaje)\n",
        "    return mensaje\n",
        "\n",
        "function(('A', 'B', 'C', 'D', 'E'))\n",
        "# function((2, 'B', 1, True, 'E'))"
      ]
    },
    {
      "cell_type": "markdown",
      "metadata": {
        "id": "gFwTydV2ozz0"
      },
      "source": [
        "<p>\n",
        "    <img src=\"https://cdn.icon-icons.com/icons2/1130/PNG/512/numberzeroinacircle_80181.png\" alt=\"05\" width=\"65\" height=\"65\" />\n",
        "    <img src=\"https://cdn.icon-icons.com/icons2/1130/PNG/512/numberfiveincircularbutton_80245.png\" alt=\"05\" width=\"65\" height=\"65\" />\n",
        "</p>\n",
        "\n",
        "\n",
        "* **ID:** PYLVL1DTUPLE-05\n",
        "* **DESCRIPCIÓN:**\n",
        "\n",
        "    Dentro de la función ``function`` digite su nombre en un string, luego conviertalo a tuple y por ultimo formatee el siguiente mensaje para incluir la tupla conteniendo su nombre dentro del mensaje.\n",
        "\n",
        "    **Mensaje**: Hola, mi nombre es `{nombre}`, mi primer apellido es `{primer_apellido}` y mi segundo apellido es `{segundo apellido}`, mucho gusto\n",
        "\n",
        "\\\n",
        "**Condiciones**:\n",
        "* No puede separar el string, solo formatearlo.\n",
        "* Si tiene dos nombres, utilizar solo uno de los dos.\n",
        "\n",
        "\\\n",
        "**Reglas:**\n",
        "1. Este ejercicio es netamente educativo para que entienda mejor el concepto expuesto.\n",
        "2. No modifique la declaración de la función. El concepto detras de las funciones se verá mas adelante.\n",
        "3. Si no sigue alguna de estas reglas, el ejercicio será marcado como erroneo.\n",
        "\n",
        "\n",
        "\\\n",
        "**Respuesta Esperada:**\n",
        "\n",
        "```python\n",
        "# Muestre el mensaje y Retorne la variable donde contiene el nombre y el mensaje:\n",
        "\n",
        "print(mensaje)\n",
        "return nombre, mensaje\n",
        "\n",
        "```"
      ]
    },
    {
      "cell_type": "code",
      "execution_count": null,
      "metadata": {
        "colab": {
          "base_uri": "https://localhost:8080/"
        },
        "id": "yQpsUsoqozz0",
        "outputId": "23fc1001-493e-45ee-c957-2b74c88404f0"
      },
      "outputs": [
        {
          "output_type": "stream",
          "name": "stdout",
          "text": [
            "Hola, mi nombre es Elena, mi primer apellido es Correa y mi segundo apellido es Cano, mucho gusto\n"
          ]
        },
        {
          "output_type": "execute_result",
          "data": {
            "text/plain": [
              "('Elena Correa Cano',\n",
              " 'Hola, mi nombre es Elena, mi primer apellido es Correa y mi segundo apellido es Cano, mucho gusto')"
            ]
          },
          "metadata": {},
          "execution_count": 12
        }
      ],
      "source": [
        "def function(__unused):\n",
        "    __unused: str = \"Elena Correa Cano\"\n",
        "    # print(__unused)\n",
        "\n",
        "    tupla_nombre: tuple = tuple(__unused.split())\n",
        "    # print(tupla_nombre)\n",
        "\n",
        "    nombre, primer_apellido, segundo_apellido = tupla_nombre\n",
        "    # print(nombre, primer_apellido, segundo_apellido)\n",
        "\n",
        "    mensaje = f\"Hola, mi nombre es {nombre}, mi primer apellido es {primer_apellido} y mi segundo apellido es {segundo_apellido}, mucho gusto\"\n",
        "\n",
        "    print(mensaje)\n",
        "    return __unused, mensaje\n",
        "\n",
        "\n",
        "function(\"Elena Correa Cano\")"
      ]
    }
  ],
  "metadata": {
    "kernelspec": {
      "display_name": "evaluator-WNwgce54-py3.9",
      "language": "python",
      "name": "python3"
    },
    "language_info": {
      "codemirror_mode": {
        "name": "ipython",
        "version": 3
      },
      "file_extension": ".py",
      "mimetype": "text/x-python",
      "name": "python",
      "nbconvert_exporter": "python",
      "pygments_lexer": "ipython3",
      "version": "3.9.12"
    },
    "orig_nbformat": 4,
    "colab": {
      "provenance": [],
      "include_colab_link": true
    }
  },
  "nbformat": 4,
  "nbformat_minor": 0
}