{
  "cells": [
    {
      "cell_type": "markdown",
      "metadata": {
        "id": "view-in-github",
        "colab_type": "text"
      },
      "source": [
        "<a href=\"https://colab.research.google.com/github/melenabelt/python-bootcamp/blob/master/PYPLVL1_PYLVL1EDICT_E10_P20.ipynb\" target=\"_parent\"><img src=\"https://colab.research.google.com/assets/colab-badge.svg\" alt=\"Open In Colab\"/></a>"
      ]
    },
    {
      "cell_type": "markdown",
      "metadata": {
        "id": "f95p817qByaC"
      },
      "source": [
        "<p><img src=\"https://upload.wikimedia.org/wikipedia/commons/thumb/1/13/SoftServe_logo_2017.svg/179px-SoftServe_logo_2017.svg.png?20220507181101\" alt=\"\" width=\"363\" height=\"63\" /></p>\n",
        "\n",
        "----\n",
        "\n",
        "### **INFORMACIÓN TECNICA**\n",
        "* **ID:** PYPLVL1_PYLVL1EDICT_E10_P20\n",
        "* **Python Versión:** 3.x\n",
        "* **Versión:** 0.0.1\n",
        "---\n",
        "### **INTRODUCCIÓN**\n",
        "\n",
        "En este modulo se ejercitara todo lo concerniente a las Diccionarios, desde su creacion, identificacion, y los metodos que se pueden ejecutar.\n",
        "\n",
        "En Python, un diccionario es una colección de pares clave-valor. Es un tipo de dato desordenado y mutable que te permite almacenar y recuperar datos utilizando claves únicas. Los diccionarios también son conocidos como \"hash maps\" o \"arrays asociativos\" en otros lenguajes de programación.\n",
        "\n",
        "Los diccionarios son estructuras de datos poderosas que se utilizan ampliamente para almacenar datos, realizar búsquedas y construir estructuras de datos complejas en Python. Proporcionan una forma conveniente de asociar datos con claves específicas, lo que los hace eficientes para diversas tareas de programación.\n",
        "\n",
        "### **QUE SE APRENDERA**\n",
        "\n",
        "- Crear un Diccionario:<br/>\n",
        "  Para crear un diccionario en Python, encierra los pares clave-valor dentro de llaves `{}`. Cada par clave-valor se separa con dos puntos `:`. Las claves deben ser únicas y pueden ser de diversos tipos de datos como cadenas, números o tuplas. Los valores pueden ser de cualquier tipo de dato, incluso otros diccionarios.\n",
        "  ```python\n",
        "  # Diccionario con claves de tipo cadena y valores de tipo entero\n",
        "  estudiante = {\"nombre\": \"Juan\", \"edad\": 25, \"nota\": 85}\n",
        "\n",
        "  # Diccionario con claves de tipo entero y valores de tipo cadena\n",
        "  meses = {1: \"Enero\", 2: \"Febrero\", 3: \"Marzo\"}\n",
        "\n",
        "  ```\n",
        "\n",
        "- Acceder a Valores en un Diccionario:<br/>\n",
        "  Puedes acceder a los valores en un diccionario especificando la clave entre corchetes [] o utilizando el método get(). Si la clave no está presente, acceder a ella mediante corchetes generará un KeyError, mientras que get() devolverá None o un valor predeterminado especificado por ti.\n",
        "  ```python\n",
        "  estudiante = {\"nombre\": \"Juan\", \"edad\": 25, \"nota\": 85}\n",
        "\n",
        "  # Acceder a valores mediante corchetes\n",
        "  nombre = estudiante[\"nombre\"]  # Resultado: \"Juan\"\n",
        "\n",
        "  # Acceder a valores mediante get()\n",
        "  edad = estudiante.get(\"edad\")  # Resultado: 25\n",
        "\n",
        "  ```\n",
        "\n",
        "- Modificar y Agregar Elementos:<br/>\n",
        "  Los diccionarios son mutables, lo que significa que puedes modificar pares clave-valor existentes o agregar nuevos.\n",
        "  ```python\n",
        "  estudiante = {\"nombre\": \"Juan\", \"edad\": 25, \"nota\": 85}\n",
        "\n",
        "  # Modificar un valor\n",
        "  estudiante[\"edad\"] = 26\n",
        "\n",
        "  # Agregar un nuevo par clave-valor\n",
        "  estudiante[\"genero\"] = \"Masculino\"\n",
        "\n",
        "  ```\n",
        "\n",
        "- Métodos de Diccionarios:<br/>\n",
        "Python proporciona varios métodos integrados para trabajar con diccionarios. Algunos métodos comunes incluyen `keys()`, `values()`, `items()`, `pop()`, `popitem()` y `clear()`.\n",
        "  ```python\n",
        "  estudiante = {\"nombre\": \"Juan\", \"edad\": 25, \"nota\": 85}\n",
        "\n",
        "  # Obtener todas las claves\n",
        "  claves = estudiante.keys()  # Resultado: [\"nombre\", \"edad\", \"nota\"]\n",
        "\n",
        "  # Obtener todos los valores\n",
        "  valores = estudiante.values()  # Resultado: [\"Juan\", 25, 85]\n",
        "\n",
        "  # Obtener todos los pares clave-valor como tuplas\n",
        "  items = estudiante.items()  # Resultado: [(\"nombre\", \"Juan\"), (\"edad\", 25), (\"nota\", 85)]\n",
        "\n",
        "  # Eliminar un par clave-valor por clave\n",
        "  estudiante.pop(\"edad\")\n",
        "\n",
        "  # Eliminar y devolver el último par clave-valor (Python 3.7+)\n",
        "  elemento_eliminado = estudiante.popitem()\n",
        "\n",
        "  ```\n",
        "\n",
        "# **EJERCICIOS**"
      ]
    },
    {
      "cell_type": "markdown",
      "metadata": {
        "id": "I1kgAOsTKqlx"
      },
      "source": [
        "<p>\n",
        "    <img src=\"https://cdn.icon-icons.com/icons2/1130/PNG/512/numberzeroinacircle_80181.png\" alt=\"01\" width=\"65\" height=\"65\" />\n",
        "    <img src=\"https://cdn.icon-icons.com/icons2/1130/PNG/512/numberoneinacircle_80030.png\" alt=\"01\" width=\"65\" height=\"65\" />\n",
        "</p>\n",
        "\n",
        "* **ID:** PYLVL1EDICT-01\n",
        "* **DESCRIPCIÓN:**\n",
        "    Un Diccionario es una estructura y tipo de dato en Python donde nos permite almacenar cualquier tipo de dato: enteros, cadenas, listas e incluso otras funciones y otros diccionarios anidados.\n",
        "\n",
        "    el objeto diccionario se genera a traves de llaves y su estructura es key:value\n",
        "\n",
        "    **Ejercicio:**<br/>\n",
        "    Escribir dentro de la función ``function`` la lógica para:\n",
        "    1. cree un objeto diccionario vacio\n",
        "    2. cree un objeto diccionario inicializado con 3 pares de valores\n",
        "\n",
        "\\\n",
        "**Reglas:**\n",
        "1. No modifique la declaración de la función. El concepto detras de las funciones se verá mas adelante.\n",
        "2. Si no sigue alguna de estas reglas, el ejercicio será marcado como erroneo.\n",
        "3. muestre y retorne los diccionarios creados.\n",
        "\n",
        "\\\n",
        "**Respuesta Esperada:**\n",
        "\n",
        "```python\n",
        "print(diccionario)\n",
        "return diccionario\n",
        "\n",
        "```"
      ]
    },
    {
      "cell_type": "code",
      "execution_count": 4,
      "metadata": {
        "colab": {
          "base_uri": "https://localhost:8080/"
        },
        "id": "3iUURzRb84ds",
        "outputId": "20683c59-1424-4f6f-b3b0-04a5e82cc79c"
      },
      "outputs": [
        {
          "output_type": "stream",
          "name": "stdout",
          "text": [
            "{}\n",
            "{1: 'valor1', 2: 'valor2', 3: 'valor3'}\n"
          ]
        },
        {
          "output_type": "execute_result",
          "data": {
            "text/plain": [
              "({}, {1: 'valor1', 2: 'valor2', 3: 'valor3'})"
            ]
          },
          "metadata": {},
          "execution_count": 4
        }
      ],
      "source": [
        "# PYLVL1EDICT-1\n",
        "\n",
        "def function(_unused):\n",
        "    dic1: dict = {}\n",
        "    print(dic1)\n",
        "    dic2: dict = {1: \"valor1\", 2: \"valor2\", 3: \"valor3\"}\n",
        "    print(dic2 )\n",
        "\n",
        "    return dic1, dic2\n",
        "\n",
        "\n",
        "function(None)\n"
      ]
    },
    {
      "cell_type": "markdown",
      "metadata": {
        "id": "kiToUnqMNmJc"
      },
      "source": [
        "<p>\n",
        "    <img src=\"https://cdn.icon-icons.com/icons2/1130/PNG/512/numberzeroinacircle_80181.png\" alt=\"02\" width=\"65\" height=\"65\" />\n",
        "    <img src=\"https://cdn.icon-icons.com/icons2/1130/PNG/512/numbertwoinacircle_80299.png\" alt=\"02\" width=\"65\" height=\"65\" />\n",
        "</p>\n",
        "\n",
        "* **ID:** PYLVL1EDICT-02\n",
        "* **DESCRIPCIÓN:** Asignacion dinamica.\n",
        "\n",
        "    Se puede asignar dinamicamente mas elementos a un diccionario.\n",
        "\n",
        "    Dado el siguiente diccionario vacio, escribir dentro de la función ``function`` agregue los siguientes pares de valores nombre: Andres, edad: 28, fecha: [1,7,2023], tenga en cuenta los tipos de datos de cada elemento.\n",
        "\n",
        "\\\n",
        "**Reglas:**\n",
        "1. No modifique la declaración de la función. El concepto detras de las funciones se verá mas adelante.\n",
        "2. Si no sigue alguna de estas reglas, el ejercicio será marcado como erroneo.\n",
        "3. muestre y retorne el diccionario creado.\n",
        "\n",
        "\n",
        "\\\n",
        "**Respuesta Esperada:**\n",
        "\n",
        "```python\n",
        "print(diccionario)\n",
        "return diccionario\n",
        "\n",
        "```"
      ]
    },
    {
      "cell_type": "code",
      "execution_count": 5,
      "metadata": {
        "id": "PP9Ioa9TQ8dy",
        "colab": {
          "base_uri": "https://localhost:8080/"
        },
        "outputId": "03455e20-49e1-46ee-8c17-25cbb3bbf164"
      },
      "outputs": [
        {
          "output_type": "stream",
          "name": "stdout",
          "text": [
            "{'nombre': 'Andres', 'edad': 28, 'fecha': [1, 7, 2023]}\n"
          ]
        },
        {
          "output_type": "execute_result",
          "data": {
            "text/plain": [
              "{'nombre': 'Andres', 'edad': 28, 'fecha': [1, 7, 2023]}"
            ]
          },
          "metadata": {},
          "execution_count": 5
        }
      ],
      "source": [
        "# PYLVL1EDICT-2\n",
        "\n",
        "\n",
        "def function(_unused):\n",
        "    diccionario = {}\n",
        "    diccionario[\"nombre\"] = \"Andres\"\n",
        "    diccionario[\"edad\"] = 28\n",
        "    diccionario[\"fecha\"] = [1,7,2023]\n",
        "    print(diccionario)\n",
        "    return diccionario\n",
        "\n",
        "\n",
        "function(None)"
      ]
    },
    {
      "cell_type": "markdown",
      "metadata": {
        "id": "N5EqgFikQH46"
      },
      "source": [
        "<p>\n",
        "    <img src=\"https://cdn.icon-icons.com/icons2/1130/PNG/512/numberzeroinacircle_80181.png\" alt=\"03\" width=\"65\" height=\"65\" />\n",
        "    <img src=\"https://cdn.icon-icons.com/icons2/1130/PNG/512/numberthreeinacircle_80289.png\" alt=\"03\" width=\"65\" height=\"65\" />\n",
        "</p>\n",
        "\n",
        "\n",
        "* **ID:** PYLVL1EDICT-03\n",
        "* **DESCRIPCIÓN:** Asignacion dinamica\n",
        "\n",
        "    Se puede asignar dinamicamente mas elementos a un diccionario ingresando nuevos pares de elementos [key] = value\n",
        "\n",
        "    Dado un diccionario vacío: Agregue dentro de la función ``function`` los elementos email : Sergio@gmail.com , celular: 123456 y modifique el valor de edad a 30\n",
        "\n",
        "    Imprima y retorne el diccionario con las modificaciones realizadas.\n",
        "\n",
        "\\\n",
        "**Reglas:**\n",
        "1. No modifique la declaración de la función. El concepto detras de las funciones se verá mas adelante.\n",
        "2. Si no sigue alguna de estas reglas, el ejercicio será marcado como erroneo.\n",
        "3. muestre y retorne el diccionario creado.\n",
        "\n",
        "\\\n",
        "**Respuesta Esperada:**\n",
        "\n",
        "```python\n",
        "print(diccionario)\n",
        "return diccionario\n",
        "\n",
        "```"
      ]
    },
    {
      "cell_type": "code",
      "execution_count": 6,
      "metadata": {
        "id": "wenUGkHINCyq",
        "colab": {
          "base_uri": "https://localhost:8080/"
        },
        "outputId": "b9cd8551-859a-4414-d125-27c0180172bb"
      },
      "outputs": [
        {
          "output_type": "stream",
          "name": "stdout",
          "text": [
            "{'nombre': 'Sergio', 'edad': 25, 'genero': 'M', 'email': 'Sergio@gmail.com', 'celular': '123456'}\n"
          ]
        },
        {
          "output_type": "execute_result",
          "data": {
            "text/plain": [
              "{'nombre': 'Sergio',\n",
              " 'edad': 25,\n",
              " 'genero': 'M',\n",
              " 'email': 'Sergio@gmail.com',\n",
              " 'celular': '123456'}"
            ]
          },
          "metadata": {},
          "execution_count": 6
        }
      ],
      "source": [
        "def function(_unused):\n",
        "    datos = {\n",
        "        'nombre': 'Sergio',\n",
        "        'edad': 30,\n",
        "        'genero':'M'\n",
        "    }\n",
        "\n",
        "    datos_copia = datos.copy()\n",
        "    datos['email'] = 'Sergio@gmail.com'\n",
        "    datos['celular'] = '123456'\n",
        "    datos['edad'] = 25\n",
        "\n",
        "    print(datos)\n",
        "    return datos\n",
        "\n",
        "\n",
        "function(None)"
      ]
    },
    {
      "cell_type": "markdown",
      "metadata": {
        "id": "FUESHrYcl5Om"
      },
      "source": [
        "<p>\n",
        "    <img src=\"https://cdn.icon-icons.com/icons2/1130/PNG/512/numberzeroinacircle_80181.png\" alt=\"04\" width=\"65\" height=\"65\" />\n",
        "    <img src=\"https://cdn.icon-icons.com/icons2/1130/PNG/512/numberfourincircularbutton_80047.png\" alt=\"04\" width=\"65\" height=\"65\" />\n",
        "</p>\n",
        "\n",
        "\n",
        "* **ID:** PYLVL1EDICT-04\n",
        "* **DESCRIPCIÓN:** Elementos dentro de los diccionarios\n",
        "\n",
        "    Dado un parametro ``diccionario`` que entrega un objeto diccionario, escribir dentro de la función ``function`` la lógica que imprima y retorne secuencialmente:\n",
        "    1. al valor de la llave email.\n",
        "    2. al segundo valor de la llave 'feh', tenga en cuenta que es del tipo lista\n",
        "    3. al valor de la llave nombre\n",
        "    4. tiene que tener en cuenta que alguna de las llaves solicitadas no exista en el diccionario.\n",
        "\n",
        "\\\n",
        "**Reglas:**\n",
        "1. No modifique la declaración de la función. El concepto detras de las funciones se verá mas adelante.\n",
        "2. Si no sigue alguna de estas reglas, el ejercicio será marcado como erroneo.\n",
        "\n",
        "\n",
        "\\\n",
        "**Respuesta Esperada:**\n",
        "```python\n",
        "# Retorne lo solicitado en los pasos del ejercicio:\n",
        "return email, valor_feh, nombre\n",
        "\n",
        "```\n"
      ]
    },
    {
      "cell_type": "code",
      "execution_count": 7,
      "metadata": {
        "cellView": "form",
        "id": "4kZX3b9om0ah",
        "colab": {
          "base_uri": "https://localhost:8080/"
        },
        "outputId": "541c5f99-44f9-4649-df2a-8a601d9f454d"
      },
      "outputs": [
        {
          "output_type": "execute_result",
          "data": {
            "text/plain": [
              "('bootcamp_Python@gmail.com', [25, 10, 2019], 'Bootcamp.Python')"
            ]
          },
          "metadata": {},
          "execution_count": 7
        }
      ],
      "source": [
        "def function(diccionario):\n",
        "    # Tomar valor de email\n",
        "    email = diccionario.get('email', None)\n",
        "\n",
        "    # segundo valor de llave feh\n",
        "    # feh = diccionario['feh'][1]\n",
        "    clave_feh = 'feh'\n",
        "    feh = diccionario.get(clave_feh, None)\n",
        "\n",
        "    # Valor de llave nombre\n",
        "    nombre = diccionario.get('nombre', None)\n",
        "\n",
        "\n",
        "    return email, feh, nombre\n",
        "\n",
        "function({\n",
        "    'celular': 66656565,\n",
        "    'email': 'bootcamp_Python@gmail.com',\n",
        "    'feh': [25, 10, 2019],\n",
        "    'fn': [17, 11, 1987],\n",
        "    'nombre': 'Bootcamp.Python'\n",
        "})"
      ]
    },
    {
      "cell_type": "markdown",
      "metadata": {
        "id": "X2MS0NR_84d1"
      },
      "source": [
        "<p>\n",
        "    <img src=\"https://cdn.icon-icons.com/icons2/1130/PNG/512/numberzeroinacircle_80181.png\" alt=\"05\" width=\"65\" height=\"65\" />\n",
        "    <img src=\"https://cdn.icon-icons.com/icons2/1130/PNG/512/numberfiveincircularbutton_80245.png\" alt=\"05\" width=\"65\" height=\"65\" />\n",
        "</p>\n",
        "\n",
        "\n",
        "* **ID:** PYLVL1EDICT-05\n",
        "* **DESCRIPCIÓN:** Metodos para diccionarios.\n",
        "\n",
        "    Borrar elementos </br>\n",
        "    para borrar elementos de un diccionario se puede utilizar el keyword `del` o el metodo `.pop(llave)`\n",
        "\n",
        "    **Ejercicio:** <br/>\n",
        "    En el diccionario exrpesado dentro de la función `function` borre las llaves que desee, utilizando el keyword `del` o el metodo `.pop(llave)`\n",
        "\n",
        "\\\n",
        "**Reglas:**\n",
        "1. No modifique la declaración de la función. El concepto detras de las funciones se verá mas adelante.\n",
        "2. Si no sigue alguna de estas reglas, el ejercicio será marcado como erroneo.\n",
        "\n",
        "\\\n",
        "**Respuesta Esperada:**\n",
        "\n",
        "```python\n",
        "# Muestre y retorne el diccionario original y el modificado.\n",
        "print(diccionario_original, diccionario_modificado)\n",
        "return diccionario_original, diccionario_modificado\n",
        "\n",
        "```"
      ]
    },
    {
      "cell_type": "code",
      "execution_count": 8,
      "metadata": {
        "colab": {
          "base_uri": "https://localhost:8080/"
        },
        "id": "uOFtdgSu84d1",
        "outputId": "1b89157e-f17e-4381-9e73-215eaebffb13"
      },
      "outputs": [
        {
          "output_type": "stream",
          "name": "stdout",
          "text": [
            "{'nombre': 'nombre', 'dirección': 'direccion', 'teléfono': 'telefono', 'email': 'email', 'preferente': 'S'} {'dirección': 'direccion', 'teléfono': 'telefono', 'preferente': 'S'}\n"
          ]
        },
        {
          "output_type": "execute_result",
          "data": {
            "text/plain": [
              "({'nombre': 'nombre',\n",
              "  'dirección': 'direccion',\n",
              "  'teléfono': 'telefono',\n",
              "  'email': 'email',\n",
              "  'preferente': 'S'},\n",
              " {'dirección': 'direccion', 'teléfono': 'telefono', 'preferente': 'S'})"
            ]
          },
          "metadata": {},
          "execution_count": 8
        }
      ],
      "source": [
        "def function(__unused):\n",
        "\n",
        "    diccionario_original = {'nombre': 'nombre', 'dirección': 'direccion', 'teléfono': 'telefono', 'email': 'email', 'preferente': 'S'}\n",
        "    diccionario_modificado = diccionario_original.copy()\n",
        "    diccionario_modificado.pop('nombre')\n",
        "    diccionario_modificado.pop('email')\n",
        "\n",
        "    print(diccionario_original, diccionario_modificado)\n",
        "    return diccionario_original, diccionario_modificado\n",
        "\n",
        "\n",
        "function(None)"
      ]
    },
    {
      "cell_type": "markdown",
      "metadata": {
        "id": "4wQ9x9w484d2"
      },
      "source": [
        "<p>\n",
        "    <img src=\"https://cdn.icon-icons.com/icons2/1130/PNG/512/numberzeroinacircle_80181.png\" alt=\"06\" width=\"65\" height=\"65\" />\n",
        "    <img src=\"https://cdn.icon-icons.com/icons2/1130/PNG/512/numbersixinacircle_80203.png\" alt=\"06\" width=\"65\" height=\"65\" />\n",
        "</p>\n",
        "\n",
        "\n",
        "* **ID:** PYLVL1EDICT-06\n",
        "* **DESCRIPCIÓN:** Metodos para diccionarios.\n",
        "\n",
        "    `.values()`: Retorna los valores del diccionario. </br>\n",
        "    `.keys()`: Retorna las llaves del diccionario.   </br>\n",
        "    `.items()`: Retorna los elementos del diccionario, en una lista cuyos elementos son tuplas conteniendo la llave y valor de cada elemento del diccionario:\n",
        "    ```python\n",
        "    diccionario = {'a': 1, 'b': 2}\n",
        "    diccionario.items() # -> Retorna: [('a', 1), ('b', 2)]\n",
        "    ```\n",
        "\n",
        "    **Ejercicio:**<br/>\n",
        "    Dado un parametro `dicc` que contiene un diccionario predefinido, escribir dentro de la función ``function`` la lógica que retorne e imprima lo valores, los items, las llaves y obtenga el valor del ultimo item de la llave `fel`.\n",
        "\n",
        "    diccionario de ejemplo:\n",
        "    ```python\n",
        "    info = {\n",
        "        'contacto': {\n",
        "            'celular': 313138756,\n",
        "            'email': 'bootcamp@gmail.com',\n",
        "            'data': ['Softserve', 'Python', 'bootcamp'],\n",
        "            'fel': [1, 7, 2023]\n",
        "        },\n",
        "    'nombre': 'Sofserve.bootcamp'\n",
        "    }\n",
        "    ```\n",
        "\n",
        "\\\n",
        "**Reglas:**\n",
        "1. No modifique la declaración de la función. El concepto detras de las funciones se verá mas adelante.\n",
        "2. Si no sigue alguna de estas reglas, el ejercicio será marcado como erroneo.\n",
        "3. Muestre el diccionario original y el resultado, y solo retorne el resultado.\n",
        "\n",
        "\\\n",
        "**Respuesta Esperada:**\n",
        "\n",
        "```python\n",
        "# Muestre el diccionario original y el resultado, y solo retorne el resultado.\n",
        "print(diccionario_original)\n",
        "print(valores, items, llaves, valor_de_fel)\n",
        "return valores, items, llaves, valor_de_fel\n",
        "```"
      ]
    },
    {
      "cell_type": "code",
      "source": [
        "\n",
        "def function(dicc):\n",
        "    valores = dicc.values()\n",
        "    items = dicc.items()\n",
        "    llaves = dicc.keys()\n",
        "    valor_de_fel = dicc['contacto']['fel'][-1]\n",
        "\n",
        "    print(dicc)\n",
        "    print(valores, items, llaves, valor_de_fel)\n",
        "    return valores, items, llaves, valor_de_fel\n",
        "\n",
        "\n",
        "function(\n",
        "    {\n",
        "        'contacto': {\n",
        "            'celular': 313138756,\n",
        "            'email': 'bootcamp@gmail.com',\n",
        "            'data': ['Softserve', 'Python', 'bootcamp'],\n",
        "            'fel': [1, 7, 2023]\n",
        "        },\n",
        "        'nombre': 'Sofserve.bootcamp'\n",
        "    }\n",
        ")"
      ],
      "metadata": {
        "colab": {
          "base_uri": "https://localhost:8080/"
        },
        "id": "99ouv6K6x91A",
        "outputId": "6a5dcbc9-cfdf-4195-fcaa-816c0f2dc153"
      },
      "execution_count": 9,
      "outputs": [
        {
          "output_type": "stream",
          "name": "stdout",
          "text": [
            "{'contacto': {'celular': 313138756, 'email': 'bootcamp@gmail.com', 'data': ['Softserve', 'Python', 'bootcamp'], 'fel': [1, 7, 2023]}, 'nombre': 'Sofserve.bootcamp'}\n",
            "dict_values([{'celular': 313138756, 'email': 'bootcamp@gmail.com', 'data': ['Softserve', 'Python', 'bootcamp'], 'fel': [1, 7, 2023]}, 'Sofserve.bootcamp']) dict_items([('contacto', {'celular': 313138756, 'email': 'bootcamp@gmail.com', 'data': ['Softserve', 'Python', 'bootcamp'], 'fel': [1, 7, 2023]}), ('nombre', 'Sofserve.bootcamp')]) dict_keys(['contacto', 'nombre']) 2023\n"
          ]
        },
        {
          "output_type": "execute_result",
          "data": {
            "text/plain": [
              "(dict_values([{'celular': 313138756, 'email': 'bootcamp@gmail.com', 'data': ['Softserve', 'Python', 'bootcamp'], 'fel': [1, 7, 2023]}, 'Sofserve.bootcamp']),\n",
              " dict_items([('contacto', {'celular': 313138756, 'email': 'bootcamp@gmail.com', 'data': ['Softserve', 'Python', 'bootcamp'], 'fel': [1, 7, 2023]}), ('nombre', 'Sofserve.bootcamp')]),\n",
              " dict_keys(['contacto', 'nombre']),\n",
              " 2023)"
            ]
          },
          "metadata": {},
          "execution_count": 9
        }
      ]
    },
    {
      "cell_type": "markdown",
      "metadata": {
        "id": "j6T_LWWN84d3"
      },
      "source": [
        "<p>\n",
        "    <img src=\"https://cdn.icon-icons.com/icons2/1130/PNG/512/numberzeroinacircle_80181.png\" alt=\"07\" width=\"65\" height=\"65\" />\n",
        "    <img src=\"https://cdn.icon-icons.com/icons2/1130/PNG/512/numberseveninacircle_80279.png\" alt=\"07\" width=\"65\" height=\"65\" />\n",
        "</p>\n",
        "\n",
        "\n",
        "* **ID:** PYLVL1B-07\n",
        "* **DESCRIPCIÓN:** Creación dinamica de diccionarios.\n",
        "\n",
        "    Dados dos iterables (base de las listas, tuplas, deques, diccionarios, sets, ...) pasados como parametros, ambos de la misma longitud, escribir dentro de la función ``function`` la lógica para que genere un diccionario.\n",
        "\n",
        "\\\n",
        "**Reglas:**\n",
        "1. No modifique la declaración de la función. El concepto detras de las funciones se verá mas adelante.\n",
        "2. Si no sigue alguna de estas reglas, el ejercicio será marcado como erroneo.\n",
        "3. muestre las listas originales y el resultado, y solo retorne el resultado.\n",
        "\n",
        "\\\n",
        "**Respuesta Esperada:**\n",
        "\n",
        "```python\n",
        "# Muestre los objetos originales y el resultado, y solo retorne el resultado.\n",
        "print(diccionario_original)\n",
        "print(iter_1, iter_2)\n",
        "return diccionario\n",
        "```\n"
      ]
    },
    {
      "cell_type": "code",
      "execution_count": 10,
      "metadata": {
        "id": "jwPGrtxN84d3",
        "colab": {
          "base_uri": "https://localhost:8080/"
        },
        "outputId": "0961575d-b769-442d-b375-44353e6a3d49"
      },
      "outputs": [
        {
          "output_type": "stream",
          "name": "stdout",
          "text": [
            "[0, 1, 2, 3, 4] ['a', 'b', 'c', 'd', 'e']\n",
            "{0: 'a', 1: 'b', 2: 'c', 3: 'd', 4: 'e'}\n"
          ]
        },
        {
          "output_type": "execute_result",
          "data": {
            "text/plain": [
              "{0: 'a', 1: 'b', 2: 'c', 3: 'd', 4: 'e'}"
            ]
          },
          "metadata": {},
          "execution_count": 10
        }
      ],
      "source": [
        "# PYLVL1EDICT-7\n",
        "\n",
        "def function(iter_1, iter_2):\n",
        "    combinados = zip(iter_1, iter_2)\n",
        "    diccionario = dict(combinados)\n",
        "\n",
        "    print(iter_1, iter_2)\n",
        "    print(diccionario)\n",
        "    return diccionario\n",
        "\n",
        "\n",
        "function([0, 1, 2, 3, 4], ['a', 'b', 'c', 'd', 'e'])\n"
      ]
    },
    {
      "cell_type": "markdown",
      "metadata": {
        "id": "VZm2SYt084d3"
      },
      "source": [
        "<p>\n",
        "    <img src=\"https://cdn.icon-icons.com/icons2/1130/PNG/512/numberzeroinacircle_80181.png\" alt=\"08\" width=\"65\" height=\"65\" />\n",
        "    <img src=\"https://cdn.icon-icons.com/icons2/1130/PNG/512/numbereightinacircle_80071.png\" alt=\"08\" width=\"65\" height=\"65\" />\n",
        "</p>\n",
        "\n",
        "\n",
        "* **ID:** PYLVL1EDICT-08\n",
        "* **DESCRIPCIÓN:** Administración simplificada de diccionarios en memoria.\n",
        "\n",
        "    En este ejercicio se explorara como Python administra la memoria con los tipos de datos ``dict`` y como resolver problemas comunes que sucede con esta caracteristica.\n",
        "\n",
        "    Python se enfoca mas que todo en el menor uso de memoria _(leer el siguiente articulo para mayor detalle: [link](https://www.honeybadger.io/blog/memory-management-in-python/#:~:text=Memory%20management%20in%20Python%20involves,of%20memory%20to%20another%20process.))_ para encajar en cualquier tipo de ambiente de ejecución. Esto genera ciertos comportamientos cuando se declara, se reutiliza y se referencia un objeto complejo, en este caso los ``dict``.\n",
        "\n",
        "    Al crear un valor de tipo ``dict`` se crea una posición en memoria teniendo como puntero la varaible declarada, por lo que al referenciar ese variable como valor de otra variable, Python referencia a la misma posición en memoria, y esto significa que los cambios que se hagan en una de las variables se verá reflajado en la otra variable.\n",
        "\n",
        "    Esto se puede resolver al utilizar el metodo ``copy`` del que los tipo ``dict`` disponen. Este metodo genera el mismo valor en otra posición de memoria independiente a la inicial.\n",
        "\n",
        "    **Ejercicio**\n",
        "    1. Cree un diccionario y almacenelo en una variable.\n",
        "    2. Declare una segunda variable teniendo como valor la primera.\n",
        "    3. Modifique cualquiera de las dos variables y luego muestrelas con ``print``.\n",
        "    4. Cree otro diccionario y almacenelo en una tercera variable.\n",
        "    5. Declare una cuarta variable teniendo como valor la primera pero utilizando el metodo ``.copy()``de la tercera variable.\n",
        "    6. Modifique cualquiera de las dos anteriores variables y luego muestrelas con ``print``.\n",
        "\n",
        "    **Nota:** No debe retornar ningún valor.\n",
        "\n",
        "\\\n",
        "**Reglas:**\n",
        "1. Este ejercicio es netamente educativo para que entienda mejor el concepto expuesto.\n",
        "2. No modifique la declaración de la función, ni su invocación. El concepto detras de las funciones se verá mas adelante.\n",
        "3. Si no sigue alguna de estas reglas, el ejercicio será marcado como erroneo.\n"
      ]
    },
    {
      "cell_type": "code",
      "execution_count": 11,
      "metadata": {
        "id": "r7pNdkkr84d3",
        "colab": {
          "base_uri": "https://localhost:8080/"
        },
        "outputId": "00193d68-3f92-4caf-d08e-6aefe6c4fbf0"
      },
      "outputs": [
        {
          "output_type": "stream",
          "name": "stdout",
          "text": [
            "{'nombre': 'Elena', 'apellido': 'Correa', 'edad': 29, 'cargo': 'QA', 'seniority': 'senior'}\n",
            "{'nombre': 'Elena', 'apellido': 'Correa', 'edad': 29, 'cargo': 'QA', 'seniority': 'senior'}\n",
            "{'nombre': 'Andrés', 'apellido': 'Yepes', 'edad': 29, 'cargo': 'Desarrollador'}\n",
            "{'nombre': 'Andrés', 'apellido': 'Yepes', 'edad': 29, 'cargo': 'Desarrollador', 'seniority': 'mid'}\n"
          ]
        }
      ],
      "source": [
        "def function(__unused):\n",
        "    # Este ejercicio es educativo por lo que no sera evaluable...\n",
        "    # Crear diccionario\n",
        "    diccionario = {\"nombre\": \"Elena\",\n",
        "                   \"apellido\": \"Correa\",\n",
        "                   \"edad\": 29,\n",
        "                   \"cargo\": \"QA\"}\n",
        "\n",
        "    # print(diccionario)\n",
        "\n",
        "    # Declarar segunda variable\n",
        "    diccionario2 = diccionario\n",
        "    # print(diccionario2)\n",
        "\n",
        "    # Modificar variable\n",
        "    diccionario2[\"seniority\"] = \"senior\"\n",
        "    print(diccionario2)\n",
        "    print(diccionario)\n",
        "\n",
        "    # Tercer diccionario\n",
        "    diccionario3 = {\"nombre\": \"Andrés\",\n",
        "                   \"apellido\": \"Yepes\",\n",
        "                   \"edad\": 29,\n",
        "                   \"cargo\": \"Desarrollador\"}\n",
        "\n",
        "    # print(diccionario3)\n",
        "\n",
        "    # Copiar el tercer diccionario\n",
        "    diccionario4 = diccionario3.copy()\n",
        "    # print(diccionario4)\n",
        "\n",
        "    # Modificar variable\n",
        "    diccionario4[\"seniority\"] = \"mid\"\n",
        "    print(diccionario3)\n",
        "    print(diccionario4)\n",
        "\n",
        "\n",
        "function(None)"
      ]
    },
    {
      "cell_type": "markdown",
      "metadata": {
        "id": "LIHUn3j384d4"
      },
      "source": [
        "<p>\n",
        "    <img src=\"https://cdn.icon-icons.com/icons2/1130/PNG/512/numberzeroinacircle_80181.png\" alt=\"09\" width=\"65\" height=\"65\" />\n",
        "    <img src=\"https://cdn.icon-icons.com/icons2/1130/PNG/512/numbernineinacircle_80218.png\" alt=\"09\" width=\"65\" height=\"65\" />\n",
        "</p>\n",
        "\n",
        "* **ID:** PYLVL1EDICT-09\n",
        "* **DESCRIPCIÓN:** Lógica detrás de la asignación de llaves y localización de valores en diccionarios.\n",
        "\n",
        "    Este ejercicio tiene el proposito de explicar de manera global el funcionamiento interno de los tipos de dato ``dict``.\n",
        "\n",
        "    Un diccionario o ``dict`` es una coleción de elementos en formato llave-valor, lo que significa que cada elemento almacena un valor locazible por una llave declarada, de manera no secuencial. Para ello la llave debe tener la capacidad de pasar por una operación que se llama ``hashing``.\n",
        "\n",
        "    El valor que se pase como llave cuando va a ser incorporado por un diccionario pasa por una serie de operaciones matematicas y criptografica para así generar un valor binario unico o lo que se llama un ``hash``, esto se hace con el fin de que el objeto se convierta en un apuntador en memoria donde se encontrar almacenado el valor que localiza la llave.\n",
        "\n",
        "    **Ejemplo:**\n",
        "    Un diccionario se puede ver como un vecindario, donde los valores del vecindario son las casas y las llaves son las direcciones que apuntan a esas casas.\n",
        "\n",
        "    Del anterior ejemplo, se puede denotar a las casas como cualquier tipo de dato, sea complejo o tradicional, y las direcciones como valores estrictamente tradicionales o **hashables** que pueden ser satisfactoriamente convertidos y reproducibles como un tipo de valor unico, en este caso un ``hash`` expresado en binario. Esto no quiere decir que se puedan almacenar dos valores distintos utilizando el mismo valor como llave, ya que el ``hash`` utiliza el contenido de ese valor para retornar el valor binario representado en un numero entero, de ahi la palabra reproducibles.\n",
        "\n",
        "    **Ejercicio:**\n",
        "    1. Cree una lista cualquiera y almacenela en una variable.\n",
        "    2. Cree una variable y otorgue como valor en cualquier tipo de dato tradicional: ``bool``, ``int``, ``float``, ``str``\n",
        "    3. Dentro del primer try-except, ejecute:\n",
        "    1. ``print(hash(``<<'la segunda variable'>>``))``\n",
        "    2. ``print(hash(``<<'la primera variable'>>``))``\n",
        "    4. Cree un diccionario teniendo como llave la segunda variable y valor cualquiera, imprimalo.\n",
        "    5. Dentro del segundo try-except, cree un diccionario teniendo como llave la primera variable.\n",
        "\n",
        "    Evidenciara que las comandos donde utilizo la primera variable se va a mostrar un error, demostrando que ese tipo de dato no es ``hashable``.\n",
        "\n",
        "    **Nota:** No debe retornar ningún valor.\n",
        "\n",
        "\\\n",
        "**Reglas:**\n",
        "1. Este ejercicio es netamente educativo para que entienda mejor el concepto expuesto.\n",
        "2. No modifique la declaración de la función, ni su invocación. El concepto detras de las funciones se verá mas adelante.\n",
        "3. No modifique los try-except. El concepto detras de los try-except se verá mas adelante en manejo de excepciones.\n",
        "4. Dentro de los try-except solo agregue codigo donde el comentario le indique.\n",
        "5. Si no sigue alguna de estas reglas, el ejercicio será marcado como erroneo.\n"
      ]
    },
    {
      "cell_type": "code",
      "execution_count": 12,
      "metadata": {
        "id": "QSO464eO84d4",
        "colab": {
          "base_uri": "https://localhost:8080/"
        },
        "outputId": "b31e3a89-48a2-4175-e205-fce181170a15"
      },
      "outputs": [
        {
          "output_type": "stream",
          "name": "stdout",
          "text": [
            "hash de variable_2 = llave -> 3283889784547959279\n",
            "TypeError: unhashable type: 'list' -> [1, 2]\n",
            "diccionario 1: {'llave': 'Any'}\n",
            "TypeError: unhashable type: 'list' -> [1, 2]\n"
          ]
        }
      ],
      "source": [
        "\n",
        "def function(__unused):\n",
        "    # Este ejercicio es educativo por lo que no sera evaluable...\n",
        "    \"\"\"Declare sus variables aqui ...\"\"\"\n",
        "    variable_1 = [1, 2]\n",
        "    variable_2 = 'llave'\n",
        "    try:\n",
        "        # Validar hashes\n",
        "        \"\"\"Escriba su codigo aqui...\"\"\"\n",
        "        print(f\"hash de variable_2 = {variable_2} ->\", hash(variable_2))\n",
        "        print(f\"hash de variable_1 = {variable_1} ->\", hash(variable_1))\n",
        "    except TypeError as ex:\n",
        "        print(f\"{ex.__class__.__name__}:\", ex, '->', variable_1)\n",
        "\n",
        "    # Validar comportamiento de las llaves dependiendo del tipo de dato.\n",
        "    \"\"\"Declare e imprima su primer diccionario aqui...\"\"\"\n",
        "    dict_1 = {variable_2: 'Any'}\n",
        "    print(\"diccionario 1:\", dict_1)\n",
        "    try:\n",
        "        \"\"\"Declare e imprima su segundo diccionario aqui...\"\"\"\n",
        "        dict_2 = {variable_1: 'Any'}\n",
        "        print(\"diccionario 2:\", dict_2)\n",
        "    except TypeError as ex:\n",
        "        print(f\"{ex.__class__.__name__}:\", ex, '->', variable_1)\n",
        "\n",
        "\n",
        "function(None)"
      ]
    },
    {
      "cell_type": "markdown",
      "metadata": {
        "id": "1Fx6INAg84d4"
      },
      "source": [
        "<p>\n",
        "    <img src=\"https://cdn.icon-icons.com/icons2/1130/PNG/512/numberoneinacircle_80030.png\" alt=\"10\" width=\"65\" height=\"65\" />\n",
        "    <img src=\"https://cdn.icon-icons.com/icons2/1130/PNG/512/numberzeroinacircle_80181.png\" alt=\"10\" width=\"65\" height=\"65\" />\n",
        "</p>\n",
        "\n",
        "\n",
        "* **ID:** PYLVL1EDICT-10\n",
        "* **DESCRIPCIÓN:** Operaciones con multiples diccionarios.\n",
        "\n",
        "    Dentro de la función ``function`` cree dos diccionarios distintos, luego cree un tercer diccionario a partir de la copia de uno de los primeros, luego agregue el diccionario que no copió al tercer diccionario en una sola linea de codigo.\n",
        "\n",
        "\\\n",
        "**Reglas:**\n",
        "1. Este ejercicio es netamente educativo para que entienda mejor el concepto expuesto.\n",
        "2. No modifique la declaración de la función. El concepto detras de las funciones se verá mas adelante.\n",
        "3. Si no sigue alguna de estas reglas, el ejercicio será marcado como erroneo.\n",
        "4. Retorne los diccionarios en secuencia.\n",
        "5. Imprima los resultados de cada uno de los pasos que realizó para llegar al resultado.\n",
        "\n",
        "\\\n",
        "**Respuesta Esperada:**\n",
        "\n",
        "```python\n",
        "# Imprima los resultados de cada uno de los pasos que realizó para llegar al resultado.\n",
        "paso...\n",
        "print(resultado_paso)\n",
        "...\n",
        "\n",
        "# Retorne los diccionarios en secuencia.\n",
        "return dict_1, dict_2, dict_3\n",
        "\n",
        "```"
      ]
    },
    {
      "cell_type": "code",
      "execution_count": 13,
      "metadata": {
        "id": "2UKe60az84d5",
        "colab": {
          "base_uri": "https://localhost:8080/"
        },
        "outputId": "95dc705c-8637-4247-c55c-37d86ffcd80f"
      },
      "outputs": [
        {
          "output_type": "stream",
          "name": "stdout",
          "text": [
            "diccionario 1: {'nombre': 'Elena', 'apellido': 'Correa', 'edad': 29, 'cargo': 'QA'}\n",
            "diccionario 2: {'hijos': 'no', 'num_hijos': 0, 'estado_civil': 'casado'}\n",
            "diccionario 3: {'hijos': 'no', 'num_hijos': 0, 'estado_civil': 'casado'}\n",
            "diccionario 3 anidado con el 1: {'hijos': 'no', 'num_hijos': 0, 'estado_civil': 'casado', 'nombre': 'Elena', 'apellido': 'Correa', 'edad': 29, 'cargo': 'QA'}\n"
          ]
        },
        {
          "output_type": "execute_result",
          "data": {
            "text/plain": [
              "({'nombre': 'Elena', 'apellido': 'Correa', 'edad': 29, 'cargo': 'QA'},\n",
              " {'hijos': 'no', 'num_hijos': 0, 'estado_civil': 'casado'},\n",
              " {'hijos': 'no',\n",
              "  'num_hijos': 0,\n",
              "  'estado_civil': 'casado',\n",
              "  'nombre': 'Elena',\n",
              "  'apellido': 'Correa',\n",
              "  'edad': 29,\n",
              "  'cargo': 'QA'})"
            ]
          },
          "metadata": {},
          "execution_count": 13
        }
      ],
      "source": [
        "def function(__unused):\n",
        "    # Creación de diccionarios\n",
        "    diccionario1 = {\"nombre\": \"Elena\",\n",
        "                   \"apellido\": \"Correa\",\n",
        "                   \"edad\": 29,\n",
        "                   \"cargo\": \"QA\"}\n",
        "\n",
        "    print(\"diccionario 1:\", diccionario1)\n",
        "\n",
        "    diccionario2 = {\"hijos\": \"no\",\n",
        "                   \"num_hijos\": 0,\n",
        "                   \"estado_civil\": \"casado\"}\n",
        "\n",
        "    print(\"diccionario 2:\", diccionario2)\n",
        "\n",
        "    # Tercer diccionario a partir de la copia de uno de los primeros\n",
        "    diccionario3 = diccionario2.copy()\n",
        "    print(\"diccionario 3:\", diccionario3)\n",
        "\n",
        "    # Agregar diccionario no copiado a diccionario 3\n",
        "    diccionario3.update(diccionario1)\n",
        "    print(\"diccionario 3 anidado con el 1:\", diccionario3)\n",
        "\n",
        "\n",
        "    return diccionario1, diccionario2, diccionario3\n",
        "\n",
        "\n",
        "function(None)"
      ]
    }
  ],
  "metadata": {
    "colab": {
      "provenance": [],
      "include_colab_link": true
    },
    "kernelspec": {
      "display_name": "Python 3",
      "name": "python3"
    },
    "language_info": {
      "codemirror_mode": {
        "name": "ipython",
        "version": 3
      },
      "file_extension": ".py",
      "mimetype": "text/x-python",
      "name": "python",
      "nbconvert_exporter": "python",
      "pygments_lexer": "ipython3",
      "version": "3.9.12"
    }
  },
  "nbformat": 4,
  "nbformat_minor": 0
}