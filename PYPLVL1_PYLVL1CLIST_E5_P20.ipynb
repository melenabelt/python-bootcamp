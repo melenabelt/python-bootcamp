{
  "cells": [
    {
      "cell_type": "markdown",
      "metadata": {
        "id": "view-in-github",
        "colab_type": "text"
      },
      "source": [
        "<a href=\"https://colab.research.google.com/github/melenabelt/python-bootcamp/blob/master/PYPLVL1_PYLVL1CLIST_E5_P20.ipynb\" target=\"_parent\"><img src=\"https://colab.research.google.com/assets/colab-badge.svg\" alt=\"Open In Colab\"/></a>"
      ]
    },
    {
      "cell_type": "markdown",
      "metadata": {
        "id": "niVRBd5c0DOZ"
      },
      "source": [
        "<p><img src=\"https://upload.wikimedia.org/wikipedia/commons/thumb/1/13/SoftServe_logo_2017.svg/179px-SoftServe_logo_2017.svg.png?20220507181101\" alt=\"\" width=\"363\" height=\"63\" /></p>\n",
        "\n",
        "----\n",
        "\n",
        "### **INFORMACIÓN TECNICA**\n",
        "* **ID:** PYPLVL1_PYLVL1CLIST_E5_P20\n",
        "* **Python Versión:** 3.x\n",
        "* **Versión:** 0.0.1\n",
        "\n",
        "---\n",
        "### **INTRODUCCIÓN**\n",
        "\n",
        "En Python, una lista es una estructura de datos versátil y fundamental utilizada para almacenar una colección de elementos. Es una secuencia ordenada de elementos que pueden ser de cualquier tipo de dato, como enteros, cadenas e incluso otras listas. Las listas son mutables, lo que significa que puedes modificar sus elementos después de haber sido creadas.\n",
        "\n",
        "Las listas son increíblemente útiles para manejar colecciones de datos y desempeñan un papel significativo en la programación en Python debido a su flexibilidad y facilidad de uso.\n",
        "\n",
        "### **QUE SE APRENDERA**\n",
        "\n",
        "  - Crear una lista:\n",
        "    Para crear una lista en Python, se utilizan corchetes [] y se separan los elementos con comas. Por ejemplo:\n",
        "\n",
        "    ```python\n",
        "    mi_lista = [1, 2, 3, 4, 5]\n",
        "\n",
        "    ```\n",
        "\n",
        "  - Acceder a los elementos:\n",
        "    Puedes acceder a los elementos de una lista utilizando su índice. Python utiliza indexación basada en cero, por lo que el primer elemento está en el índice 0, el segundo elemento en el índice 1, y así sucesivamente. Para acceder a un elemento, utiliza corchetes con el índice:\n",
        "    ```python\n",
        "    primer_elemento = mi_lista[0]  # Esto será 1\n",
        "    segundo_elemento = mi_lista[1]  # Esto será 2\n",
        "\n",
        "    ```\n",
        "\n",
        "  - Modificar elementos:\n",
        "    Las listas son mutables, por lo que puedes cambiar el valor de los elementos utilizando su índice:\n",
        "\n",
        "    ```python\n",
        "    mi_lista[2] = 10  # Cambia el tercer elemento a 10\n",
        "\n",
        "    ```\n",
        "\n",
        "  - Rebanado de listas:\n",
        "    También puedes extraer una porción de una lista utilizando rebanado. El rebanado te permite obtener una sublista basada en un rango específico de índices:\n",
        "    ```python\n",
        "    sub_lista = mi_lista[1:4]  # Esto crea una nueva lista [2, 10, 4]\n",
        "\n",
        "    ```\n",
        "\n",
        "  - Métodos de listas:\n",
        "    Python proporciona varios métodos integrados para manipular listas. Algunos métodos comunes incluyen:\n",
        "    ```python\n",
        "    mi_lista.append(6)         # Agrega 6 al final de la lista\n",
        "    mi_lista.insert(2, 7)      # Inserta 7 en el índice 2\n",
        "    mi_lista.remove(3)         # Elimina la primera aparición de 3\n",
        "    mi_lista.pop()             # Elimina el último elemento y lo devuelve\n",
        "    len(mi_lista)              # Devuelve el número de elementos en la lista\n",
        "\n",
        "    ```\n",
        "\n",
        "  - Concatenación de listas:\n",
        "    Puedes combinar dos listas usando el operador `+` para crear una nueva lista:\n",
        "    ```python\n",
        "    lista1 = [1, 2, 3]\n",
        "    lista2 = [4, 5, 6]\n",
        "    lista_combinada = lista1 + lista2  # Resulta en [1, 2, 3, 4, 5, 6]\n",
        "\n",
        "    ```\n",
        "\n",
        "\n",
        "# **EJERCICIOS**"
      ]
    },
    {
      "cell_type": "markdown",
      "metadata": {
        "id": "dk-653Js0DOc"
      },
      "source": [
        "<p>\n",
        "    <img src=\"https://cdn.icon-icons.com/icons2/1130/PNG/512/numberzeroinacircle_80181.png\" alt=\"01\" width=\"65\" height=\"65\" />\n",
        "    <img src=\"https://cdn.icon-icons.com/icons2/1130/PNG/512/numberoneinacircle_80030.png\" alt=\"01\" width=\"65\" height=\"65\" />\n",
        "</p>\n",
        "\n",
        "\n",
        "\n",
        "* **ID:** PYLVL1CLIST-01\n",
        "* **DESCRIPCIÓN:** Operaciones con listas.\n",
        "\n",
        "    Dada un parametro `lista` que contiene una lista de N elementos, escribir dentro de la función ``function`` la lógica que permita retornar los elementos en indices impares de la primera mitad de la lista.\n",
        "\n",
        "    **Condición:** Solo puede utilizar las propiedades y funcionalidades embebidas en el tipo de dato lista.\n",
        "\n",
        "\\\n",
        "**Reglas:**\n",
        "1. No modifique la declaración de la función. El concepto detras de las funciones se verá mas adelante.\n",
        "2. Si no sigue alguna de estas reglas, el ejercicio será marcado como erroneo.\n",
        "\n",
        "\\\n",
        "**Respuesta Esperada**\n",
        "\n",
        "```python\n",
        "return lista\n",
        "```\n"
      ]
    },
    {
      "cell_type": "code",
      "execution_count": 1,
      "metadata": {
        "colab": {
          "base_uri": "https://localhost:8080/"
        },
        "id": "WxAgKaY-0DOc",
        "outputId": "622b435d-f2b9-4689-83c5-528c139e7b91"
      },
      "outputs": [
        {
          "output_type": "execute_result",
          "data": {
            "text/plain": [
              "[1, 3, 5, 7, 9, 11, 13, 15]"
            ]
          },
          "metadata": {},
          "execution_count": 1
        }
      ],
      "source": [
        "def function(lista):\n",
        "    # print(lista)\n",
        "    mitad = len(lista) // 2\n",
        "    impares = lista[:mitad:2]\n",
        "    return impares\n",
        "\n",
        "\n",
        "function([1,2,3,4,5,6,7,8,9,10,11,12,13,14,15,16,17,18,19,20,21,22,23,24,25,26,27,28,29,30])"
      ]
    },
    {
      "cell_type": "markdown",
      "metadata": {
        "id": "il3IAN7P0DOd"
      },
      "source": [
        "<p>\n",
        "    <img src=\"https://cdn.icon-icons.com/icons2/1130/PNG/512/numberzeroinacircle_80181.png\" alt=\"02\" width=\"65\" height=\"65\" />\n",
        "    <img src=\"https://cdn.icon-icons.com/icons2/1130/PNG/512/numbertwoinacircle_80299.png\" alt=\"02\" width=\"65\" height=\"65\" />\n",
        "</p>\n",
        "\n",
        "* **ID:** PYLVL1CLIST-02\n",
        "* **DESCRIPCIÓN:** Operaciones con listas y concatenación multiple.\n",
        "\n",
        "    Dada una lista de N >= 50 elementos, escribir dentro de la función ``function`` la lógica para ejecutar lo siguiente:\n",
        "    1. Para el primer cuarto de la lista invertir la posicion de los elementos.\n",
        "    2. Para el segundo cuarto de la lista, identificar los valores maximo y minimo.\n",
        "    3. Para la tercer cuarto de la lista reemplazar todos los elementos por 'NN'.\n",
        "    4. Para el ultimo cuarto de la lista solo tomar los elementos en posiciones pares.\n",
        "    5. Concatenar las listas resultantes en una sola.\n",
        "\n",
        "    Retornar la lista resultante.\n",
        "\n",
        "\\\n",
        "**Reglas:**\n",
        "1. No modifique la declaración de la función. El concepto detras de las funciones se verá mas adelante.\n",
        "2. Si no sigue alguna de estas reglas, el ejercicio será marcado como erroneo.\n",
        "\n",
        "\\\n",
        "**Respuesta Esperada**\n",
        "\n",
        "```python\n",
        "return lista_concatenada\n",
        "```"
      ]
    },
    {
      "cell_type": "code",
      "execution_count": 2,
      "metadata": {
        "colab": {
          "base_uri": "https://localhost:8080/"
        },
        "id": "cpSpn28i0DOd",
        "outputId": "459adac5-3835-4974-8398-ee7f0f0817d7"
      },
      "outputs": [
        {
          "output_type": "stream",
          "name": "stdout",
          "text": [
            "[40, 42, 44, 46, 48, 50]\n"
          ]
        },
        {
          "output_type": "execute_result",
          "data": {
            "text/plain": [
              "[12,\n",
              " 11,\n",
              " 10,\n",
              " 9,\n",
              " 8,\n",
              " 7,\n",
              " 6,\n",
              " 5,\n",
              " 4,\n",
              " 3,\n",
              " 2,\n",
              " 1,\n",
              " 24,\n",
              " 13,\n",
              " 'NN',\n",
              " 'NN',\n",
              " 'NN',\n",
              " 'NN',\n",
              " 'NN',\n",
              " 'NN',\n",
              " 'NN',\n",
              " 'NN',\n",
              " 'NN',\n",
              " 'NN',\n",
              " 'NN',\n",
              " 'NN',\n",
              " 40,\n",
              " 42,\n",
              " 44,\n",
              " 46,\n",
              " 48,\n",
              " 50]"
            ]
          },
          "metadata": {},
          "execution_count": 2
        }
      ],
      "source": [
        "def function(lista):\n",
        "    # Primer cuarto\n",
        "    cuarto = len(lista) // 4\n",
        "    invertir = lista[(cuarto - 1)::-1]\n",
        "    # print(invertir)\n",
        "\n",
        "    # Segundo cuarto\n",
        "    segundo_cuarto = lista[(cuarto):(cuarto * 2):]\n",
        "    max_segundo_cuarto: int = max(segundo_cuarto)\n",
        "    min_segundo_cuarto: int = min(segundo_cuarto)\n",
        "    segundo_cuarto = [max_segundo_cuarto, min_segundo_cuarto]\n",
        "    # print(segundo_cuarto)\n",
        "\n",
        "    # Tercer cuarto\n",
        "    tercer_cuarto = lista[(cuarto * 2):(cuarto * 3):]\n",
        "    tercer_cuarto_copy = tercer_cuarto.copy()\n",
        "    tercer_cuarto_copy = [\"NN\"] * len(tercer_cuarto)\n",
        "    # print(tercer_cuarto_copy)\n",
        "\n",
        "    # Cuarto cuarto\n",
        "    # cuarto_cuarto = lista[((cuarto * 3))::2]\n",
        "    cuarto_cuarto = lista[(len(lista) - cuarto) + 1::2]\n",
        "\n",
        "    print(cuarto_cuarto)\n",
        "\n",
        "    lista_final = invertir + segundo_cuarto + tercer_cuarto_copy + cuarto_cuarto\n",
        "    # print(lista_final)\n",
        "\n",
        "\n",
        "    return lista_final\n",
        "\n",
        "\n",
        "# # function(list(range(1, 61, 1)))\n",
        "# function(list(range(1, 95, 1)))\n",
        "function(list(range(1, 51, 1)))\n",
        "\n"
      ]
    },
    {
      "cell_type": "markdown",
      "metadata": {
        "id": "HTOhdate0DOe"
      },
      "source": [
        "<p>\n",
        "    <img src=\"https://cdn.icon-icons.com/icons2/1130/PNG/512/numberzeroinacircle_80181.png\" alt=\"03\" width=\"65\" height=\"65\" />\n",
        "    <img src=\"https://cdn.icon-icons.com/icons2/1130/PNG/512/numberthreeinacircle_80289.png\" alt=\"03\" width=\"65\" height=\"65\" />\n",
        "</p>\n",
        "\n",
        "\n",
        "\n",
        "* **ID:** PYLVL1CLIST-03\n",
        "* **DESCRIPCIÓN:**\n",
        "\n",
        "    Dado el siguiente string de ejemplo '1234567890', Escribir dentro de la función ``function`` la lógica para organizar los numeros dentro del string y retorne:<br/>\n",
        "    Ejemplo:\n",
        "    * string1 -> '0123456789'\n",
        "    * string2 -> '9876543210'\n",
        "\n",
        "\\\n",
        "**Reglas:**\n",
        "1. No modifique la declaración de la función. El concepto detras de las funciones se verá mas adelante.\n",
        "2. Si no sigue alguna de estas reglas, el ejercicio será marcado como erroneo.\n",
        "\n",
        "\\\n",
        "**Respuesta Esperada**\n",
        "```python\n",
        "    return result_1, result_2\n",
        "```"
      ]
    },
    {
      "cell_type": "code",
      "execution_count": 3,
      "metadata": {
        "id": "HsyfYxEY0DOe",
        "colab": {
          "base_uri": "https://localhost:8080/"
        },
        "outputId": "f4f98956-7ea1-4ecd-c955-2dbca368917c"
      },
      "outputs": [
        {
          "output_type": "execute_result",
          "data": {
            "text/plain": [
              "('0123456789', '9876543210')"
            ]
          },
          "metadata": {},
          "execution_count": 3
        }
      ],
      "source": [
        "def function(valor):\n",
        "    lista = []\n",
        "    lista[:0] = valor\n",
        "    lista_menor = sorted(lista)\n",
        "    str_menor = ''.join(lista_menor)\n",
        "    # print(str_menor)\n",
        "    lista_mayor = sorted(lista, reverse=True)\n",
        "    str_mayor = ''.join(lista_mayor)\n",
        "    # print(str_mayor)\n",
        "\n",
        "    return str_menor, str_mayor\n",
        "\n",
        "function('1234567890')"
      ]
    },
    {
      "cell_type": "markdown",
      "metadata": {
        "id": "gInPR3rx0DOe"
      },
      "source": [
        "<p>\n",
        "    <img src=\"https://cdn.icon-icons.com/icons2/1130/PNG/512/numberzeroinacircle_80181.png\" alt=\"04\" width=\"65\" height=\"65\" />\n",
        "    <img src=\"https://cdn.icon-icons.com/icons2/1130/PNG/512/numberfourincircularbutton_80047.png\" alt=\"04\" width=\"65\" height=\"65\" />\n",
        "</p>\n",
        "\n",
        "* **ID:** PYLVL1CLIST-04\n",
        "* **DESCRIPCIÓN:** Tratamiento de string como listas.\n",
        "\n",
        "    Dado un  parametro ``string`` con caracteres de tamaño N y un parametro ``n`` que indica el numero de saltos dentro del string, escribir dentro de la función ``function`` la lógica para ejecutar lo siguiente:\n",
        "    1. Elimine el primer y ultimo elemento.\n",
        "    2. Saque los caracteres en saltos de ``n`` pasos no mayores a la mitad del tamaño total de la lista.\n",
        "    3. Organice de manera ascedente los caracteres restantes.\n",
        "\n",
        "\\\n",
        "**Reglas:**\n",
        "1. No modifique la declaración de la función. El concepto detras de las funciones se verá mas adelante.\n",
        "2. Si no sigue alguna de estas reglas, el ejercicio será marcado como erroneo.\n",
        "\n",
        "\\\n",
        "**Respuesta Esperada**\n",
        "```python\n",
        "return result_string\n",
        "```\n"
      ]
    },
    {
      "cell_type": "code",
      "execution_count": 4,
      "metadata": {
        "id": "dIrB4ar40DOe",
        "colab": {
          "base_uri": "https://localhost:8080/",
          "height": 162
        },
        "outputId": "4abb3985-468d-45ae-f2b9-c4bb9fccc160"
      },
      "outputs": [
        {
          "output_type": "stream",
          "name": "stdout",
          "text": [
            "['A', 'b', 'c', '2', '3', '5', '4', '3', '5', '7', '8', '6', 's', 't', 'r', 'z', 'h']\n",
            "['b', 'c', '2', '3', '5', '4', '3', '5', '7', '8', '6', 's', 't', 'r', 'z']\n",
            "7\n",
            "['b', '2', '5', '3', '7', '6', 't', 'z']\n",
            "['b', '2', '5', '3', '7', '6', 't']\n",
            "['2', '3', '5', '6', '7', 'b', 't']\n",
            "23567bt\n"
          ]
        },
        {
          "output_type": "execute_result",
          "data": {
            "text/plain": [
              "'23567bt'"
            ],
            "application/vnd.google.colaboratory.intrinsic+json": {
              "type": "string"
            }
          },
          "metadata": {},
          "execution_count": 4
        }
      ],
      "source": [
        "def function(string, n):\n",
        "    lista: list = []\n",
        "    lista[:] = string\n",
        "\n",
        "    # Eliminar primer y último elemento\n",
        "    lista_nueva = lista[1:-1]\n",
        "    mitad_lista_nueva = len(lista_nueva) // 2\n",
        "\n",
        "    print(lista)\n",
        "    print(lista_nueva)\n",
        "    print(mitad_lista_nueva)\n",
        "\n",
        "    # Sacar caracteres en saltos de n pasos\n",
        "    lista_nueva = lista_nueva[::n]\n",
        "    print(lista_nueva)\n",
        "\n",
        "    # Nos aseguramos de que su longitud no sea mayor a la mitad de la segunda lista\n",
        "    lista_nueva = lista_nueva[:mitad_lista_nueva:]\n",
        "    print(lista_nueva)\n",
        "\n",
        "    # Organizar de manera ascendente los caracteres restantes\n",
        "    lista_ordenada = sorted(lista_nueva)\n",
        "    print(lista_ordenada)\n",
        "    str_resultante = ''.join(lista_ordenada)\n",
        "    print(str_resultante)\n",
        "\n",
        "\n",
        "    return str_resultante\n",
        "\n",
        "\n",
        "function('Abc235435786strzh', 2)"
      ]
    },
    {
      "cell_type": "markdown",
      "metadata": {
        "id": "mCSSoa-e0DOf"
      },
      "source": [
        "<p>\n",
        "    <img src=\"https://cdn.icon-icons.com/icons2/1130/PNG/512/numberzeroinacircle_80181.png\" alt=\"05\" width=\"65\" height=\"65\" />\n",
        "    <img src=\"https://cdn.icon-icons.com/icons2/1130/PNG/512/numberfiveincircularbutton_80245.png\" alt=\"05\" width=\"65\" height=\"65\" />\n",
        "</p>\n",
        "\n",
        "\n",
        "* **ID:** PYLVL1CLIST-05\n",
        "* **DESCRIPCIÓN:** Operaciones con listas y strings.\n",
        "\n",
        "    Dada la siguiente lista de strings, Escribir dentro de la función ``function`` la lógica que encuentre la posición global de la primera ocurrencia dado un valor `string`.\n",
        "\n",
        "    ```python\n",
        "    lista = ['DEFG', 'ROJO', 'AZUL', 'verde', 'hfabcF', 'ABC', 'amarilloROJOVERde', 'verde limon', 'defqwrwet']\n",
        "    ```\n",
        "\n",
        "    **Condición**: todas las ocurrencias independiente de si es mayuscula o minuscula.\n",
        "\n",
        "    Retorne la posicion de la primera ocurrencia e imprima cada uno de los pasos que realizó para llegar al resultado, si lo considera necesario.\n",
        "\n",
        "\\\n",
        "**Reglas:**\n",
        "1. No modifique la declaración de la función. El concepto detras de las funciones se verá mas adelante.\n",
        "2. Si no sigue alguna de estas reglas, el ejercicio será marcado como erroneo.\n",
        "\n",
        "\\\n",
        "**Respuesta Esperada**\n",
        "```python\n",
        "return primera_ocurrencia\n",
        "```\n"
      ]
    },
    {
      "cell_type": "code",
      "execution_count": 5,
      "metadata": {
        "id": "-m-osBFe0DOg",
        "colab": {
          "base_uri": "https://localhost:8080/"
        },
        "outputId": "25309035-1ae3-47b2-e24d-cd029456a5e2"
      },
      "outputs": [
        {
          "output_type": "stream",
          "name": "stdout",
          "text": [
            "defgrojoazulverdehfabcfabcamarillorojoverdeverde limondefqwrwet\n",
            "19\n"
          ]
        },
        {
          "output_type": "execute_result",
          "data": {
            "text/plain": [
              "19"
            ]
          },
          "metadata": {},
          "execution_count": 5
        }
      ],
      "source": [
        "lista = ['DEFG', 'ROJO', 'AZUL', 'verde', 'hfabcF', 'ABC', 'amarilloROJOVERde', 'verde limon', 'defqwrwet']\n",
        "\n",
        "def function(lista, string):\n",
        "    lista_string: list = ''.join(lista)\n",
        "    lista_minus = lista_string.lower()\n",
        "    print(lista_minus)\n",
        "\n",
        "    pos_ocurrencia = lista_minus.find(string.lower())\n",
        "    print(pos_ocurrencia)\n",
        "\n",
        "    return pos_ocurrencia\n",
        "\n",
        "function(lista, 'abc')"
      ]
    }
  ],
  "metadata": {
    "kernelspec": {
      "display_name": "evaluator-WNwgce54-py3.9",
      "language": "python",
      "name": "python3"
    },
    "language_info": {
      "codemirror_mode": {
        "name": "ipython",
        "version": 3
      },
      "file_extension": ".py",
      "mimetype": "text/x-python",
      "name": "python",
      "nbconvert_exporter": "python",
      "pygments_lexer": "ipython3",
      "version": "3.9.12"
    },
    "orig_nbformat": 4,
    "colab": {
      "provenance": [],
      "include_colab_link": true
    }
  },
  "nbformat": 4,
  "nbformat_minor": 0
}